{
 "cells": [
  {
   "cell_type": "markdown",
   "metadata": {
    "id": "LDlKWa33uj-A"
   },
   "source": [
    "## Importing the libraries and dataset"
   ]
  },
  {
   "cell_type": "code",
   "execution_count": 1,
   "metadata": {
    "id": "3LxoeCvxuIIe"
   },
   "outputs": [],
   "source": [
    "import numpy as np\n",
    "import pandas as pd\n",
    "import matplotlib.pyplot as plt\n",
    "import seaborn as sns"
   ]
  },
  {
   "cell_type": "code",
   "execution_count": 3,
   "metadata": {
    "id": "vocn5DpduoR6"
   },
   "outputs": [],
   "source": [
    "dataset = pd.read_csv(r'C:\\Users\\Ankita\\Desktop\\E-sign\\financial_data.csv')"
   ]
  },
  {
   "cell_type": "markdown",
   "metadata": {
    "id": "y-M4E58jvRHi"
   },
   "source": [
    "## Data exploration"
   ]
  },
  {
   "cell_type": "code",
   "execution_count": 4,
   "metadata": {
    "colab": {
     "base_uri": "https://localhost:8080/",
     "height": 215
    },
    "id": "JY5CKVueuoUg",
    "outputId": "02c15234-dff5-426e-c4ce-024f5166772f"
   },
   "outputs": [
    {
     "data": {
      "text/html": [
       "<div>\n",
       "<style scoped>\n",
       "    .dataframe tbody tr th:only-of-type {\n",
       "        vertical-align: middle;\n",
       "    }\n",
       "\n",
       "    .dataframe tbody tr th {\n",
       "        vertical-align: top;\n",
       "    }\n",
       "\n",
       "    .dataframe thead th {\n",
       "        text-align: right;\n",
       "    }\n",
       "</style>\n",
       "<table border=\"1\" class=\"dataframe\">\n",
       "  <thead>\n",
       "    <tr style=\"text-align: right;\">\n",
       "      <th></th>\n",
       "      <th>entry_id</th>\n",
       "      <th>age</th>\n",
       "      <th>pay_schedule</th>\n",
       "      <th>home_owner</th>\n",
       "      <th>income</th>\n",
       "      <th>months_employed</th>\n",
       "      <th>years_employed</th>\n",
       "      <th>current_address_year</th>\n",
       "      <th>personal_account_m</th>\n",
       "      <th>personal_account_y</th>\n",
       "      <th>...</th>\n",
       "      <th>amount_requested</th>\n",
       "      <th>risk_score</th>\n",
       "      <th>risk_score_2</th>\n",
       "      <th>risk_score_3</th>\n",
       "      <th>risk_score_4</th>\n",
       "      <th>risk_score_5</th>\n",
       "      <th>ext_quality_score</th>\n",
       "      <th>ext_quality_score_2</th>\n",
       "      <th>inquiries_last_month</th>\n",
       "      <th>e_signed</th>\n",
       "    </tr>\n",
       "  </thead>\n",
       "  <tbody>\n",
       "    <tr>\n",
       "      <th>0</th>\n",
       "      <td>7629673</td>\n",
       "      <td>40</td>\n",
       "      <td>bi-weekly</td>\n",
       "      <td>1</td>\n",
       "      <td>3135</td>\n",
       "      <td>0</td>\n",
       "      <td>3</td>\n",
       "      <td>3</td>\n",
       "      <td>6</td>\n",
       "      <td>2</td>\n",
       "      <td>...</td>\n",
       "      <td>550</td>\n",
       "      <td>36200</td>\n",
       "      <td>0.737398</td>\n",
       "      <td>0.903517</td>\n",
       "      <td>0.487712</td>\n",
       "      <td>0.515977</td>\n",
       "      <td>0.580918</td>\n",
       "      <td>0.380918</td>\n",
       "      <td>10</td>\n",
       "      <td>1</td>\n",
       "    </tr>\n",
       "    <tr>\n",
       "      <th>1</th>\n",
       "      <td>3560428</td>\n",
       "      <td>61</td>\n",
       "      <td>weekly</td>\n",
       "      <td>0</td>\n",
       "      <td>3180</td>\n",
       "      <td>0</td>\n",
       "      <td>6</td>\n",
       "      <td>3</td>\n",
       "      <td>2</td>\n",
       "      <td>7</td>\n",
       "      <td>...</td>\n",
       "      <td>600</td>\n",
       "      <td>30150</td>\n",
       "      <td>0.738510</td>\n",
       "      <td>0.881027</td>\n",
       "      <td>0.713423</td>\n",
       "      <td>0.826402</td>\n",
       "      <td>0.730720</td>\n",
       "      <td>0.630720</td>\n",
       "      <td>9</td>\n",
       "      <td>0</td>\n",
       "    </tr>\n",
       "    <tr>\n",
       "      <th>2</th>\n",
       "      <td>6934997</td>\n",
       "      <td>23</td>\n",
       "      <td>weekly</td>\n",
       "      <td>0</td>\n",
       "      <td>1540</td>\n",
       "      <td>6</td>\n",
       "      <td>0</td>\n",
       "      <td>0</td>\n",
       "      <td>7</td>\n",
       "      <td>1</td>\n",
       "      <td>...</td>\n",
       "      <td>450</td>\n",
       "      <td>34550</td>\n",
       "      <td>0.642993</td>\n",
       "      <td>0.766554</td>\n",
       "      <td>0.595018</td>\n",
       "      <td>0.762284</td>\n",
       "      <td>0.531712</td>\n",
       "      <td>0.531712</td>\n",
       "      <td>7</td>\n",
       "      <td>0</td>\n",
       "    </tr>\n",
       "    <tr>\n",
       "      <th>3</th>\n",
       "      <td>5682812</td>\n",
       "      <td>40</td>\n",
       "      <td>bi-weekly</td>\n",
       "      <td>0</td>\n",
       "      <td>5230</td>\n",
       "      <td>0</td>\n",
       "      <td>6</td>\n",
       "      <td>1</td>\n",
       "      <td>2</td>\n",
       "      <td>7</td>\n",
       "      <td>...</td>\n",
       "      <td>700</td>\n",
       "      <td>42150</td>\n",
       "      <td>0.665224</td>\n",
       "      <td>0.960832</td>\n",
       "      <td>0.767828</td>\n",
       "      <td>0.778831</td>\n",
       "      <td>0.792552</td>\n",
       "      <td>0.592552</td>\n",
       "      <td>8</td>\n",
       "      <td>1</td>\n",
       "    </tr>\n",
       "    <tr>\n",
       "      <th>4</th>\n",
       "      <td>5335819</td>\n",
       "      <td>33</td>\n",
       "      <td>semi-monthly</td>\n",
       "      <td>0</td>\n",
       "      <td>3590</td>\n",
       "      <td>0</td>\n",
       "      <td>5</td>\n",
       "      <td>2</td>\n",
       "      <td>2</td>\n",
       "      <td>8</td>\n",
       "      <td>...</td>\n",
       "      <td>1100</td>\n",
       "      <td>53850</td>\n",
       "      <td>0.617361</td>\n",
       "      <td>0.857560</td>\n",
       "      <td>0.613487</td>\n",
       "      <td>0.665523</td>\n",
       "      <td>0.744634</td>\n",
       "      <td>0.744634</td>\n",
       "      <td>12</td>\n",
       "      <td>0</td>\n",
       "    </tr>\n",
       "  </tbody>\n",
       "</table>\n",
       "<p>5 rows × 21 columns</p>\n",
       "</div>"
      ],
      "text/plain": [
       "   entry_id  age  pay_schedule  home_owner  income  months_employed  \\\n",
       "0   7629673   40     bi-weekly           1    3135                0   \n",
       "1   3560428   61        weekly           0    3180                0   \n",
       "2   6934997   23        weekly           0    1540                6   \n",
       "3   5682812   40     bi-weekly           0    5230                0   \n",
       "4   5335819   33  semi-monthly           0    3590                0   \n",
       "\n",
       "   years_employed  current_address_year  personal_account_m  \\\n",
       "0               3                     3                   6   \n",
       "1               6                     3                   2   \n",
       "2               0                     0                   7   \n",
       "3               6                     1                   2   \n",
       "4               5                     2                   2   \n",
       "\n",
       "   personal_account_y  ...  amount_requested  risk_score  risk_score_2  \\\n",
       "0                   2  ...               550       36200      0.737398   \n",
       "1                   7  ...               600       30150      0.738510   \n",
       "2                   1  ...               450       34550      0.642993   \n",
       "3                   7  ...               700       42150      0.665224   \n",
       "4                   8  ...              1100       53850      0.617361   \n",
       "\n",
       "   risk_score_3  risk_score_4  risk_score_5  ext_quality_score  \\\n",
       "0      0.903517      0.487712      0.515977           0.580918   \n",
       "1      0.881027      0.713423      0.826402           0.730720   \n",
       "2      0.766554      0.595018      0.762284           0.531712   \n",
       "3      0.960832      0.767828      0.778831           0.792552   \n",
       "4      0.857560      0.613487      0.665523           0.744634   \n",
       "\n",
       "   ext_quality_score_2  inquiries_last_month  e_signed  \n",
       "0             0.380918                    10         1  \n",
       "1             0.630720                     9         0  \n",
       "2             0.531712                     7         0  \n",
       "3             0.592552                     8         1  \n",
       "4             0.744634                    12         0  \n",
       "\n",
       "[5 rows x 21 columns]"
      ]
     },
     "execution_count": 4,
     "metadata": {},
     "output_type": "execute_result"
    }
   ],
   "source": [
    "dataset.head()"
   ]
  },
  {
   "cell_type": "code",
   "execution_count": 5,
   "metadata": {
    "colab": {
     "base_uri": "https://localhost:8080/"
    },
    "id": "5yuZmzeCuoXV",
    "outputId": "e59b600f-8a1c-442d-97ed-a28b5e37ebc2"
   },
   "outputs": [
    {
     "data": {
      "text/plain": [
       "(17908, 21)"
      ]
     },
     "execution_count": 5,
     "metadata": {},
     "output_type": "execute_result"
    }
   ],
   "source": [
    "dataset.shape"
   ]
  },
  {
   "cell_type": "code",
   "execution_count": 6,
   "metadata": {
    "colab": {
     "base_uri": "https://localhost:8080/"
    },
    "id": "duMUv01tuoaS",
    "outputId": "8b503fee-f961-47e5-87fa-81e31a3949c3"
   },
   "outputs": [
    {
     "data": {
      "text/plain": [
       "Index(['entry_id', 'age', 'pay_schedule', 'home_owner', 'income',\n",
       "       'months_employed', 'years_employed', 'current_address_year',\n",
       "       'personal_account_m', 'personal_account_y', 'has_debt',\n",
       "       'amount_requested', 'risk_score', 'risk_score_2', 'risk_score_3',\n",
       "       'risk_score_4', 'risk_score_5', 'ext_quality_score',\n",
       "       'ext_quality_score_2', 'inquiries_last_month', 'e_signed'],\n",
       "      dtype='object')"
      ]
     },
     "execution_count": 6,
     "metadata": {},
     "output_type": "execute_result"
    }
   ],
   "source": [
    "dataset.columns"
   ]
  },
  {
   "cell_type": "code",
   "execution_count": 7,
   "metadata": {
    "colab": {
     "base_uri": "https://localhost:8080/"
    },
    "id": "k2Yq_UzYvjHL",
    "outputId": "4a3ebccf-d565-4c8d-db30-4794952e276e"
   },
   "outputs": [
    {
     "name": "stdout",
     "output_type": "stream",
     "text": [
      "<class 'pandas.core.frame.DataFrame'>\n",
      "RangeIndex: 17908 entries, 0 to 17907\n",
      "Data columns (total 21 columns):\n",
      " #   Column                Non-Null Count  Dtype  \n",
      "---  ------                --------------  -----  \n",
      " 0   entry_id              17908 non-null  int64  \n",
      " 1   age                   17908 non-null  int64  \n",
      " 2   pay_schedule          17908 non-null  object \n",
      " 3   home_owner            17908 non-null  int64  \n",
      " 4   income                17908 non-null  int64  \n",
      " 5   months_employed       17908 non-null  int64  \n",
      " 6   years_employed        17908 non-null  int64  \n",
      " 7   current_address_year  17908 non-null  int64  \n",
      " 8   personal_account_m    17908 non-null  int64  \n",
      " 9   personal_account_y    17908 non-null  int64  \n",
      " 10  has_debt              17908 non-null  int64  \n",
      " 11  amount_requested      17908 non-null  int64  \n",
      " 12  risk_score            17908 non-null  int64  \n",
      " 13  risk_score_2          17908 non-null  float64\n",
      " 14  risk_score_3          17908 non-null  float64\n",
      " 15  risk_score_4          17908 non-null  float64\n",
      " 16  risk_score_5          17908 non-null  float64\n",
      " 17  ext_quality_score     17908 non-null  float64\n",
      " 18  ext_quality_score_2   17908 non-null  float64\n",
      " 19  inquiries_last_month  17908 non-null  int64  \n",
      " 20  e_signed              17908 non-null  int64  \n",
      "dtypes: float64(6), int64(14), object(1)\n",
      "memory usage: 2.9+ MB\n"
     ]
    }
   ],
   "source": [
    "dataset.info()"
   ]
  },
  {
   "cell_type": "code",
   "execution_count": 8,
   "metadata": {
    "colab": {
     "base_uri": "https://localhost:8080/",
     "height": 304
    },
    "id": "6VqLEa8ivjKI",
    "outputId": "0c10601a-33c0-4c78-c1c6-e8ca0b95ec6d"
   },
   "outputs": [
    {
     "data": {
      "text/html": [
       "<div>\n",
       "<style scoped>\n",
       "    .dataframe tbody tr th:only-of-type {\n",
       "        vertical-align: middle;\n",
       "    }\n",
       "\n",
       "    .dataframe tbody tr th {\n",
       "        vertical-align: top;\n",
       "    }\n",
       "\n",
       "    .dataframe thead th {\n",
       "        text-align: right;\n",
       "    }\n",
       "</style>\n",
       "<table border=\"1\" class=\"dataframe\">\n",
       "  <thead>\n",
       "    <tr style=\"text-align: right;\">\n",
       "      <th></th>\n",
       "      <th>entry_id</th>\n",
       "      <th>age</th>\n",
       "      <th>home_owner</th>\n",
       "      <th>income</th>\n",
       "      <th>months_employed</th>\n",
       "      <th>years_employed</th>\n",
       "      <th>current_address_year</th>\n",
       "      <th>personal_account_m</th>\n",
       "      <th>personal_account_y</th>\n",
       "      <th>has_debt</th>\n",
       "      <th>amount_requested</th>\n",
       "      <th>risk_score</th>\n",
       "      <th>risk_score_2</th>\n",
       "      <th>risk_score_3</th>\n",
       "      <th>risk_score_4</th>\n",
       "      <th>risk_score_5</th>\n",
       "      <th>ext_quality_score</th>\n",
       "      <th>ext_quality_score_2</th>\n",
       "      <th>inquiries_last_month</th>\n",
       "      <th>e_signed</th>\n",
       "    </tr>\n",
       "  </thead>\n",
       "  <tbody>\n",
       "    <tr>\n",
       "      <th>count</th>\n",
       "      <td>1.790800e+04</td>\n",
       "      <td>17908.000000</td>\n",
       "      <td>17908.000000</td>\n",
       "      <td>17908.000000</td>\n",
       "      <td>17908.000000</td>\n",
       "      <td>17908.000000</td>\n",
       "      <td>17908.000000</td>\n",
       "      <td>17908.000000</td>\n",
       "      <td>17908.000000</td>\n",
       "      <td>17908.000000</td>\n",
       "      <td>17908.000000</td>\n",
       "      <td>17908.000000</td>\n",
       "      <td>17908.000000</td>\n",
       "      <td>17908.000000</td>\n",
       "      <td>17908.000000</td>\n",
       "      <td>17908.000000</td>\n",
       "      <td>17908.000000</td>\n",
       "      <td>17908.000000</td>\n",
       "      <td>17908.000000</td>\n",
       "      <td>17908.000000</td>\n",
       "    </tr>\n",
       "    <tr>\n",
       "      <th>mean</th>\n",
       "      <td>5.596978e+06</td>\n",
       "      <td>43.015412</td>\n",
       "      <td>0.425173</td>\n",
       "      <td>3657.214653</td>\n",
       "      <td>1.186006</td>\n",
       "      <td>3.526860</td>\n",
       "      <td>3.584711</td>\n",
       "      <td>3.427183</td>\n",
       "      <td>3.503350</td>\n",
       "      <td>0.795399</td>\n",
       "      <td>950.446449</td>\n",
       "      <td>61086.302211</td>\n",
       "      <td>0.690878</td>\n",
       "      <td>0.878276</td>\n",
       "      <td>0.583155</td>\n",
       "      <td>0.718252</td>\n",
       "      <td>0.623112</td>\n",
       "      <td>0.622068</td>\n",
       "      <td>6.457226</td>\n",
       "      <td>0.538251</td>\n",
       "    </tr>\n",
       "    <tr>\n",
       "      <th>std</th>\n",
       "      <td>2.562473e+06</td>\n",
       "      <td>11.873107</td>\n",
       "      <td>0.494383</td>\n",
       "      <td>1504.890063</td>\n",
       "      <td>2.400897</td>\n",
       "      <td>2.259732</td>\n",
       "      <td>2.751937</td>\n",
       "      <td>2.216440</td>\n",
       "      <td>1.955568</td>\n",
       "      <td>0.403421</td>\n",
       "      <td>698.543683</td>\n",
       "      <td>15394.255020</td>\n",
       "      <td>0.090470</td>\n",
       "      <td>0.054563</td>\n",
       "      <td>0.125061</td>\n",
       "      <td>0.120697</td>\n",
       "      <td>0.139729</td>\n",
       "      <td>0.139898</td>\n",
       "      <td>3.673093</td>\n",
       "      <td>0.498549</td>\n",
       "    </tr>\n",
       "    <tr>\n",
       "      <th>min</th>\n",
       "      <td>1.111398e+06</td>\n",
       "      <td>18.000000</td>\n",
       "      <td>0.000000</td>\n",
       "      <td>905.000000</td>\n",
       "      <td>0.000000</td>\n",
       "      <td>0.000000</td>\n",
       "      <td>0.000000</td>\n",
       "      <td>0.000000</td>\n",
       "      <td>0.000000</td>\n",
       "      <td>0.000000</td>\n",
       "      <td>350.000000</td>\n",
       "      <td>2100.000000</td>\n",
       "      <td>0.023258</td>\n",
       "      <td>0.451371</td>\n",
       "      <td>0.016724</td>\n",
       "      <td>0.153367</td>\n",
       "      <td>0.010184</td>\n",
       "      <td>0.006622</td>\n",
       "      <td>1.000000</td>\n",
       "      <td>0.000000</td>\n",
       "    </tr>\n",
       "    <tr>\n",
       "      <th>25%</th>\n",
       "      <td>3.378999e+06</td>\n",
       "      <td>34.000000</td>\n",
       "      <td>0.000000</td>\n",
       "      <td>2580.000000</td>\n",
       "      <td>0.000000</td>\n",
       "      <td>2.000000</td>\n",
       "      <td>2.000000</td>\n",
       "      <td>2.000000</td>\n",
       "      <td>2.000000</td>\n",
       "      <td>1.000000</td>\n",
       "      <td>600.000000</td>\n",
       "      <td>49350.000000</td>\n",
       "      <td>0.640993</td>\n",
       "      <td>0.850882</td>\n",
       "      <td>0.500208</td>\n",
       "      <td>0.633708</td>\n",
       "      <td>0.521735</td>\n",
       "      <td>0.519677</td>\n",
       "      <td>4.000000</td>\n",
       "      <td>0.000000</td>\n",
       "    </tr>\n",
       "    <tr>\n",
       "      <th>50%</th>\n",
       "      <td>5.608376e+06</td>\n",
       "      <td>42.000000</td>\n",
       "      <td>0.000000</td>\n",
       "      <td>3260.000000</td>\n",
       "      <td>0.000000</td>\n",
       "      <td>3.000000</td>\n",
       "      <td>3.000000</td>\n",
       "      <td>2.000000</td>\n",
       "      <td>3.000000</td>\n",
       "      <td>1.000000</td>\n",
       "      <td>700.000000</td>\n",
       "      <td>61200.000000</td>\n",
       "      <td>0.699561</td>\n",
       "      <td>0.881004</td>\n",
       "      <td>0.588208</td>\n",
       "      <td>0.725113</td>\n",
       "      <td>0.625944</td>\n",
       "      <td>0.622974</td>\n",
       "      <td>6.000000</td>\n",
       "      <td>1.000000</td>\n",
       "    </tr>\n",
       "    <tr>\n",
       "      <th>75%</th>\n",
       "      <td>7.805624e+06</td>\n",
       "      <td>51.000000</td>\n",
       "      <td>1.000000</td>\n",
       "      <td>4670.000000</td>\n",
       "      <td>1.000000</td>\n",
       "      <td>5.000000</td>\n",
       "      <td>5.000000</td>\n",
       "      <td>5.000000</td>\n",
       "      <td>4.000000</td>\n",
       "      <td>1.000000</td>\n",
       "      <td>1100.000000</td>\n",
       "      <td>72750.000000</td>\n",
       "      <td>0.752887</td>\n",
       "      <td>0.912608</td>\n",
       "      <td>0.672395</td>\n",
       "      <td>0.806681</td>\n",
       "      <td>0.729841</td>\n",
       "      <td>0.728940</td>\n",
       "      <td>8.000000</td>\n",
       "      <td>1.000000</td>\n",
       "    </tr>\n",
       "    <tr>\n",
       "      <th>max</th>\n",
       "      <td>9.999874e+06</td>\n",
       "      <td>96.000000</td>\n",
       "      <td>1.000000</td>\n",
       "      <td>9985.000000</td>\n",
       "      <td>11.000000</td>\n",
       "      <td>16.000000</td>\n",
       "      <td>12.000000</td>\n",
       "      <td>11.000000</td>\n",
       "      <td>15.000000</td>\n",
       "      <td>1.000000</td>\n",
       "      <td>10200.000000</td>\n",
       "      <td>99750.000000</td>\n",
       "      <td>0.999997</td>\n",
       "      <td>0.999024</td>\n",
       "      <td>0.978932</td>\n",
       "      <td>0.996260</td>\n",
       "      <td>0.970249</td>\n",
       "      <td>0.966953</td>\n",
       "      <td>30.000000</td>\n",
       "      <td>1.000000</td>\n",
       "    </tr>\n",
       "  </tbody>\n",
       "</table>\n",
       "</div>"
      ],
      "text/plain": [
       "           entry_id           age    home_owner        income  \\\n",
       "count  1.790800e+04  17908.000000  17908.000000  17908.000000   \n",
       "mean   5.596978e+06     43.015412      0.425173   3657.214653   \n",
       "std    2.562473e+06     11.873107      0.494383   1504.890063   \n",
       "min    1.111398e+06     18.000000      0.000000    905.000000   \n",
       "25%    3.378999e+06     34.000000      0.000000   2580.000000   \n",
       "50%    5.608376e+06     42.000000      0.000000   3260.000000   \n",
       "75%    7.805624e+06     51.000000      1.000000   4670.000000   \n",
       "max    9.999874e+06     96.000000      1.000000   9985.000000   \n",
       "\n",
       "       months_employed  years_employed  current_address_year  \\\n",
       "count     17908.000000    17908.000000          17908.000000   \n",
       "mean          1.186006        3.526860              3.584711   \n",
       "std           2.400897        2.259732              2.751937   \n",
       "min           0.000000        0.000000              0.000000   \n",
       "25%           0.000000        2.000000              2.000000   \n",
       "50%           0.000000        3.000000              3.000000   \n",
       "75%           1.000000        5.000000              5.000000   \n",
       "max          11.000000       16.000000             12.000000   \n",
       "\n",
       "       personal_account_m  personal_account_y      has_debt  amount_requested  \\\n",
       "count        17908.000000        17908.000000  17908.000000      17908.000000   \n",
       "mean             3.427183            3.503350      0.795399        950.446449   \n",
       "std              2.216440            1.955568      0.403421        698.543683   \n",
       "min              0.000000            0.000000      0.000000        350.000000   \n",
       "25%              2.000000            2.000000      1.000000        600.000000   \n",
       "50%              2.000000            3.000000      1.000000        700.000000   \n",
       "75%              5.000000            4.000000      1.000000       1100.000000   \n",
       "max             11.000000           15.000000      1.000000      10200.000000   \n",
       "\n",
       "         risk_score  risk_score_2  risk_score_3  risk_score_4  risk_score_5  \\\n",
       "count  17908.000000  17908.000000  17908.000000  17908.000000  17908.000000   \n",
       "mean   61086.302211      0.690878      0.878276      0.583155      0.718252   \n",
       "std    15394.255020      0.090470      0.054563      0.125061      0.120697   \n",
       "min     2100.000000      0.023258      0.451371      0.016724      0.153367   \n",
       "25%    49350.000000      0.640993      0.850882      0.500208      0.633708   \n",
       "50%    61200.000000      0.699561      0.881004      0.588208      0.725113   \n",
       "75%    72750.000000      0.752887      0.912608      0.672395      0.806681   \n",
       "max    99750.000000      0.999997      0.999024      0.978932      0.996260   \n",
       "\n",
       "       ext_quality_score  ext_quality_score_2  inquiries_last_month  \\\n",
       "count       17908.000000         17908.000000          17908.000000   \n",
       "mean            0.623112             0.622068              6.457226   \n",
       "std             0.139729             0.139898              3.673093   \n",
       "min             0.010184             0.006622              1.000000   \n",
       "25%             0.521735             0.519677              4.000000   \n",
       "50%             0.625944             0.622974              6.000000   \n",
       "75%             0.729841             0.728940              8.000000   \n",
       "max             0.970249             0.966953             30.000000   \n",
       "\n",
       "           e_signed  \n",
       "count  17908.000000  \n",
       "mean       0.538251  \n",
       "std        0.498549  \n",
       "min        0.000000  \n",
       "25%        0.000000  \n",
       "50%        1.000000  \n",
       "75%        1.000000  \n",
       "max        1.000000  "
      ]
     },
     "execution_count": 8,
     "metadata": {},
     "output_type": "execute_result"
    }
   ],
   "source": [
    "# statistical summary\n",
    "dataset.describe()"
   ]
  },
  {
   "cell_type": "markdown",
   "metadata": {
    "id": "G2JtfQijwPhR"
   },
   "source": [
    "## Dealing with the null values"
   ]
  },
  {
   "cell_type": "code",
   "execution_count": 9,
   "metadata": {
    "colab": {
     "base_uri": "https://localhost:8080/"
    },
    "id": "5etLHa1rvjOA",
    "outputId": "818abca6-c61f-48f8-b7cd-9225d7bc6871"
   },
   "outputs": [
    {
     "data": {
      "text/plain": [
       "False"
      ]
     },
     "execution_count": 9,
     "metadata": {},
     "output_type": "execute_result"
    }
   ],
   "source": [
    "dataset.isnull().values.any()"
   ]
  },
  {
   "cell_type": "code",
   "execution_count": 10,
   "metadata": {
    "colab": {
     "base_uri": "https://localhost:8080/"
    },
    "id": "uGL4nk16wfaE",
    "outputId": "7d7fadbc-3c40-4d3b-b57b-9c9f8a11c17c"
   },
   "outputs": [
    {
     "data": {
      "text/plain": [
       "0"
      ]
     },
     "execution_count": 10,
     "metadata": {},
     "output_type": "execute_result"
    }
   ],
   "source": [
    "dataset.isnull().values.sum()"
   ]
  },
  {
   "cell_type": "markdown",
   "metadata": {
    "id": "jsVN00H5wnbp"
   },
   "source": [
    "## Encoding the categorical data"
   ]
  },
  {
   "cell_type": "code",
   "execution_count": 11,
   "metadata": {
    "colab": {
     "base_uri": "https://localhost:8080/"
    },
    "id": "JlBKiivzwsfM",
    "outputId": "e9211dd1-5789-4a8f-ddb6-ec5c7dfda325"
   },
   "outputs": [
    {
     "data": {
      "text/plain": [
       "Index(['pay_schedule'], dtype='object')"
      ]
     },
     "execution_count": 11,
     "metadata": {},
     "output_type": "execute_result"
    }
   ],
   "source": [
    "dataset.select_dtypes(include='object').columns"
   ]
  },
  {
   "cell_type": "code",
   "execution_count": 12,
   "metadata": {
    "colab": {
     "base_uri": "https://localhost:8080/"
    },
    "id": "N2crsQ3xwsm0",
    "outputId": "c4556364-5a34-4aad-f1b7-6774ecded19a"
   },
   "outputs": [
    {
     "data": {
      "text/plain": [
       "1"
      ]
     },
     "execution_count": 12,
     "metadata": {},
     "output_type": "execute_result"
    }
   ],
   "source": [
    "len(dataset.select_dtypes(include='object').columns)"
   ]
  },
  {
   "cell_type": "code",
   "execution_count": 13,
   "metadata": {
    "colab": {
     "base_uri": "https://localhost:8080/"
    },
    "id": "yLhty5Qvw0yU",
    "outputId": "10b27427-c890-42f8-b6bc-8405372dc783"
   },
   "outputs": [
    {
     "data": {
      "text/plain": [
       "array(['bi-weekly', 'weekly', 'semi-monthly', 'monthly'], dtype=object)"
      ]
     },
     "execution_count": 13,
     "metadata": {},
     "output_type": "execute_result"
    }
   ],
   "source": [
    "dataset['pay_schedule'].unique()"
   ]
  },
  {
   "cell_type": "code",
   "execution_count": 14,
   "metadata": {
    "colab": {
     "base_uri": "https://localhost:8080/"
    },
    "id": "LjxEAWc4w04J",
    "outputId": "a8a37016-eaaf-4cec-8f6a-3dae2d0fd8d7"
   },
   "outputs": [
    {
     "data": {
      "text/plain": [
       "4"
      ]
     },
     "execution_count": 14,
     "metadata": {},
     "output_type": "execute_result"
    }
   ],
   "source": [
    "dataset['pay_schedule'].nunique()"
   ]
  },
  {
   "cell_type": "code",
   "execution_count": 15,
   "metadata": {
    "colab": {
     "base_uri": "https://localhost:8080/"
    },
    "id": "NZh9VEX5xEF7",
    "outputId": "c6ddf8b8-003a-4d1a-eaa7-718d67f80f47"
   },
   "outputs": [
    {
     "data": {
      "text/plain": [
       "(17908, 21)"
      ]
     },
     "execution_count": 15,
     "metadata": {},
     "output_type": "execute_result"
    }
   ],
   "source": [
    "dataset.shape"
   ]
  },
  {
   "cell_type": "code",
   "execution_count": 16,
   "metadata": {
    "id": "z5NVOvTGxHoJ"
   },
   "outputs": [],
   "source": [
    "dataset = pd.get_dummies(data=dataset, drop_first=True)"
   ]
  },
  {
   "cell_type": "code",
   "execution_count": 17,
   "metadata": {
    "colab": {
     "base_uri": "https://localhost:8080/",
     "height": 232
    },
    "id": "-iqIBpJ4xOEQ",
    "outputId": "2cf8d6e4-c753-4705-f1d2-243a1c9b71c5"
   },
   "outputs": [
    {
     "data": {
      "text/html": [
       "<div>\n",
       "<style scoped>\n",
       "    .dataframe tbody tr th:only-of-type {\n",
       "        vertical-align: middle;\n",
       "    }\n",
       "\n",
       "    .dataframe tbody tr th {\n",
       "        vertical-align: top;\n",
       "    }\n",
       "\n",
       "    .dataframe thead th {\n",
       "        text-align: right;\n",
       "    }\n",
       "</style>\n",
       "<table border=\"1\" class=\"dataframe\">\n",
       "  <thead>\n",
       "    <tr style=\"text-align: right;\">\n",
       "      <th></th>\n",
       "      <th>entry_id</th>\n",
       "      <th>age</th>\n",
       "      <th>home_owner</th>\n",
       "      <th>income</th>\n",
       "      <th>months_employed</th>\n",
       "      <th>years_employed</th>\n",
       "      <th>current_address_year</th>\n",
       "      <th>personal_account_m</th>\n",
       "      <th>personal_account_y</th>\n",
       "      <th>has_debt</th>\n",
       "      <th>...</th>\n",
       "      <th>risk_score_3</th>\n",
       "      <th>risk_score_4</th>\n",
       "      <th>risk_score_5</th>\n",
       "      <th>ext_quality_score</th>\n",
       "      <th>ext_quality_score_2</th>\n",
       "      <th>inquiries_last_month</th>\n",
       "      <th>e_signed</th>\n",
       "      <th>pay_schedule_monthly</th>\n",
       "      <th>pay_schedule_semi-monthly</th>\n",
       "      <th>pay_schedule_weekly</th>\n",
       "    </tr>\n",
       "  </thead>\n",
       "  <tbody>\n",
       "    <tr>\n",
       "      <th>0</th>\n",
       "      <td>7629673</td>\n",
       "      <td>40</td>\n",
       "      <td>1</td>\n",
       "      <td>3135</td>\n",
       "      <td>0</td>\n",
       "      <td>3</td>\n",
       "      <td>3</td>\n",
       "      <td>6</td>\n",
       "      <td>2</td>\n",
       "      <td>1</td>\n",
       "      <td>...</td>\n",
       "      <td>0.903517</td>\n",
       "      <td>0.487712</td>\n",
       "      <td>0.515977</td>\n",
       "      <td>0.580918</td>\n",
       "      <td>0.380918</td>\n",
       "      <td>10</td>\n",
       "      <td>1</td>\n",
       "      <td>False</td>\n",
       "      <td>False</td>\n",
       "      <td>False</td>\n",
       "    </tr>\n",
       "    <tr>\n",
       "      <th>1</th>\n",
       "      <td>3560428</td>\n",
       "      <td>61</td>\n",
       "      <td>0</td>\n",
       "      <td>3180</td>\n",
       "      <td>0</td>\n",
       "      <td>6</td>\n",
       "      <td>3</td>\n",
       "      <td>2</td>\n",
       "      <td>7</td>\n",
       "      <td>1</td>\n",
       "      <td>...</td>\n",
       "      <td>0.881027</td>\n",
       "      <td>0.713423</td>\n",
       "      <td>0.826402</td>\n",
       "      <td>0.730720</td>\n",
       "      <td>0.630720</td>\n",
       "      <td>9</td>\n",
       "      <td>0</td>\n",
       "      <td>False</td>\n",
       "      <td>False</td>\n",
       "      <td>True</td>\n",
       "    </tr>\n",
       "    <tr>\n",
       "      <th>2</th>\n",
       "      <td>6934997</td>\n",
       "      <td>23</td>\n",
       "      <td>0</td>\n",
       "      <td>1540</td>\n",
       "      <td>6</td>\n",
       "      <td>0</td>\n",
       "      <td>0</td>\n",
       "      <td>7</td>\n",
       "      <td>1</td>\n",
       "      <td>1</td>\n",
       "      <td>...</td>\n",
       "      <td>0.766554</td>\n",
       "      <td>0.595018</td>\n",
       "      <td>0.762284</td>\n",
       "      <td>0.531712</td>\n",
       "      <td>0.531712</td>\n",
       "      <td>7</td>\n",
       "      <td>0</td>\n",
       "      <td>False</td>\n",
       "      <td>False</td>\n",
       "      <td>True</td>\n",
       "    </tr>\n",
       "    <tr>\n",
       "      <th>3</th>\n",
       "      <td>5682812</td>\n",
       "      <td>40</td>\n",
       "      <td>0</td>\n",
       "      <td>5230</td>\n",
       "      <td>0</td>\n",
       "      <td>6</td>\n",
       "      <td>1</td>\n",
       "      <td>2</td>\n",
       "      <td>7</td>\n",
       "      <td>1</td>\n",
       "      <td>...</td>\n",
       "      <td>0.960832</td>\n",
       "      <td>0.767828</td>\n",
       "      <td>0.778831</td>\n",
       "      <td>0.792552</td>\n",
       "      <td>0.592552</td>\n",
       "      <td>8</td>\n",
       "      <td>1</td>\n",
       "      <td>False</td>\n",
       "      <td>False</td>\n",
       "      <td>False</td>\n",
       "    </tr>\n",
       "    <tr>\n",
       "      <th>4</th>\n",
       "      <td>5335819</td>\n",
       "      <td>33</td>\n",
       "      <td>0</td>\n",
       "      <td>3590</td>\n",
       "      <td>0</td>\n",
       "      <td>5</td>\n",
       "      <td>2</td>\n",
       "      <td>2</td>\n",
       "      <td>8</td>\n",
       "      <td>1</td>\n",
       "      <td>...</td>\n",
       "      <td>0.857560</td>\n",
       "      <td>0.613487</td>\n",
       "      <td>0.665523</td>\n",
       "      <td>0.744634</td>\n",
       "      <td>0.744634</td>\n",
       "      <td>12</td>\n",
       "      <td>0</td>\n",
       "      <td>False</td>\n",
       "      <td>True</td>\n",
       "      <td>False</td>\n",
       "    </tr>\n",
       "  </tbody>\n",
       "</table>\n",
       "<p>5 rows × 23 columns</p>\n",
       "</div>"
      ],
      "text/plain": [
       "   entry_id  age  home_owner  income  months_employed  years_employed  \\\n",
       "0   7629673   40           1    3135                0               3   \n",
       "1   3560428   61           0    3180                0               6   \n",
       "2   6934997   23           0    1540                6               0   \n",
       "3   5682812   40           0    5230                0               6   \n",
       "4   5335819   33           0    3590                0               5   \n",
       "\n",
       "   current_address_year  personal_account_m  personal_account_y  has_debt  \\\n",
       "0                     3                   6                   2         1   \n",
       "1                     3                   2                   7         1   \n",
       "2                     0                   7                   1         1   \n",
       "3                     1                   2                   7         1   \n",
       "4                     2                   2                   8         1   \n",
       "\n",
       "   ...  risk_score_3  risk_score_4  risk_score_5  ext_quality_score  \\\n",
       "0  ...      0.903517      0.487712      0.515977           0.580918   \n",
       "1  ...      0.881027      0.713423      0.826402           0.730720   \n",
       "2  ...      0.766554      0.595018      0.762284           0.531712   \n",
       "3  ...      0.960832      0.767828      0.778831           0.792552   \n",
       "4  ...      0.857560      0.613487      0.665523           0.744634   \n",
       "\n",
       "   ext_quality_score_2  inquiries_last_month  e_signed  pay_schedule_monthly  \\\n",
       "0             0.380918                    10         1                 False   \n",
       "1             0.630720                     9         0                 False   \n",
       "2             0.531712                     7         0                 False   \n",
       "3             0.592552                     8         1                 False   \n",
       "4             0.744634                    12         0                 False   \n",
       "\n",
       "   pay_schedule_semi-monthly  pay_schedule_weekly  \n",
       "0                      False                False  \n",
       "1                      False                 True  \n",
       "2                      False                 True  \n",
       "3                      False                False  \n",
       "4                       True                False  \n",
       "\n",
       "[5 rows x 23 columns]"
      ]
     },
     "execution_count": 17,
     "metadata": {},
     "output_type": "execute_result"
    }
   ],
   "source": [
    "dataset.head()"
   ]
  },
  {
   "cell_type": "code",
   "execution_count": 18,
   "metadata": {
    "colab": {
     "base_uri": "https://localhost:8080/"
    },
    "id": "m1JMpFyGxW5X",
    "outputId": "d3717e8a-0bef-4d7a-a259-7c20c78b3e98"
   },
   "outputs": [
    {
     "data": {
      "text/plain": [
       "(17908, 23)"
      ]
     },
     "execution_count": 18,
     "metadata": {},
     "output_type": "execute_result"
    }
   ],
   "source": [
    "dataset.shape"
   ]
  },
  {
   "cell_type": "code",
   "execution_count": 19,
   "metadata": {
    "colab": {
     "base_uri": "https://localhost:8080/"
    },
    "id": "rhHiO4LYxrY5",
    "outputId": "2c8793dc-d8fa-4bcb-b5dd-75bfe37e82f5"
   },
   "outputs": [
    {
     "data": {
      "text/plain": [
       "0"
      ]
     },
     "execution_count": 19,
     "metadata": {},
     "output_type": "execute_result"
    }
   ],
   "source": [
    "len(dataset.select_dtypes(include='object').columns)"
   ]
  },
  {
   "cell_type": "markdown",
   "metadata": {
    "id": "W01e41Q3x25I"
   },
   "source": [
    "## Countplot"
   ]
  },
  {
   "cell_type": "code",
   "execution_count": 20,
   "metadata": {
    "colab": {
     "base_uri": "https://localhost:8080/",
     "height": 353
    },
    "id": "6mphskotx5RL",
    "outputId": "18f55dc3-623a-4340-9fd2-bc2a6f9cbd2c"
   },
   "outputs": [
    {
     "data": {
      "text/plain": [
       "<Axes: ylabel='count'>"
      ]
     },
     "execution_count": 20,
     "metadata": {},
     "output_type": "execute_result"
    },
    {
     "data": {
      "image/png": "[encoded data removed]",
      "text/plain": [
       "<Figure size 640x480 with 1 Axes>"
      ]
     },
     "metadata": {},
     "output_type": "display_data"
    }
   ],
   "source": [
    "sns.countplot(dataset['e_signed'])"
   ]
  },
  {
   "cell_type": "code",
   "execution_count": 21,
   "metadata": {
    "colab": {
     "base_uri": "https://localhost:8080/"
    },
    "id": "ce_HW8qnx5T6",
    "outputId": "e1203e3a-40e4-4ff8-bcbb-79cf5544fb04"
   },
   "outputs": [
    {
     "data": {
      "text/plain": [
       "9639"
      ]
     },
     "execution_count": 21,
     "metadata": {},
     "output_type": "execute_result"
    }
   ],
   "source": [
    "# e-signed values\n",
    "(dataset.e_signed == 1).sum()"
   ]
  },
  {
   "cell_type": "code",
   "execution_count": 22,
   "metadata": {
    "colab": {
     "base_uri": "https://localhost:8080/"
    },
    "id": "sbrTwVikx5Ww",
    "outputId": "6625f8be-9feb-4f94-88aa-8c677d382058"
   },
   "outputs": [
    {
     "data": {
      "text/plain": [
       "8269"
      ]
     },
     "execution_count": 22,
     "metadata": {},
     "output_type": "execute_result"
    }
   ],
   "source": [
    "# not e-signed values\n",
    "(dataset.e_signed == 0).sum()"
   ]
  },
  {
   "cell_type": "markdown",
   "metadata": {
    "id": "LGzVyXMkzGAr"
   },
   "source": [
    "## Restructure the dataset"
   ]
  },
  {
   "cell_type": "code",
   "execution_count": 23,
   "metadata": {
    "colab": {
     "base_uri": "https://localhost:8080/",
     "height": 232
    },
    "id": "8lrs4yMM2bO2",
    "outputId": "4b06160c-65ac-4d76-e58a-a47cb07a86f0"
   },
   "outputs": [
    {
     "data": {
      "text/html": [
       "<div>\n",
       "<style scoped>\n",
       "    .dataframe tbody tr th:only-of-type {\n",
       "        vertical-align: middle;\n",
       "    }\n",
       "\n",
       "    .dataframe tbody tr th {\n",
       "        vertical-align: top;\n",
       "    }\n",
       "\n",
       "    .dataframe thead th {\n",
       "        text-align: right;\n",
       "    }\n",
       "</style>\n",
       "<table border=\"1\" class=\"dataframe\">\n",
       "  <thead>\n",
       "    <tr style=\"text-align: right;\">\n",
       "      <th></th>\n",
       "      <th>entry_id</th>\n",
       "      <th>age</th>\n",
       "      <th>home_owner</th>\n",
       "      <th>income</th>\n",
       "      <th>months_employed</th>\n",
       "      <th>years_employed</th>\n",
       "      <th>current_address_year</th>\n",
       "      <th>personal_account_m</th>\n",
       "      <th>personal_account_y</th>\n",
       "      <th>has_debt</th>\n",
       "      <th>...</th>\n",
       "      <th>risk_score_3</th>\n",
       "      <th>risk_score_4</th>\n",
       "      <th>risk_score_5</th>\n",
       "      <th>ext_quality_score</th>\n",
       "      <th>ext_quality_score_2</th>\n",
       "      <th>inquiries_last_month</th>\n",
       "      <th>e_signed</th>\n",
       "      <th>pay_schedule_monthly</th>\n",
       "      <th>pay_schedule_semi-monthly</th>\n",
       "      <th>pay_schedule_weekly</th>\n",
       "    </tr>\n",
       "  </thead>\n",
       "  <tbody>\n",
       "    <tr>\n",
       "      <th>0</th>\n",
       "      <td>7629673</td>\n",
       "      <td>40</td>\n",
       "      <td>1</td>\n",
       "      <td>3135</td>\n",
       "      <td>0</td>\n",
       "      <td>3</td>\n",
       "      <td>3</td>\n",
       "      <td>6</td>\n",
       "      <td>2</td>\n",
       "      <td>1</td>\n",
       "      <td>...</td>\n",
       "      <td>0.903517</td>\n",
       "      <td>0.487712</td>\n",
       "      <td>0.515977</td>\n",
       "      <td>0.580918</td>\n",
       "      <td>0.380918</td>\n",
       "      <td>10</td>\n",
       "      <td>1</td>\n",
       "      <td>False</td>\n",
       "      <td>False</td>\n",
       "      <td>False</td>\n",
       "    </tr>\n",
       "    <tr>\n",
       "      <th>1</th>\n",
       "      <td>3560428</td>\n",
       "      <td>61</td>\n",
       "      <td>0</td>\n",
       "      <td>3180</td>\n",
       "      <td>0</td>\n",
       "      <td>6</td>\n",
       "      <td>3</td>\n",
       "      <td>2</td>\n",
       "      <td>7</td>\n",
       "      <td>1</td>\n",
       "      <td>...</td>\n",
       "      <td>0.881027</td>\n",
       "      <td>0.713423</td>\n",
       "      <td>0.826402</td>\n",
       "      <td>0.730720</td>\n",
       "      <td>0.630720</td>\n",
       "      <td>9</td>\n",
       "      <td>0</td>\n",
       "      <td>False</td>\n",
       "      <td>False</td>\n",
       "      <td>True</td>\n",
       "    </tr>\n",
       "    <tr>\n",
       "      <th>2</th>\n",
       "      <td>6934997</td>\n",
       "      <td>23</td>\n",
       "      <td>0</td>\n",
       "      <td>1540</td>\n",
       "      <td>6</td>\n",
       "      <td>0</td>\n",
       "      <td>0</td>\n",
       "      <td>7</td>\n",
       "      <td>1</td>\n",
       "      <td>1</td>\n",
       "      <td>...</td>\n",
       "      <td>0.766554</td>\n",
       "      <td>0.595018</td>\n",
       "      <td>0.762284</td>\n",
       "      <td>0.531712</td>\n",
       "      <td>0.531712</td>\n",
       "      <td>7</td>\n",
       "      <td>0</td>\n",
       "      <td>False</td>\n",
       "      <td>False</td>\n",
       "      <td>True</td>\n",
       "    </tr>\n",
       "    <tr>\n",
       "      <th>3</th>\n",
       "      <td>5682812</td>\n",
       "      <td>40</td>\n",
       "      <td>0</td>\n",
       "      <td>5230</td>\n",
       "      <td>0</td>\n",
       "      <td>6</td>\n",
       "      <td>1</td>\n",
       "      <td>2</td>\n",
       "      <td>7</td>\n",
       "      <td>1</td>\n",
       "      <td>...</td>\n",
       "      <td>0.960832</td>\n",
       "      <td>0.767828</td>\n",
       "      <td>0.778831</td>\n",
       "      <td>0.792552</td>\n",
       "      <td>0.592552</td>\n",
       "      <td>8</td>\n",
       "      <td>1</td>\n",
       "      <td>False</td>\n",
       "      <td>False</td>\n",
       "      <td>False</td>\n",
       "    </tr>\n",
       "    <tr>\n",
       "      <th>4</th>\n",
       "      <td>5335819</td>\n",
       "      <td>33</td>\n",
       "      <td>0</td>\n",
       "      <td>3590</td>\n",
       "      <td>0</td>\n",
       "      <td>5</td>\n",
       "      <td>2</td>\n",
       "      <td>2</td>\n",
       "      <td>8</td>\n",
       "      <td>1</td>\n",
       "      <td>...</td>\n",
       "      <td>0.857560</td>\n",
       "      <td>0.613487</td>\n",
       "      <td>0.665523</td>\n",
       "      <td>0.744634</td>\n",
       "      <td>0.744634</td>\n",
       "      <td>12</td>\n",
       "      <td>0</td>\n",
       "      <td>False</td>\n",
       "      <td>True</td>\n",
       "      <td>False</td>\n",
       "    </tr>\n",
       "  </tbody>\n",
       "</table>\n",
       "<p>5 rows × 23 columns</p>\n",
       "</div>"
      ],
      "text/plain": [
       "   entry_id  age  home_owner  income  months_employed  years_employed  \\\n",
       "0   7629673   40           1    3135                0               3   \n",
       "1   3560428   61           0    3180                0               6   \n",
       "2   6934997   23           0    1540                6               0   \n",
       "3   5682812   40           0    5230                0               6   \n",
       "4   5335819   33           0    3590                0               5   \n",
       "\n",
       "   current_address_year  personal_account_m  personal_account_y  has_debt  \\\n",
       "0                     3                   6                   2         1   \n",
       "1                     3                   2                   7         1   \n",
       "2                     0                   7                   1         1   \n",
       "3                     1                   2                   7         1   \n",
       "4                     2                   2                   8         1   \n",
       "\n",
       "   ...  risk_score_3  risk_score_4  risk_score_5  ext_quality_score  \\\n",
       "0  ...      0.903517      0.487712      0.515977           0.580918   \n",
       "1  ...      0.881027      0.713423      0.826402           0.730720   \n",
       "2  ...      0.766554      0.595018      0.762284           0.531712   \n",
       "3  ...      0.960832      0.767828      0.778831           0.792552   \n",
       "4  ...      0.857560      0.613487      0.665523           0.744634   \n",
       "\n",
       "   ext_quality_score_2  inquiries_last_month  e_signed  pay_schedule_monthly  \\\n",
       "0             0.380918                    10         1                 False   \n",
       "1             0.630720                     9         0                 False   \n",
       "2             0.531712                     7         0                 False   \n",
       "3             0.592552                     8         1                 False   \n",
       "4             0.744634                    12         0                 False   \n",
       "\n",
       "   pay_schedule_semi-monthly  pay_schedule_weekly  \n",
       "0                      False                False  \n",
       "1                      False                 True  \n",
       "2                      False                 True  \n",
       "3                      False                False  \n",
       "4                       True                False  \n",
       "\n",
       "[5 rows x 23 columns]"
      ]
     },
     "execution_count": 23,
     "metadata": {},
     "output_type": "execute_result"
    }
   ],
   "source": [
    "dataset.head()"
   ]
  },
  {
   "cell_type": "code",
   "execution_count": 24,
   "metadata": {
    "id": "hlXZ8KUPx5ZT"
   },
   "outputs": [],
   "source": [
    "dataset['months employeed'] = (dataset.months_employed + dataset.years_employed *12)"
   ]
  },
  {
   "cell_type": "code",
   "execution_count": 25,
   "metadata": {
    "colab": {
     "base_uri": "https://localhost:8080/",
     "height": 232
    },
    "id": "Y9NdxuTN2aVJ",
    "outputId": "9d4bf851-0b05-4cca-8c8b-6cc99c541e02"
   },
   "outputs": [
    {
     "data": {
      "text/html": [
       "<div>\n",
       "<style scoped>\n",
       "    .dataframe tbody tr th:only-of-type {\n",
       "        vertical-align: middle;\n",
       "    }\n",
       "\n",
       "    .dataframe tbody tr th {\n",
       "        vertical-align: top;\n",
       "    }\n",
       "\n",
       "    .dataframe thead th {\n",
       "        text-align: right;\n",
       "    }\n",
       "</style>\n",
       "<table border=\"1\" class=\"dataframe\">\n",
       "  <thead>\n",
       "    <tr style=\"text-align: right;\">\n",
       "      <th></th>\n",
       "      <th>entry_id</th>\n",
       "      <th>age</th>\n",
       "      <th>home_owner</th>\n",
       "      <th>income</th>\n",
       "      <th>months_employed</th>\n",
       "      <th>years_employed</th>\n",
       "      <th>current_address_year</th>\n",
       "      <th>personal_account_m</th>\n",
       "      <th>personal_account_y</th>\n",
       "      <th>has_debt</th>\n",
       "      <th>...</th>\n",
       "      <th>risk_score_4</th>\n",
       "      <th>risk_score_5</th>\n",
       "      <th>ext_quality_score</th>\n",
       "      <th>ext_quality_score_2</th>\n",
       "      <th>inquiries_last_month</th>\n",
       "      <th>e_signed</th>\n",
       "      <th>pay_schedule_monthly</th>\n",
       "      <th>pay_schedule_semi-monthly</th>\n",
       "      <th>pay_schedule_weekly</th>\n",
       "      <th>months employeed</th>\n",
       "    </tr>\n",
       "  </thead>\n",
       "  <tbody>\n",
       "    <tr>\n",
       "      <th>0</th>\n",
       "      <td>7629673</td>\n",
       "      <td>40</td>\n",
       "      <td>1</td>\n",
       "      <td>3135</td>\n",
       "      <td>0</td>\n",
       "      <td>3</td>\n",
       "      <td>3</td>\n",
       "      <td>6</td>\n",
       "      <td>2</td>\n",
       "      <td>1</td>\n",
       "      <td>...</td>\n",
       "      <td>0.487712</td>\n",
       "      <td>0.515977</td>\n",
       "      <td>0.580918</td>\n",
       "      <td>0.380918</td>\n",
       "      <td>10</td>\n",
       "      <td>1</td>\n",
       "      <td>False</td>\n",
       "      <td>False</td>\n",
       "      <td>False</td>\n",
       "      <td>36</td>\n",
       "    </tr>\n",
       "    <tr>\n",
       "      <th>1</th>\n",
       "      <td>3560428</td>\n",
       "      <td>61</td>\n",
       "      <td>0</td>\n",
       "      <td>3180</td>\n",
       "      <td>0</td>\n",
       "      <td>6</td>\n",
       "      <td>3</td>\n",
       "      <td>2</td>\n",
       "      <td>7</td>\n",
       "      <td>1</td>\n",
       "      <td>...</td>\n",
       "      <td>0.713423</td>\n",
       "      <td>0.826402</td>\n",
       "      <td>0.730720</td>\n",
       "      <td>0.630720</td>\n",
       "      <td>9</td>\n",
       "      <td>0</td>\n",
       "      <td>False</td>\n",
       "      <td>False</td>\n",
       "      <td>True</td>\n",
       "      <td>72</td>\n",
       "    </tr>\n",
       "    <tr>\n",
       "      <th>2</th>\n",
       "      <td>6934997</td>\n",
       "      <td>23</td>\n",
       "      <td>0</td>\n",
       "      <td>1540</td>\n",
       "      <td>6</td>\n",
       "      <td>0</td>\n",
       "      <td>0</td>\n",
       "      <td>7</td>\n",
       "      <td>1</td>\n",
       "      <td>1</td>\n",
       "      <td>...</td>\n",
       "      <td>0.595018</td>\n",
       "      <td>0.762284</td>\n",
       "      <td>0.531712</td>\n",
       "      <td>0.531712</td>\n",
       "      <td>7</td>\n",
       "      <td>0</td>\n",
       "      <td>False</td>\n",
       "      <td>False</td>\n",
       "      <td>True</td>\n",
       "      <td>6</td>\n",
       "    </tr>\n",
       "    <tr>\n",
       "      <th>3</th>\n",
       "      <td>5682812</td>\n",
       "      <td>40</td>\n",
       "      <td>0</td>\n",
       "      <td>5230</td>\n",
       "      <td>0</td>\n",
       "      <td>6</td>\n",
       "      <td>1</td>\n",
       "      <td>2</td>\n",
       "      <td>7</td>\n",
       "      <td>1</td>\n",
       "      <td>...</td>\n",
       "      <td>0.767828</td>\n",
       "      <td>0.778831</td>\n",
       "      <td>0.792552</td>\n",
       "      <td>0.592552</td>\n",
       "      <td>8</td>\n",
       "      <td>1</td>\n",
       "      <td>False</td>\n",
       "      <td>False</td>\n",
       "      <td>False</td>\n",
       "      <td>72</td>\n",
       "    </tr>\n",
       "    <tr>\n",
       "      <th>4</th>\n",
       "      <td>5335819</td>\n",
       "      <td>33</td>\n",
       "      <td>0</td>\n",
       "      <td>3590</td>\n",
       "      <td>0</td>\n",
       "      <td>5</td>\n",
       "      <td>2</td>\n",
       "      <td>2</td>\n",
       "      <td>8</td>\n",
       "      <td>1</td>\n",
       "      <td>...</td>\n",
       "      <td>0.613487</td>\n",
       "      <td>0.665523</td>\n",
       "      <td>0.744634</td>\n",
       "      <td>0.744634</td>\n",
       "      <td>12</td>\n",
       "      <td>0</td>\n",
       "      <td>False</td>\n",
       "      <td>True</td>\n",
       "      <td>False</td>\n",
       "      <td>60</td>\n",
       "    </tr>\n",
       "  </tbody>\n",
       "</table>\n",
       "<p>5 rows × 24 columns</p>\n",
       "</div>"
      ],
      "text/plain": [
       "   entry_id  age  home_owner  income  months_employed  years_employed  \\\n",
       "0   7629673   40           1    3135                0               3   \n",
       "1   3560428   61           0    3180                0               6   \n",
       "2   6934997   23           0    1540                6               0   \n",
       "3   5682812   40           0    5230                0               6   \n",
       "4   5335819   33           0    3590                0               5   \n",
       "\n",
       "   current_address_year  personal_account_m  personal_account_y  has_debt  \\\n",
       "0                     3                   6                   2         1   \n",
       "1                     3                   2                   7         1   \n",
       "2                     0                   7                   1         1   \n",
       "3                     1                   2                   7         1   \n",
       "4                     2                   2                   8         1   \n",
       "\n",
       "   ...  risk_score_4  risk_score_5  ext_quality_score  ext_quality_score_2  \\\n",
       "0  ...      0.487712      0.515977           0.580918             0.380918   \n",
       "1  ...      0.713423      0.826402           0.730720             0.630720   \n",
       "2  ...      0.595018      0.762284           0.531712             0.531712   \n",
       "3  ...      0.767828      0.778831           0.792552             0.592552   \n",
       "4  ...      0.613487      0.665523           0.744634             0.744634   \n",
       "\n",
       "   inquiries_last_month  e_signed  pay_schedule_monthly  \\\n",
       "0                    10         1                 False   \n",
       "1                     9         0                 False   \n",
       "2                     7         0                 False   \n",
       "3                     8         1                 False   \n",
       "4                    12         0                 False   \n",
       "\n",
       "   pay_schedule_semi-monthly  pay_schedule_weekly  months employeed  \n",
       "0                      False                False                36  \n",
       "1                      False                 True                72  \n",
       "2                      False                 True                 6  \n",
       "3                      False                False                72  \n",
       "4                       True                False                60  \n",
       "\n",
       "[5 rows x 24 columns]"
      ]
     },
     "execution_count": 25,
     "metadata": {},
     "output_type": "execute_result"
    }
   ],
   "source": [
    "dataset.head()"
   ]
  },
  {
   "cell_type": "code",
   "execution_count": 26,
   "metadata": {
    "id": "ZdiBIX_X3dPl"
   },
   "outputs": [],
   "source": [
    "dataset = dataset.drop(columns=['months_employed', 'years_employed'])"
   ]
  },
  {
   "cell_type": "code",
   "execution_count": 27,
   "metadata": {
    "colab": {
     "base_uri": "https://localhost:8080/",
     "height": 232
    },
    "id": "AysX5nzt2aeh",
    "outputId": "48895259-1da5-4c32-cfa7-187bf30bf14e"
   },
   "outputs": [
    {
     "data": {
      "text/html": [
       "<div>\n",
       "<style scoped>\n",
       "    .dataframe tbody tr th:only-of-type {\n",
       "        vertical-align: middle;\n",
       "    }\n",
       "\n",
       "    .dataframe tbody tr th {\n",
       "        vertical-align: top;\n",
       "    }\n",
       "\n",
       "    .dataframe thead th {\n",
       "        text-align: right;\n",
       "    }\n",
       "</style>\n",
       "<table border=\"1\" class=\"dataframe\">\n",
       "  <thead>\n",
       "    <tr style=\"text-align: right;\">\n",
       "      <th></th>\n",
       "      <th>entry_id</th>\n",
       "      <th>age</th>\n",
       "      <th>home_owner</th>\n",
       "      <th>income</th>\n",
       "      <th>current_address_year</th>\n",
       "      <th>personal_account_m</th>\n",
       "      <th>personal_account_y</th>\n",
       "      <th>has_debt</th>\n",
       "      <th>amount_requested</th>\n",
       "      <th>risk_score</th>\n",
       "      <th>...</th>\n",
       "      <th>risk_score_4</th>\n",
       "      <th>risk_score_5</th>\n",
       "      <th>ext_quality_score</th>\n",
       "      <th>ext_quality_score_2</th>\n",
       "      <th>inquiries_last_month</th>\n",
       "      <th>e_signed</th>\n",
       "      <th>pay_schedule_monthly</th>\n",
       "      <th>pay_schedule_semi-monthly</th>\n",
       "      <th>pay_schedule_weekly</th>\n",
       "      <th>months employeed</th>\n",
       "    </tr>\n",
       "  </thead>\n",
       "  <tbody>\n",
       "    <tr>\n",
       "      <th>0</th>\n",
       "      <td>7629673</td>\n",
       "      <td>40</td>\n",
       "      <td>1</td>\n",
       "      <td>3135</td>\n",
       "      <td>3</td>\n",
       "      <td>6</td>\n",
       "      <td>2</td>\n",
       "      <td>1</td>\n",
       "      <td>550</td>\n",
       "      <td>36200</td>\n",
       "      <td>...</td>\n",
       "      <td>0.487712</td>\n",
       "      <td>0.515977</td>\n",
       "      <td>0.580918</td>\n",
       "      <td>0.380918</td>\n",
       "      <td>10</td>\n",
       "      <td>1</td>\n",
       "      <td>False</td>\n",
       "      <td>False</td>\n",
       "      <td>False</td>\n",
       "      <td>36</td>\n",
       "    </tr>\n",
       "    <tr>\n",
       "      <th>1</th>\n",
       "      <td>3560428</td>\n",
       "      <td>61</td>\n",
       "      <td>0</td>\n",
       "      <td>3180</td>\n",
       "      <td>3</td>\n",
       "      <td>2</td>\n",
       "      <td>7</td>\n",
       "      <td>1</td>\n",
       "      <td>600</td>\n",
       "      <td>30150</td>\n",
       "      <td>...</td>\n",
       "      <td>0.713423</td>\n",
       "      <td>0.826402</td>\n",
       "      <td>0.730720</td>\n",
       "      <td>0.630720</td>\n",
       "      <td>9</td>\n",
       "      <td>0</td>\n",
       "      <td>False</td>\n",
       "      <td>False</td>\n",
       "      <td>True</td>\n",
       "      <td>72</td>\n",
       "    </tr>\n",
       "    <tr>\n",
       "      <th>2</th>\n",
       "      <td>6934997</td>\n",
       "      <td>23</td>\n",
       "      <td>0</td>\n",
       "      <td>1540</td>\n",
       "      <td>0</td>\n",
       "      <td>7</td>\n",
       "      <td>1</td>\n",
       "      <td>1</td>\n",
       "      <td>450</td>\n",
       "      <td>34550</td>\n",
       "      <td>...</td>\n",
       "      <td>0.595018</td>\n",
       "      <td>0.762284</td>\n",
       "      <td>0.531712</td>\n",
       "      <td>0.531712</td>\n",
       "      <td>7</td>\n",
       "      <td>0</td>\n",
       "      <td>False</td>\n",
       "      <td>False</td>\n",
       "      <td>True</td>\n",
       "      <td>6</td>\n",
       "    </tr>\n",
       "    <tr>\n",
       "      <th>3</th>\n",
       "      <td>5682812</td>\n",
       "      <td>40</td>\n",
       "      <td>0</td>\n",
       "      <td>5230</td>\n",
       "      <td>1</td>\n",
       "      <td>2</td>\n",
       "      <td>7</td>\n",
       "      <td>1</td>\n",
       "      <td>700</td>\n",
       "      <td>42150</td>\n",
       "      <td>...</td>\n",
       "      <td>0.767828</td>\n",
       "      <td>0.778831</td>\n",
       "      <td>0.792552</td>\n",
       "      <td>0.592552</td>\n",
       "      <td>8</td>\n",
       "      <td>1</td>\n",
       "      <td>False</td>\n",
       "      <td>False</td>\n",
       "      <td>False</td>\n",
       "      <td>72</td>\n",
       "    </tr>\n",
       "    <tr>\n",
       "      <th>4</th>\n",
       "      <td>5335819</td>\n",
       "      <td>33</td>\n",
       "      <td>0</td>\n",
       "      <td>3590</td>\n",
       "      <td>2</td>\n",
       "      <td>2</td>\n",
       "      <td>8</td>\n",
       "      <td>1</td>\n",
       "      <td>1100</td>\n",
       "      <td>53850</td>\n",
       "      <td>...</td>\n",
       "      <td>0.613487</td>\n",
       "      <td>0.665523</td>\n",
       "      <td>0.744634</td>\n",
       "      <td>0.744634</td>\n",
       "      <td>12</td>\n",
       "      <td>0</td>\n",
       "      <td>False</td>\n",
       "      <td>True</td>\n",
       "      <td>False</td>\n",
       "      <td>60</td>\n",
       "    </tr>\n",
       "  </tbody>\n",
       "</table>\n",
       "<p>5 rows × 22 columns</p>\n",
       "</div>"
      ],
      "text/plain": [
       "   entry_id  age  home_owner  income  current_address_year  \\\n",
       "0   7629673   40           1    3135                     3   \n",
       "1   3560428   61           0    3180                     3   \n",
       "2   6934997   23           0    1540                     0   \n",
       "3   5682812   40           0    5230                     1   \n",
       "4   5335819   33           0    3590                     2   \n",
       "\n",
       "   personal_account_m  personal_account_y  has_debt  amount_requested  \\\n",
       "0                   6                   2         1               550   \n",
       "1                   2                   7         1               600   \n",
       "2                   7                   1         1               450   \n",
       "3                   2                   7         1               700   \n",
       "4                   2                   8         1              1100   \n",
       "\n",
       "   risk_score  ...  risk_score_4  risk_score_5  ext_quality_score  \\\n",
       "0       36200  ...      0.487712      0.515977           0.580918   \n",
       "1       30150  ...      0.713423      0.826402           0.730720   \n",
       "2       34550  ...      0.595018      0.762284           0.531712   \n",
       "3       42150  ...      0.767828      0.778831           0.792552   \n",
       "4       53850  ...      0.613487      0.665523           0.744634   \n",
       "\n",
       "   ext_quality_score_2  inquiries_last_month  e_signed  pay_schedule_monthly  \\\n",
       "0             0.380918                    10         1                 False   \n",
       "1             0.630720                     9         0                 False   \n",
       "2             0.531712                     7         0                 False   \n",
       "3             0.592552                     8         1                 False   \n",
       "4             0.744634                    12         0                 False   \n",
       "\n",
       "   pay_schedule_semi-monthly  pay_schedule_weekly  months employeed  \n",
       "0                      False                False                36  \n",
       "1                      False                 True                72  \n",
       "2                      False                 True                 6  \n",
       "3                      False                False                72  \n",
       "4                       True                False                60  \n",
       "\n",
       "[5 rows x 22 columns]"
      ]
     },
     "execution_count": 27,
     "metadata": {},
     "output_type": "execute_result"
    }
   ],
   "source": [
    "dataset.head()"
   ]
  },
  {
   "cell_type": "code",
   "execution_count": 28,
   "metadata": {
    "id": "33KbveYN3tHM"
   },
   "outputs": [],
   "source": [
    "dataset['personnal account months'] = (dataset.personal_account_m + dataset.personal_account_y *12)"
   ]
  },
  {
   "cell_type": "code",
   "execution_count": 29,
   "metadata": {
    "colab": {
     "base_uri": "https://localhost:8080/",
     "height": 249
    },
    "id": "ZJEDWlDA3_jQ",
    "outputId": "1b735c4f-3f84-48a2-c4f3-4b499c9b3b87"
   },
   "outputs": [
    {
     "data": {
      "text/html": [
       "<div>\n",
       "<style scoped>\n",
       "    .dataframe tbody tr th:only-of-type {\n",
       "        vertical-align: middle;\n",
       "    }\n",
       "\n",
       "    .dataframe tbody tr th {\n",
       "        vertical-align: top;\n",
       "    }\n",
       "\n",
       "    .dataframe thead th {\n",
       "        text-align: right;\n",
       "    }\n",
       "</style>\n",
       "<table border=\"1\" class=\"dataframe\">\n",
       "  <thead>\n",
       "    <tr style=\"text-align: right;\">\n",
       "      <th></th>\n",
       "      <th>entry_id</th>\n",
       "      <th>age</th>\n",
       "      <th>home_owner</th>\n",
       "      <th>income</th>\n",
       "      <th>current_address_year</th>\n",
       "      <th>personal_account_m</th>\n",
       "      <th>personal_account_y</th>\n",
       "      <th>has_debt</th>\n",
       "      <th>amount_requested</th>\n",
       "      <th>risk_score</th>\n",
       "      <th>...</th>\n",
       "      <th>risk_score_5</th>\n",
       "      <th>ext_quality_score</th>\n",
       "      <th>ext_quality_score_2</th>\n",
       "      <th>inquiries_last_month</th>\n",
       "      <th>e_signed</th>\n",
       "      <th>pay_schedule_monthly</th>\n",
       "      <th>pay_schedule_semi-monthly</th>\n",
       "      <th>pay_schedule_weekly</th>\n",
       "      <th>months employeed</th>\n",
       "      <th>personnal account months</th>\n",
       "    </tr>\n",
       "  </thead>\n",
       "  <tbody>\n",
       "    <tr>\n",
       "      <th>0</th>\n",
       "      <td>7629673</td>\n",
       "      <td>40</td>\n",
       "      <td>1</td>\n",
       "      <td>3135</td>\n",
       "      <td>3</td>\n",
       "      <td>6</td>\n",
       "      <td>2</td>\n",
       "      <td>1</td>\n",
       "      <td>550</td>\n",
       "      <td>36200</td>\n",
       "      <td>...</td>\n",
       "      <td>0.515977</td>\n",
       "      <td>0.580918</td>\n",
       "      <td>0.380918</td>\n",
       "      <td>10</td>\n",
       "      <td>1</td>\n",
       "      <td>False</td>\n",
       "      <td>False</td>\n",
       "      <td>False</td>\n",
       "      <td>36</td>\n",
       "      <td>30</td>\n",
       "    </tr>\n",
       "    <tr>\n",
       "      <th>1</th>\n",
       "      <td>3560428</td>\n",
       "      <td>61</td>\n",
       "      <td>0</td>\n",
       "      <td>3180</td>\n",
       "      <td>3</td>\n",
       "      <td>2</td>\n",
       "      <td>7</td>\n",
       "      <td>1</td>\n",
       "      <td>600</td>\n",
       "      <td>30150</td>\n",
       "      <td>...</td>\n",
       "      <td>0.826402</td>\n",
       "      <td>0.730720</td>\n",
       "      <td>0.630720</td>\n",
       "      <td>9</td>\n",
       "      <td>0</td>\n",
       "      <td>False</td>\n",
       "      <td>False</td>\n",
       "      <td>True</td>\n",
       "      <td>72</td>\n",
       "      <td>86</td>\n",
       "    </tr>\n",
       "    <tr>\n",
       "      <th>2</th>\n",
       "      <td>6934997</td>\n",
       "      <td>23</td>\n",
       "      <td>0</td>\n",
       "      <td>1540</td>\n",
       "      <td>0</td>\n",
       "      <td>7</td>\n",
       "      <td>1</td>\n",
       "      <td>1</td>\n",
       "      <td>450</td>\n",
       "      <td>34550</td>\n",
       "      <td>...</td>\n",
       "      <td>0.762284</td>\n",
       "      <td>0.531712</td>\n",
       "      <td>0.531712</td>\n",
       "      <td>7</td>\n",
       "      <td>0</td>\n",
       "      <td>False</td>\n",
       "      <td>False</td>\n",
       "      <td>True</td>\n",
       "      <td>6</td>\n",
       "      <td>19</td>\n",
       "    </tr>\n",
       "    <tr>\n",
       "      <th>3</th>\n",
       "      <td>5682812</td>\n",
       "      <td>40</td>\n",
       "      <td>0</td>\n",
       "      <td>5230</td>\n",
       "      <td>1</td>\n",
       "      <td>2</td>\n",
       "      <td>7</td>\n",
       "      <td>1</td>\n",
       "      <td>700</td>\n",
       "      <td>42150</td>\n",
       "      <td>...</td>\n",
       "      <td>0.778831</td>\n",
       "      <td>0.792552</td>\n",
       "      <td>0.592552</td>\n",
       "      <td>8</td>\n",
       "      <td>1</td>\n",
       "      <td>False</td>\n",
       "      <td>False</td>\n",
       "      <td>False</td>\n",
       "      <td>72</td>\n",
       "      <td>86</td>\n",
       "    </tr>\n",
       "    <tr>\n",
       "      <th>4</th>\n",
       "      <td>5335819</td>\n",
       "      <td>33</td>\n",
       "      <td>0</td>\n",
       "      <td>3590</td>\n",
       "      <td>2</td>\n",
       "      <td>2</td>\n",
       "      <td>8</td>\n",
       "      <td>1</td>\n",
       "      <td>1100</td>\n",
       "      <td>53850</td>\n",
       "      <td>...</td>\n",
       "      <td>0.665523</td>\n",
       "      <td>0.744634</td>\n",
       "      <td>0.744634</td>\n",
       "      <td>12</td>\n",
       "      <td>0</td>\n",
       "      <td>False</td>\n",
       "      <td>True</td>\n",
       "      <td>False</td>\n",
       "      <td>60</td>\n",
       "      <td>98</td>\n",
       "    </tr>\n",
       "  </tbody>\n",
       "</table>\n",
       "<p>5 rows × 23 columns</p>\n",
       "</div>"
      ],
      "text/plain": [
       "   entry_id  age  home_owner  income  current_address_year  \\\n",
       "0   7629673   40           1    3135                     3   \n",
       "1   3560428   61           0    3180                     3   \n",
       "2   6934997   23           0    1540                     0   \n",
       "3   5682812   40           0    5230                     1   \n",
       "4   5335819   33           0    3590                     2   \n",
       "\n",
       "   personal_account_m  personal_account_y  has_debt  amount_requested  \\\n",
       "0                   6                   2         1               550   \n",
       "1                   2                   7         1               600   \n",
       "2                   7                   1         1               450   \n",
       "3                   2                   7         1               700   \n",
       "4                   2                   8         1              1100   \n",
       "\n",
       "   risk_score  ...  risk_score_5  ext_quality_score  ext_quality_score_2  \\\n",
       "0       36200  ...      0.515977           0.580918             0.380918   \n",
       "1       30150  ...      0.826402           0.730720             0.630720   \n",
       "2       34550  ...      0.762284           0.531712             0.531712   \n",
       "3       42150  ...      0.778831           0.792552             0.592552   \n",
       "4       53850  ...      0.665523           0.744634             0.744634   \n",
       "\n",
       "   inquiries_last_month  e_signed  pay_schedule_monthly  \\\n",
       "0                    10         1                 False   \n",
       "1                     9         0                 False   \n",
       "2                     7         0                 False   \n",
       "3                     8         1                 False   \n",
       "4                    12         0                 False   \n",
       "\n",
       "   pay_schedule_semi-monthly  pay_schedule_weekly  months employeed  \\\n",
       "0                      False                False                36   \n",
       "1                      False                 True                72   \n",
       "2                      False                 True                 6   \n",
       "3                      False                False                72   \n",
       "4                       True                False                60   \n",
       "\n",
       "   personnal account months  \n",
       "0                        30  \n",
       "1                        86  \n",
       "2                        19  \n",
       "3                        86  \n",
       "4                        98  \n",
       "\n",
       "[5 rows x 23 columns]"
      ]
     },
     "execution_count": 29,
     "metadata": {},
     "output_type": "execute_result"
    }
   ],
   "source": [
    "dataset.head()"
   ]
  },
  {
   "cell_type": "code",
   "execution_count": 30,
   "metadata": {
    "id": "B-LX2yRP4Iak"
   },
   "outputs": [],
   "source": [
    "dataset = dataset.drop(columns=['personal_account_m', 'personal_account_y'])"
   ]
  },
  {
   "cell_type": "code",
   "execution_count": 31,
   "metadata": {
    "colab": {
     "base_uri": "https://localhost:8080/",
     "height": 249
    },
    "id": "lCxKjifY4Nl6",
    "outputId": "526238d8-37dc-4c1b-a59c-f53f5779b637"
   },
   "outputs": [
    {
     "data": {
      "text/html": [
       "<div>\n",
       "<style scoped>\n",
       "    .dataframe tbody tr th:only-of-type {\n",
       "        vertical-align: middle;\n",
       "    }\n",
       "\n",
       "    .dataframe tbody tr th {\n",
       "        vertical-align: top;\n",
       "    }\n",
       "\n",
       "    .dataframe thead th {\n",
       "        text-align: right;\n",
       "    }\n",
       "</style>\n",
       "<table border=\"1\" class=\"dataframe\">\n",
       "  <thead>\n",
       "    <tr style=\"text-align: right;\">\n",
       "      <th></th>\n",
       "      <th>entry_id</th>\n",
       "      <th>age</th>\n",
       "      <th>home_owner</th>\n",
       "      <th>income</th>\n",
       "      <th>current_address_year</th>\n",
       "      <th>has_debt</th>\n",
       "      <th>amount_requested</th>\n",
       "      <th>risk_score</th>\n",
       "      <th>risk_score_2</th>\n",
       "      <th>risk_score_3</th>\n",
       "      <th>...</th>\n",
       "      <th>risk_score_5</th>\n",
       "      <th>ext_quality_score</th>\n",
       "      <th>ext_quality_score_2</th>\n",
       "      <th>inquiries_last_month</th>\n",
       "      <th>e_signed</th>\n",
       "      <th>pay_schedule_monthly</th>\n",
       "      <th>pay_schedule_semi-monthly</th>\n",
       "      <th>pay_schedule_weekly</th>\n",
       "      <th>months employeed</th>\n",
       "      <th>personnal account months</th>\n",
       "    </tr>\n",
       "  </thead>\n",
       "  <tbody>\n",
       "    <tr>\n",
       "      <th>0</th>\n",
       "      <td>7629673</td>\n",
       "      <td>40</td>\n",
       "      <td>1</td>\n",
       "      <td>3135</td>\n",
       "      <td>3</td>\n",
       "      <td>1</td>\n",
       "      <td>550</td>\n",
       "      <td>36200</td>\n",
       "      <td>0.737398</td>\n",
       "      <td>0.903517</td>\n",
       "      <td>...</td>\n",
       "      <td>0.515977</td>\n",
       "      <td>0.580918</td>\n",
       "      <td>0.380918</td>\n",
       "      <td>10</td>\n",
       "      <td>1</td>\n",
       "      <td>False</td>\n",
       "      <td>False</td>\n",
       "      <td>False</td>\n",
       "      <td>36</td>\n",
       "      <td>30</td>\n",
       "    </tr>\n",
       "    <tr>\n",
       "      <th>1</th>\n",
       "      <td>3560428</td>\n",
       "      <td>61</td>\n",
       "      <td>0</td>\n",
       "      <td>3180</td>\n",
       "      <td>3</td>\n",
       "      <td>1</td>\n",
       "      <td>600</td>\n",
       "      <td>30150</td>\n",
       "      <td>0.738510</td>\n",
       "      <td>0.881027</td>\n",
       "      <td>...</td>\n",
       "      <td>0.826402</td>\n",
       "      <td>0.730720</td>\n",
       "      <td>0.630720</td>\n",
       "      <td>9</td>\n",
       "      <td>0</td>\n",
       "      <td>False</td>\n",
       "      <td>False</td>\n",
       "      <td>True</td>\n",
       "      <td>72</td>\n",
       "      <td>86</td>\n",
       "    </tr>\n",
       "    <tr>\n",
       "      <th>2</th>\n",
       "      <td>6934997</td>\n",
       "      <td>23</td>\n",
       "      <td>0</td>\n",
       "      <td>1540</td>\n",
       "      <td>0</td>\n",
       "      <td>1</td>\n",
       "      <td>450</td>\n",
       "      <td>34550</td>\n",
       "      <td>0.642993</td>\n",
       "      <td>0.766554</td>\n",
       "      <td>...</td>\n",
       "      <td>0.762284</td>\n",
       "      <td>0.531712</td>\n",
       "      <td>0.531712</td>\n",
       "      <td>7</td>\n",
       "      <td>0</td>\n",
       "      <td>False</td>\n",
       "      <td>False</td>\n",
       "      <td>True</td>\n",
       "      <td>6</td>\n",
       "      <td>19</td>\n",
       "    </tr>\n",
       "    <tr>\n",
       "      <th>3</th>\n",
       "      <td>5682812</td>\n",
       "      <td>40</td>\n",
       "      <td>0</td>\n",
       "      <td>5230</td>\n",
       "      <td>1</td>\n",
       "      <td>1</td>\n",
       "      <td>700</td>\n",
       "      <td>42150</td>\n",
       "      <td>0.665224</td>\n",
       "      <td>0.960832</td>\n",
       "      <td>...</td>\n",
       "      <td>0.778831</td>\n",
       "      <td>0.792552</td>\n",
       "      <td>0.592552</td>\n",
       "      <td>8</td>\n",
       "      <td>1</td>\n",
       "      <td>False</td>\n",
       "      <td>False</td>\n",
       "      <td>False</td>\n",
       "      <td>72</td>\n",
       "      <td>86</td>\n",
       "    </tr>\n",
       "    <tr>\n",
       "      <th>4</th>\n",
       "      <td>5335819</td>\n",
       "      <td>33</td>\n",
       "      <td>0</td>\n",
       "      <td>3590</td>\n",
       "      <td>2</td>\n",
       "      <td>1</td>\n",
       "      <td>1100</td>\n",
       "      <td>53850</td>\n",
       "      <td>0.617361</td>\n",
       "      <td>0.857560</td>\n",
       "      <td>...</td>\n",
       "      <td>0.665523</td>\n",
       "      <td>0.744634</td>\n",
       "      <td>0.744634</td>\n",
       "      <td>12</td>\n",
       "      <td>0</td>\n",
       "      <td>False</td>\n",
       "      <td>True</td>\n",
       "      <td>False</td>\n",
       "      <td>60</td>\n",
       "      <td>98</td>\n",
       "    </tr>\n",
       "  </tbody>\n",
       "</table>\n",
       "<p>5 rows × 21 columns</p>\n",
       "</div>"
      ],
      "text/plain": [
       "   entry_id  age  home_owner  income  current_address_year  has_debt  \\\n",
       "0   7629673   40           1    3135                     3         1   \n",
       "1   3560428   61           0    3180                     3         1   \n",
       "2   6934997   23           0    1540                     0         1   \n",
       "3   5682812   40           0    5230                     1         1   \n",
       "4   5335819   33           0    3590                     2         1   \n",
       "\n",
       "   amount_requested  risk_score  risk_score_2  risk_score_3  ...  \\\n",
       "0               550       36200      0.737398      0.903517  ...   \n",
       "1               600       30150      0.738510      0.881027  ...   \n",
       "2               450       34550      0.642993      0.766554  ...   \n",
       "3               700       42150      0.665224      0.960832  ...   \n",
       "4              1100       53850      0.617361      0.857560  ...   \n",
       "\n",
       "   risk_score_5  ext_quality_score  ext_quality_score_2  inquiries_last_month  \\\n",
       "0      0.515977           0.580918             0.380918                    10   \n",
       "1      0.826402           0.730720             0.630720                     9   \n",
       "2      0.762284           0.531712             0.531712                     7   \n",
       "3      0.778831           0.792552             0.592552                     8   \n",
       "4      0.665523           0.744634             0.744634                    12   \n",
       "\n",
       "   e_signed  pay_schedule_monthly  pay_schedule_semi-monthly  \\\n",
       "0         1                 False                      False   \n",
       "1         0                 False                      False   \n",
       "2         0                 False                      False   \n",
       "3         1                 False                      False   \n",
       "4         0                 False                       True   \n",
       "\n",
       "   pay_schedule_weekly  months employeed  personnal account months  \n",
       "0                False                36                        30  \n",
       "1                 True                72                        86  \n",
       "2                 True                 6                        19  \n",
       "3                False                72                        86  \n",
       "4                False                60                        98  \n",
       "\n",
       "[5 rows x 21 columns]"
      ]
     },
     "execution_count": 31,
     "metadata": {},
     "output_type": "execute_result"
    }
   ],
   "source": [
    "dataset.head()"
   ]
  },
  {
   "cell_type": "markdown",
   "metadata": {
    "id": "Px9_evlj4U77"
   },
   "source": [
    "## Correlation matrix and heatmap"
   ]
  },
  {
   "cell_type": "code",
   "execution_count": 32,
   "metadata": {
    "id": "kbhH1U4F4ZXq"
   },
   "outputs": [],
   "source": [
    "dataset_2 = dataset.drop(columns=['entry_id', 'e_signed'])"
   ]
  },
  {
   "cell_type": "code",
   "execution_count": 33,
   "metadata": {
    "colab": {
     "base_uri": "https://localhost:8080/",
     "height": 702
    },
    "id": "30cOBMH74lty",
    "outputId": "4d7afabf-9c75-421f-b19d-428c6853f12b"
   },
   "outputs": [
    {
     "data": {
      "text/plain": [
       "<Axes: title={'center': 'Correlated with e_signed'}>"
      ]
     },
     "execution_count": 33,
     "metadata": {},
     "output_type": "execute_result"
    },
    {
     "data": {
      "image/png": "[encoded data removed]",
      "text/plain": [
       "<Figure size 1600x900 with 1 Axes>"
      ]
     },
     "metadata": {},
     "output_type": "display_data"
    }
   ],
   "source": [
    "dataset_2.corrwith(dataset['e_signed']).plot.bar(\n",
    "    figsize=(16, 9), title = 'Correlated with e_signed', grid=True\n",
    ")"
   ]
  },
  {
   "cell_type": "code",
   "execution_count": 34,
   "metadata": {
    "colab": {
     "base_uri": "https://localhost:8080/",
     "height": 673
    },
    "id": "jZzHnaka5EL0",
    "outputId": "d2d03eb5-d82a-4433-cfb4-d6826e63cfa5"
   },
   "outputs": [
    {
     "data": {
      "image/png": "[encoded data removed]",
      "text/plain": [
       "<Figure size 1600x900 with 2 Axes>"
      ]
     },
     "metadata": {},
     "output_type": "display_data"
    }
   ],
   "source": [
    "# heatmap\n",
    "plt.figure(figsize=(16,9))\n",
    "ax = sns.heatmap(dataset.corr(), annot=True)"
   ]
  },
  {
   "cell_type": "markdown",
   "metadata": {
    "id": "Udcc0pzV5tB7"
   },
   "source": [
    "## Splitting the dataset"
   ]
  },
  {
   "cell_type": "code",
   "execution_count": 35,
   "metadata": {
    "colab": {
     "base_uri": "https://localhost:8080/",
     "height": 249
    },
    "id": "Nzmx7pqx5wMc",
    "outputId": "24620ef9-769f-45d7-a123-2614c23bd42e"
   },
   "outputs": [
    {
     "data": {
      "text/html": [
       "<div>\n",
       "<style scoped>\n",
       "    .dataframe tbody tr th:only-of-type {\n",
       "        vertical-align: middle;\n",
       "    }\n",
       "\n",
       "    .dataframe tbody tr th {\n",
       "        vertical-align: top;\n",
       "    }\n",
       "\n",
       "    .dataframe thead th {\n",
       "        text-align: right;\n",
       "    }\n",
       "</style>\n",
       "<table border=\"1\" class=\"dataframe\">\n",
       "  <thead>\n",
       "    <tr style=\"text-align: right;\">\n",
       "      <th></th>\n",
       "      <th>entry_id</th>\n",
       "      <th>age</th>\n",
       "      <th>home_owner</th>\n",
       "      <th>income</th>\n",
       "      <th>current_address_year</th>\n",
       "      <th>has_debt</th>\n",
       "      <th>amount_requested</th>\n",
       "      <th>risk_score</th>\n",
       "      <th>risk_score_2</th>\n",
       "      <th>risk_score_3</th>\n",
       "      <th>...</th>\n",
       "      <th>risk_score_5</th>\n",
       "      <th>ext_quality_score</th>\n",
       "      <th>ext_quality_score_2</th>\n",
       "      <th>inquiries_last_month</th>\n",
       "      <th>e_signed</th>\n",
       "      <th>pay_schedule_monthly</th>\n",
       "      <th>pay_schedule_semi-monthly</th>\n",
       "      <th>pay_schedule_weekly</th>\n",
       "      <th>months employeed</th>\n",
       "      <th>personnal account months</th>\n",
       "    </tr>\n",
       "  </thead>\n",
       "  <tbody>\n",
       "    <tr>\n",
       "      <th>0</th>\n",
       "      <td>7629673</td>\n",
       "      <td>40</td>\n",
       "      <td>1</td>\n",
       "      <td>3135</td>\n",
       "      <td>3</td>\n",
       "      <td>1</td>\n",
       "      <td>550</td>\n",
       "      <td>36200</td>\n",
       "      <td>0.737398</td>\n",
       "      <td>0.903517</td>\n",
       "      <td>...</td>\n",
       "      <td>0.515977</td>\n",
       "      <td>0.580918</td>\n",
       "      <td>0.380918</td>\n",
       "      <td>10</td>\n",
       "      <td>1</td>\n",
       "      <td>False</td>\n",
       "      <td>False</td>\n",
       "      <td>False</td>\n",
       "      <td>36</td>\n",
       "      <td>30</td>\n",
       "    </tr>\n",
       "    <tr>\n",
       "      <th>1</th>\n",
       "      <td>3560428</td>\n",
       "      <td>61</td>\n",
       "      <td>0</td>\n",
       "      <td>3180</td>\n",
       "      <td>3</td>\n",
       "      <td>1</td>\n",
       "      <td>600</td>\n",
       "      <td>30150</td>\n",
       "      <td>0.738510</td>\n",
       "      <td>0.881027</td>\n",
       "      <td>...</td>\n",
       "      <td>0.826402</td>\n",
       "      <td>0.730720</td>\n",
       "      <td>0.630720</td>\n",
       "      <td>9</td>\n",
       "      <td>0</td>\n",
       "      <td>False</td>\n",
       "      <td>False</td>\n",
       "      <td>True</td>\n",
       "      <td>72</td>\n",
       "      <td>86</td>\n",
       "    </tr>\n",
       "    <tr>\n",
       "      <th>2</th>\n",
       "      <td>6934997</td>\n",
       "      <td>23</td>\n",
       "      <td>0</td>\n",
       "      <td>1540</td>\n",
       "      <td>0</td>\n",
       "      <td>1</td>\n",
       "      <td>450</td>\n",
       "      <td>34550</td>\n",
       "      <td>0.642993</td>\n",
       "      <td>0.766554</td>\n",
       "      <td>...</td>\n",
       "      <td>0.762284</td>\n",
       "      <td>0.531712</td>\n",
       "      <td>0.531712</td>\n",
       "      <td>7</td>\n",
       "      <td>0</td>\n",
       "      <td>False</td>\n",
       "      <td>False</td>\n",
       "      <td>True</td>\n",
       "      <td>6</td>\n",
       "      <td>19</td>\n",
       "    </tr>\n",
       "    <tr>\n",
       "      <th>3</th>\n",
       "      <td>5682812</td>\n",
       "      <td>40</td>\n",
       "      <td>0</td>\n",
       "      <td>5230</td>\n",
       "      <td>1</td>\n",
       "      <td>1</td>\n",
       "      <td>700</td>\n",
       "      <td>42150</td>\n",
       "      <td>0.665224</td>\n",
       "      <td>0.960832</td>\n",
       "      <td>...</td>\n",
       "      <td>0.778831</td>\n",
       "      <td>0.792552</td>\n",
       "      <td>0.592552</td>\n",
       "      <td>8</td>\n",
       "      <td>1</td>\n",
       "      <td>False</td>\n",
       "      <td>False</td>\n",
       "      <td>False</td>\n",
       "      <td>72</td>\n",
       "      <td>86</td>\n",
       "    </tr>\n",
       "    <tr>\n",
       "      <th>4</th>\n",
       "      <td>5335819</td>\n",
       "      <td>33</td>\n",
       "      <td>0</td>\n",
       "      <td>3590</td>\n",
       "      <td>2</td>\n",
       "      <td>1</td>\n",
       "      <td>1100</td>\n",
       "      <td>53850</td>\n",
       "      <td>0.617361</td>\n",
       "      <td>0.857560</td>\n",
       "      <td>...</td>\n",
       "      <td>0.665523</td>\n",
       "      <td>0.744634</td>\n",
       "      <td>0.744634</td>\n",
       "      <td>12</td>\n",
       "      <td>0</td>\n",
       "      <td>False</td>\n",
       "      <td>True</td>\n",
       "      <td>False</td>\n",
       "      <td>60</td>\n",
       "      <td>98</td>\n",
       "    </tr>\n",
       "  </tbody>\n",
       "</table>\n",
       "<p>5 rows × 21 columns</p>\n",
       "</div>"
      ],
      "text/plain": [
       "   entry_id  age  home_owner  income  current_address_year  has_debt  \\\n",
       "0   7629673   40           1    3135                     3         1   \n",
       "1   3560428   61           0    3180                     3         1   \n",
       "2   6934997   23           0    1540                     0         1   \n",
       "3   5682812   40           0    5230                     1         1   \n",
       "4   5335819   33           0    3590                     2         1   \n",
       "\n",
       "   amount_requested  risk_score  risk_score_2  risk_score_3  ...  \\\n",
       "0               550       36200      0.737398      0.903517  ...   \n",
       "1               600       30150      0.738510      0.881027  ...   \n",
       "2               450       34550      0.642993      0.766554  ...   \n",
       "3               700       42150      0.665224      0.960832  ...   \n",
       "4              1100       53850      0.617361      0.857560  ...   \n",
       "\n",
       "   risk_score_5  ext_quality_score  ext_quality_score_2  inquiries_last_month  \\\n",
       "0      0.515977           0.580918             0.380918                    10   \n",
       "1      0.826402           0.730720             0.630720                     9   \n",
       "2      0.762284           0.531712             0.531712                     7   \n",
       "3      0.778831           0.792552             0.592552                     8   \n",
       "4      0.665523           0.744634             0.744634                    12   \n",
       "\n",
       "   e_signed  pay_schedule_monthly  pay_schedule_semi-monthly  \\\n",
       "0         1                 False                      False   \n",
       "1         0                 False                      False   \n",
       "2         0                 False                      False   \n",
       "3         1                 False                      False   \n",
       "4         0                 False                       True   \n",
       "\n",
       "   pay_schedule_weekly  months employeed  personnal account months  \n",
       "0                False                36                        30  \n",
       "1                 True                72                        86  \n",
       "2                 True                 6                        19  \n",
       "3                False                72                        86  \n",
       "4                False                60                        98  \n",
       "\n",
       "[5 rows x 21 columns]"
      ]
     },
     "execution_count": 35,
     "metadata": {},
     "output_type": "execute_result"
    }
   ],
   "source": [
    "dataset.head()"
   ]
  },
  {
   "cell_type": "code",
   "execution_count": 36,
   "metadata": {
    "id": "E92VrHcj5wPG"
   },
   "outputs": [],
   "source": [
    "# independent variables / matrix features\n",
    "x = dataset.drop(columns=['entry_id', 'e_signed'])"
   ]
  },
  {
   "cell_type": "code",
   "execution_count": 37,
   "metadata": {
    "id": "Pv1-MUE26Jgk"
   },
   "outputs": [],
   "source": [
    "# target variable\n",
    "y = dataset['e_signed']"
   ]
  },
  {
   "cell_type": "code",
   "execution_count": 38,
   "metadata": {
    "id": "a6bOqCBG6NZy"
   },
   "outputs": [],
   "source": [
    "from sklearn.model_selection import train_test_split\n",
    "x_train, x_test, y_train, y_test = train_test_split(x, y, test_size=0.2, random_state=0)"
   ]
  },
  {
   "cell_type": "code",
   "execution_count": 39,
   "metadata": {
    "colab": {
     "base_uri": "https://localhost:8080/"
    },
    "id": "E1AriCx66tWX",
    "outputId": "40327388-7139-40b7-ea0e-9c4eff61b3ee"
   },
   "outputs": [
    {
     "data": {
      "text/plain": [
       "(14326, 19)"
      ]
     },
     "execution_count": 39,
     "metadata": {},
     "output_type": "execute_result"
    }
   ],
   "source": [
    "x_train.shape"
   ]
  },
  {
   "cell_type": "code",
   "execution_count": 40,
   "metadata": {
    "colab": {
     "base_uri": "https://localhost:8080/"
    },
    "id": "tHgEmBwe6x3J",
    "outputId": "269b14a0-8b5d-4171-fe62-d01934ffc745"
   },
   "outputs": [
    {
     "data": {
      "text/plain": [
       "(14326,)"
      ]
     },
     "execution_count": 40,
     "metadata": {},
     "output_type": "execute_result"
    }
   ],
   "source": [
    "y_train.shape"
   ]
  },
  {
   "cell_type": "code",
   "execution_count": 41,
   "metadata": {
    "colab": {
     "base_uri": "https://localhost:8080/"
    },
    "id": "bfzqOmby6wam",
    "outputId": "b2fda501-5745-4738-8c68-9750ba1ea6c8"
   },
   "outputs": [
    {
     "data": {
      "text/plain": [
       "(3582, 19)"
      ]
     },
     "execution_count": 41,
     "metadata": {},
     "output_type": "execute_result"
    }
   ],
   "source": [
    "x_test.shape"
   ]
  },
  {
   "cell_type": "code",
   "execution_count": 42,
   "metadata": {
    "colab": {
     "base_uri": "https://localhost:8080/"
    },
    "id": "62x4sbaC6zeK",
    "outputId": "f588cb2f-c999-4362-da6f-beca2bc1b984"
   },
   "outputs": [
    {
     "data": {
      "text/plain": [
       "(3582,)"
      ]
     },
     "execution_count": 42,
     "metadata": {},
     "output_type": "execute_result"
    }
   ],
   "source": [
    "y_test.shape"
   ]
  },
  {
   "cell_type": "markdown",
   "metadata": {
    "id": "mNxpLADc69j2"
   },
   "source": [
    "## Feature scaling"
   ]
  },
  {
   "cell_type": "code",
   "execution_count": 44,
   "metadata": {
    "id": "cHSCT6W06_n3"
   },
   "outputs": [],
   "source": [
    "from sklearn.preprocessing import StandardScaler\n",
    "sc = StandardScaler()"
   ]
  },
  {
   "cell_type": "code",
   "execution_count": 45,
   "metadata": {
    "id": "_VK3W0D87NBx"
   },
   "outputs": [],
   "source": [
    "x_train = sc.fit_transform(x_train)\n",
    "x_test = sc.transform(x_test)"
   ]
  },
  {
   "cell_type": "code",
   "execution_count": 46,
   "metadata": {
    "colab": {
     "base_uri": "https://localhost:8080/"
    },
    "id": "Rfxzep0N7Wcr",
    "outputId": "098a0aba-7d94-490b-e172-b2750874818f"
   },
   "outputs": [
    {
     "data": {
      "text/plain": [
       "array([[-0.00599126, -0.85634884, -0.24235846, ...,  1.97682704,\n",
       "        -1.4077639 ,  0.36896493],\n",
       "       [-0.50989022, -0.85634884, -0.05259224, ..., -0.50586115,\n",
       "         0.35212263, -0.28090617],\n",
       "       [-0.7618397 ,  1.16774842, -0.41214928, ..., -0.50586115,\n",
       "        -1.18309754,  0.19566597],\n",
       "       ...,\n",
       "       [ 0.16197506, -0.85634884, -0.46541699, ..., -0.50586115,\n",
       "        -0.65887602, -1.45067413],\n",
       "       [ 1.08578982, -0.85634884, -0.69846323, ..., -0.50586115,\n",
       "         2.41156432,  3.83494409],\n",
       "       [-0.7618397 , -0.85634884, -0.36554004, ..., -0.50586115,\n",
       "         0.35212263, -1.27737518]])"
      ]
     },
     "execution_count": 46,
     "metadata": {},
     "output_type": "execute_result"
    }
   ],
   "source": [
    "x_train"
   ]
  },
  {
   "cell_type": "code",
   "execution_count": 47,
   "metadata": {
    "colab": {
     "base_uri": "https://localhost:8080/"
    },
    "id": "-b4yRyP57X2v",
    "outputId": "3c42ad21-15f9-4d92-df12-36aaad7d2e7b"
   },
   "outputs": [
    {
     "data": {
      "text/plain": [
       "array([[-1.01378918, -0.85634884, -0.24235846, ..., -0.50586115,\n",
       "        -1.18309754, -0.32423091],\n",
       "       [-1.01378918, -0.85634884, -0.33557695, ..., -0.50586115,\n",
       "        -0.28443207,  0.19566597],\n",
       "       [ 0.24595822, -0.85634884, -0.59858627, ..., -0.50586115,\n",
       "         2.86089705, -0.84412778],\n",
       "       ...,\n",
       "       [-0.08997442, -0.85634884, -0.41214928, ..., -0.50586115,\n",
       "         1.06356612,  0.36896493],\n",
       "       [-0.25794074, -0.85634884, -0.25567539, ..., -0.50586115,\n",
       "         0.61423339,  0.19566597],\n",
       "       [-0.08997442, -0.85634884, -0.72176785, ...,  1.97682704,\n",
       "        -0.28443207,  1.75535659]])"
      ]
     },
     "execution_count": 47,
     "metadata": {},
     "output_type": "execute_result"
    }
   ],
   "source": [
    "x_test"
   ]
  },
  {
   "cell_type": "markdown",
   "metadata": {
    "id": "-LhL93VR71cj"
   },
   "source": [
    "# Part 2: Building the model"
   ]
  },
  {
   "cell_type": "markdown",
   "metadata": {
    "id": "nYb0b2A7YA7_"
   },
   "source": [
    "## 1) Logistic regression"
   ]
  },
  {
   "cell_type": "code",
   "execution_count": 48,
   "metadata": {
    "colab": {
     "base_uri": "https://localhost:8080/"
    },
    "id": "qBK-zaDyYLXm",
    "outputId": "16a63f53-73b1-4718-d77d-ef36945cedaa"
   },
   "outputs": [
    {
     "data": {
      "text/html": [
       "<style>#sk-container-id-1 {color: black;background-color: white;}#sk-container-id-1 pre{padding: 0;}#sk-container-id-1 div.sk-toggleable {background-color: white;}#sk-container-id-1 label.sk-toggleable__label {cursor: pointer;display: block;width: 100%;margin-bottom: 0;padding: 0.3em;box-sizing: border-box;text-align: center;}#sk-container-id-1 label.sk-toggleable__label-arrow:before {content: \"▸\";float: left;margin-right: 0.25em;color: #696969;}#sk-container-id-1 label.sk-toggleable__label-arrow:hover:before {color: black;}#sk-container-id-1 div.sk-estimator:hover label.sk-toggleable__label-arrow:before {color: black;}#sk-container-id-1 div.sk-toggleable__content {max-height: 0;max-width: 0;overflow: hidden;text-align: left;background-color: #f0f8ff;}#sk-container-id-1 div.sk-toggleable__content pre {margin: 0.2em;color: black;border-radius: 0.25em;background-color: #f0f8ff;}#sk-container-id-1 input.sk-toggleable__control:checked~div.sk-toggleable__content {max-height: 200px;max-width: 100%;overflow: auto;}#sk-container-id-1 input.sk-toggleable__control:checked~label.sk-toggleable__label-arrow:before {content: \"▾\";}#sk-container-id-1 div.sk-estimator input.sk-toggleable__control:checked~label.sk-toggleable__label {background-color: #d4ebff;}#sk-container-id-1 div.sk-label input.sk-toggleable__control:checked~label.sk-toggleable__label {background-color: #d4ebff;}#sk-container-id-1 input.sk-hidden--visually {border: 0;clip: rect(1px 1px 1px 1px);clip: rect(1px, 1px, 1px, 1px);height: 1px;margin: -1px;overflow: hidden;padding: 0;position: absolute;width: 1px;}#sk-container-id-1 div.sk-estimator {font-family: monospace;background-color: #f0f8ff;border: 1px dotted black;border-radius: 0.25em;box-sizing: border-box;margin-bottom: 0.5em;}#sk-container-id-1 div.sk-estimator:hover {background-color: #d4ebff;}#sk-container-id-1 div.sk-parallel-item::after {content: \"\";width: 100%;border-bottom: 1px solid gray;flex-grow: 1;}#sk-container-id-1 div.sk-label:hover label.sk-toggleable__label {background-color: #d4ebff;}#sk-container-id-1 div.sk-serial::before {content: \"\";position: absolute;border-left: 1px solid gray;box-sizing: border-box;top: 0;bottom: 0;left: 50%;z-index: 0;}#sk-container-id-1 div.sk-serial {display: flex;flex-direction: column;align-items: center;background-color: white;padding-right: 0.2em;padding-left: 0.2em;position: relative;}#sk-container-id-1 div.sk-item {position: relative;z-index: 1;}#sk-container-id-1 div.sk-parallel {display: flex;align-items: stretch;justify-content: center;background-color: white;position: relative;}#sk-container-id-1 div.sk-item::before, #sk-container-id-1 div.sk-parallel-item::before {content: \"\";position: absolute;border-left: 1px solid gray;box-sizing: border-box;top: 0;bottom: 0;left: 50%;z-index: -1;}#sk-container-id-1 div.sk-parallel-item {display: flex;flex-direction: column;z-index: 1;position: relative;background-color: white;}#sk-container-id-1 div.sk-parallel-item:first-child::after {align-self: flex-end;width: 50%;}#sk-container-id-1 div.sk-parallel-item:last-child::after {align-self: flex-start;width: 50%;}#sk-container-id-1 div.sk-parallel-item:only-child::after {width: 0;}#sk-container-id-1 div.sk-dashed-wrapped {border: 1px dashed gray;margin: 0 0.4em 0.5em 0.4em;box-sizing: border-box;padding-bottom: 0.4em;background-color: white;}#sk-container-id-1 div.sk-label label {font-family: monospace;font-weight: bold;display: inline-block;line-height: 1.2em;}#sk-container-id-1 div.sk-label-container {text-align: center;}#sk-container-id-1 div.sk-container {/* jupyter's `normalize.less` sets `[hidden] { display: none; }` but bootstrap.min.css set `[hidden] { display: none !important; }` so we also need the `!important` here to be able to override the default hidden behavior on the sphinx rendered scikit-learn.org. See: https://github.com/scikit-learn/scikit-learn/issues/21755 */display: inline-block !important;position: relative;}#sk-container-id-1 div.sk-text-repr-fallback {display: none;}</style><div id=\"sk-container-id-1\" class=\"sk-top-container\"><div class=\"sk-text-repr-fallback\"><pre>LogisticRegression(random_state=0)</pre><b>In a Jupyter environment, please rerun this cell to show the HTML representation or trust the notebook. <br />On GitHub, the HTML representation is unable to render, please try loading this page with nbviewer.org.</b></div><div class=\"sk-container\" hidden><div class=\"sk-item\"><div class=\"sk-estimator sk-toggleable\"><input class=\"sk-toggleable__control sk-hidden--visually\" id=\"sk-estimator-id-1\" type=\"checkbox\" checked><label for=\"sk-estimator-id-1\" class=\"sk-toggleable__label sk-toggleable__label-arrow\">LogisticRegression</label><div class=\"sk-toggleable__content\"><pre>LogisticRegression(random_state=0)</pre></div></div></div></div></div>"
      ],
      "text/plain": [
       "LogisticRegression(random_state=0)"
      ]
     },
     "execution_count": 48,
     "metadata": {},
     "output_type": "execute_result"
    }
   ],
   "source": [
    "from sklearn.linear_model import LogisticRegression\n",
    "classifier_lr = LogisticRegression(random_state=0)\n",
    "classifier_lr.fit(x_train, y_train)"
   ]
  },
  {
   "cell_type": "code",
   "execution_count": 49,
   "metadata": {
    "id": "OcGwHyAUYLbS"
   },
   "outputs": [],
   "source": [
    "y_pred = classifier_lr.predict(x_test)"
   ]
  },
  {
   "cell_type": "code",
   "execution_count": 50,
   "metadata": {
    "id": "YHt9zI5KYLeq"
   },
   "outputs": [],
   "source": [
    "from sklearn.metrics import confusion_matrix, accuracy_score"
   ]
  },
  {
   "cell_type": "code",
   "execution_count": 51,
   "metadata": {
    "colab": {
     "base_uri": "https://localhost:8080/"
    },
    "id": "CXI5SFFgYLhL",
    "outputId": "16d57b91-de66-4226-f593-2fa1a89f4e2f"
   },
   "outputs": [
    {
     "data": {
      "text/plain": [
       "0.5628140703517588"
      ]
     },
     "execution_count": 51,
     "metadata": {},
     "output_type": "execute_result"
    }
   ],
   "source": [
    "accuracy_score(y_test, y_pred)"
   ]
  },
  {
   "cell_type": "code",
   "execution_count": 52,
   "metadata": {
    "colab": {
     "base_uri": "https://localhost:8080/"
    },
    "id": "zKm2w2OrYLj0",
    "outputId": "40fc31dd-24a1-4e54-b84b-474f1cd1203b"
   },
   "outputs": [
    {
     "data": {
      "text/plain": [
       "array([[ 654, 1000],\n",
       "       [ 566, 1362]], dtype=int64)"
      ]
     },
     "execution_count": 52,
     "metadata": {},
     "output_type": "execute_result"
    }
   ],
   "source": [
    "confusion_matrix(y_test, y_pred)"
   ]
  },
  {
   "cell_type": "markdown",
   "metadata": {
    "id": "suwG7BttZN98"
   },
   "source": [
    "## 2) SVM"
   ]
  },
  {
   "cell_type": "code",
   "execution_count": 53,
   "metadata": {
    "colab": {
     "base_uri": "https://localhost:8080/"
    },
    "id": "rQMlE0S6ZREK",
    "outputId": "2f337eee-6f63-4902-b772-f2943f037845"
   },
   "outputs": [
    {
     "data": {
      "text/html": [
       "<style>#sk-container-id-2 {color: black;background-color: white;}#sk-container-id-2 pre{padding: 0;}#sk-container-id-2 div.sk-toggleable {background-color: white;}#sk-container-id-2 label.sk-toggleable__label {cursor: pointer;display: block;width: 100%;margin-bottom: 0;padding: 0.3em;box-sizing: border-box;text-align: center;}#sk-container-id-2 label.sk-toggleable__label-arrow:before {content: \"▸\";float: left;margin-right: 0.25em;color: #696969;}#sk-container-id-2 label.sk-toggleable__label-arrow:hover:before {color: black;}#sk-container-id-2 div.sk-estimator:hover label.sk-toggleable__label-arrow:before {color: black;}#sk-container-id-2 div.sk-toggleable__content {max-height: 0;max-width: 0;overflow: hidden;text-align: left;background-color: #f0f8ff;}#sk-container-id-2 div.sk-toggleable__content pre {margin: 0.2em;color: black;border-radius: 0.25em;background-color: #f0f8ff;}#sk-container-id-2 input.sk-toggleable__control:checked~div.sk-toggleable__content {max-height: 200px;max-width: 100%;overflow: auto;}#sk-container-id-2 input.sk-toggleable__control:checked~label.sk-toggleable__label-arrow:before {content: \"▾\";}#sk-container-id-2 div.sk-estimator input.sk-toggleable__control:checked~label.sk-toggleable__label {background-color: #d4ebff;}#sk-container-id-2 div.sk-label input.sk-toggleable__control:checked~label.sk-toggleable__label {background-color: #d4ebff;}#sk-container-id-2 input.sk-hidden--visually {border: 0;clip: rect(1px 1px 1px 1px);clip: rect(1px, 1px, 1px, 1px);height: 1px;margin: -1px;overflow: hidden;padding: 0;position: absolute;width: 1px;}#sk-container-id-2 div.sk-estimator {font-family: monospace;background-color: #f0f8ff;border: 1px dotted black;border-radius: 0.25em;box-sizing: border-box;margin-bottom: 0.5em;}#sk-container-id-2 div.sk-estimator:hover {background-color: #d4ebff;}#sk-container-id-2 div.sk-parallel-item::after {content: \"\";width: 100%;border-bottom: 1px solid gray;flex-grow: 1;}#sk-container-id-2 div.sk-label:hover label.sk-toggleable__label {background-color: #d4ebff;}#sk-container-id-2 div.sk-serial::before {content: \"\";position: absolute;border-left: 1px solid gray;box-sizing: border-box;top: 0;bottom: 0;left: 50%;z-index: 0;}#sk-container-id-2 div.sk-serial {display: flex;flex-direction: column;align-items: center;background-color: white;padding-right: 0.2em;padding-left: 0.2em;position: relative;}#sk-container-id-2 div.sk-item {position: relative;z-index: 1;}#sk-container-id-2 div.sk-parallel {display: flex;align-items: stretch;justify-content: center;background-color: white;position: relative;}#sk-container-id-2 div.sk-item::before, #sk-container-id-2 div.sk-parallel-item::before {content: \"\";position: absolute;border-left: 1px solid gray;box-sizing: border-box;top: 0;bottom: 0;left: 50%;z-index: -1;}#sk-container-id-2 div.sk-parallel-item {display: flex;flex-direction: column;z-index: 1;position: relative;background-color: white;}#sk-container-id-2 div.sk-parallel-item:first-child::after {align-self: flex-end;width: 50%;}#sk-container-id-2 div.sk-parallel-item:last-child::after {align-self: flex-start;width: 50%;}#sk-container-id-2 div.sk-parallel-item:only-child::after {width: 0;}#sk-container-id-2 div.sk-dashed-wrapped {border: 1px dashed gray;margin: 0 0.4em 0.5em 0.4em;box-sizing: border-box;padding-bottom: 0.4em;background-color: white;}#sk-container-id-2 div.sk-label label {font-family: monospace;font-weight: bold;display: inline-block;line-height: 1.2em;}#sk-container-id-2 div.sk-label-container {text-align: center;}#sk-container-id-2 div.sk-container {/* jupyter's `normalize.less` sets `[hidden] { display: none; }` but bootstrap.min.css set `[hidden] { display: none !important; }` so we also need the `!important` here to be able to override the default hidden behavior on the sphinx rendered scikit-learn.org. See: https://github.com/scikit-learn/scikit-learn/issues/21755 */display: inline-block !important;position: relative;}#sk-container-id-2 div.sk-text-repr-fallback {display: none;}</style><div id=\"sk-container-id-2\" class=\"sk-top-container\"><div class=\"sk-text-repr-fallback\"><pre>SVC(random_state=0)</pre><b>In a Jupyter environment, please rerun this cell to show the HTML representation or trust the notebook. <br />On GitHub, the HTML representation is unable to render, please try loading this page with nbviewer.org.</b></div><div class=\"sk-container\" hidden><div class=\"sk-item\"><div class=\"sk-estimator sk-toggleable\"><input class=\"sk-toggleable__control sk-hidden--visually\" id=\"sk-estimator-id-2\" type=\"checkbox\" checked><label for=\"sk-estimator-id-2\" class=\"sk-toggleable__label sk-toggleable__label-arrow\">SVC</label><div class=\"sk-toggleable__content\"><pre>SVC(random_state=0)</pre></div></div></div></div></div>"
      ],
      "text/plain": [
       "SVC(random_state=0)"
      ]
     },
     "execution_count": 53,
     "metadata": {},
     "output_type": "execute_result"
    }
   ],
   "source": [
    "from sklearn.svm import SVC\n",
    "classifier_svc = SVC(random_state=0)\n",
    "classifier_svc.fit(x_train, y_train)"
   ]
  },
  {
   "cell_type": "code",
   "execution_count": 54,
   "metadata": {
    "id": "xRdTXIT1ZRIU"
   },
   "outputs": [],
   "source": [
    "y_pred = classifier_svc.predict(x_test)"
   ]
  },
  {
   "cell_type": "code",
   "execution_count": 55,
   "metadata": {
    "colab": {
     "base_uri": "https://localhost:8080/"
    },
    "id": "NyZyyPCqZRNL",
    "outputId": "f8a4d1c6-5848-40b7-d32c-dfe1c660f8b4"
   },
   "outputs": [
    {
     "data": {
      "text/plain": [
       "0.5946398659966499"
      ]
     },
     "execution_count": 55,
     "metadata": {},
     "output_type": "execute_result"
    }
   ],
   "source": [
    "from sklearn.metrics import confusion_matrix, accuracy_score\n",
    "accuracy_score(y_test, y_pred)"
   ]
  },
  {
   "cell_type": "code",
   "execution_count": 56,
   "metadata": {
    "colab": {
     "base_uri": "https://localhost:8080/"
    },
    "id": "RParX_F1ZRQa",
    "outputId": "7c16951e-551c-42c9-e5ed-b96d7163c0b6"
   },
   "outputs": [
    {
     "data": {
      "text/plain": [
       "array([[ 797,  857],\n",
       "       [ 595, 1333]], dtype=int64)"
      ]
     },
     "execution_count": 56,
     "metadata": {},
     "output_type": "execute_result"
    }
   ],
   "source": [
    "confusion_matrix(y_test, y_pred)"
   ]
  },
  {
   "cell_type": "markdown",
   "metadata": {
    "id": "jrZF8rv0aGlx"
   },
   "source": [
    "## 3) Random forest"
   ]
  },
  {
   "cell_type": "code",
   "execution_count": 57,
   "metadata": {
    "colab": {
     "base_uri": "https://localhost:8080/"
    },
    "id": "G0PW5n83aJTV",
    "outputId": "330f9022-cf01-4db9-9c28-2db42fc62b81"
   },
   "outputs": [
    {
     "data": {
      "text/html": [
       "<style>#sk-container-id-3 {color: black;background-color: white;}#sk-container-id-3 pre{padding: 0;}#sk-container-id-3 div.sk-toggleable {background-color: white;}#sk-container-id-3 label.sk-toggleable__label {cursor: pointer;display: block;width: 100%;margin-bottom: 0;padding: 0.3em;box-sizing: border-box;text-align: center;}#sk-container-id-3 label.sk-toggleable__label-arrow:before {content: \"▸\";float: left;margin-right: 0.25em;color: #696969;}#sk-container-id-3 label.sk-toggleable__label-arrow:hover:before {color: black;}#sk-container-id-3 div.sk-estimator:hover label.sk-toggleable__label-arrow:before {color: black;}#sk-container-id-3 div.sk-toggleable__content {max-height: 0;max-width: 0;overflow: hidden;text-align: left;background-color: #f0f8ff;}#sk-container-id-3 div.sk-toggleable__content pre {margin: 0.2em;color: black;border-radius: 0.25em;background-color: #f0f8ff;}#sk-container-id-3 input.sk-toggleable__control:checked~div.sk-toggleable__content {max-height: 200px;max-width: 100%;overflow: auto;}#sk-container-id-3 input.sk-toggleable__control:checked~label.sk-toggleable__label-arrow:before {content: \"▾\";}#sk-container-id-3 div.sk-estimator input.sk-toggleable__control:checked~label.sk-toggleable__label {background-color: #d4ebff;}#sk-container-id-3 div.sk-label input.sk-toggleable__control:checked~label.sk-toggleable__label {background-color: #d4ebff;}#sk-container-id-3 input.sk-hidden--visually {border: 0;clip: rect(1px 1px 1px 1px);clip: rect(1px, 1px, 1px, 1px);height: 1px;margin: -1px;overflow: hidden;padding: 0;position: absolute;width: 1px;}#sk-container-id-3 div.sk-estimator {font-family: monospace;background-color: #f0f8ff;border: 1px dotted black;border-radius: 0.25em;box-sizing: border-box;margin-bottom: 0.5em;}#sk-container-id-3 div.sk-estimator:hover {background-color: #d4ebff;}#sk-container-id-3 div.sk-parallel-item::after {content: \"\";width: 100%;border-bottom: 1px solid gray;flex-grow: 1;}#sk-container-id-3 div.sk-label:hover label.sk-toggleable__label {background-color: #d4ebff;}#sk-container-id-3 div.sk-serial::before {content: \"\";position: absolute;border-left: 1px solid gray;box-sizing: border-box;top: 0;bottom: 0;left: 50%;z-index: 0;}#sk-container-id-3 div.sk-serial {display: flex;flex-direction: column;align-items: center;background-color: white;padding-right: 0.2em;padding-left: 0.2em;position: relative;}#sk-container-id-3 div.sk-item {position: relative;z-index: 1;}#sk-container-id-3 div.sk-parallel {display: flex;align-items: stretch;justify-content: center;background-color: white;position: relative;}#sk-container-id-3 div.sk-item::before, #sk-container-id-3 div.sk-parallel-item::before {content: \"\";position: absolute;border-left: 1px solid gray;box-sizing: border-box;top: 0;bottom: 0;left: 50%;z-index: -1;}#sk-container-id-3 div.sk-parallel-item {display: flex;flex-direction: column;z-index: 1;position: relative;background-color: white;}#sk-container-id-3 div.sk-parallel-item:first-child::after {align-self: flex-end;width: 50%;}#sk-container-id-3 div.sk-parallel-item:last-child::after {align-self: flex-start;width: 50%;}#sk-container-id-3 div.sk-parallel-item:only-child::after {width: 0;}#sk-container-id-3 div.sk-dashed-wrapped {border: 1px dashed gray;margin: 0 0.4em 0.5em 0.4em;box-sizing: border-box;padding-bottom: 0.4em;background-color: white;}#sk-container-id-3 div.sk-label label {font-family: monospace;font-weight: bold;display: inline-block;line-height: 1.2em;}#sk-container-id-3 div.sk-label-container {text-align: center;}#sk-container-id-3 div.sk-container {/* jupyter's `normalize.less` sets `[hidden] { display: none; }` but bootstrap.min.css set `[hidden] { display: none !important; }` so we also need the `!important` here to be able to override the default hidden behavior on the sphinx rendered scikit-learn.org. See: https://github.com/scikit-learn/scikit-learn/issues/21755 */display: inline-block !important;position: relative;}#sk-container-id-3 div.sk-text-repr-fallback {display: none;}</style><div id=\"sk-container-id-3\" class=\"sk-top-container\"><div class=\"sk-text-repr-fallback\"><pre>RandomForestClassifier(random_state=0)</pre><b>In a Jupyter environment, please rerun this cell to show the HTML representation or trust the notebook. <br />On GitHub, the HTML representation is unable to render, please try loading this page with nbviewer.org.</b></div><div class=\"sk-container\" hidden><div class=\"sk-item\"><div class=\"sk-estimator sk-toggleable\"><input class=\"sk-toggleable__control sk-hidden--visually\" id=\"sk-estimator-id-3\" type=\"checkbox\" checked><label for=\"sk-estimator-id-3\" class=\"sk-toggleable__label sk-toggleable__label-arrow\">RandomForestClassifier</label><div class=\"sk-toggleable__content\"><pre>RandomForestClassifier(random_state=0)</pre></div></div></div></div></div>"
      ],
      "text/plain": [
       "RandomForestClassifier(random_state=0)"
      ]
     },
     "execution_count": 57,
     "metadata": {},
     "output_type": "execute_result"
    }
   ],
   "source": [
    "from sklearn.ensemble import RandomForestClassifier\n",
    "classifier_rf = RandomForestClassifier(random_state=0)\n",
    "classifier_rf.fit(x_train, y_train)"
   ]
  },
  {
   "cell_type": "code",
   "execution_count": 58,
   "metadata": {
    "id": "VUqyC0VxaJZU"
   },
   "outputs": [],
   "source": [
    "y_pred = classifier_rf.predict(x_test)"
   ]
  },
  {
   "cell_type": "code",
   "execution_count": 59,
   "metadata": {
    "colab": {
     "base_uri": "https://localhost:8080/"
    },
    "id": "AzvYsd9TarFZ",
    "outputId": "b8bb7ff7-c48b-45cb-c4dc-5c81c3ff8140"
   },
   "outputs": [
    {
     "data": {
      "text/plain": [
       "0.6323283082077052"
      ]
     },
     "execution_count": 59,
     "metadata": {},
     "output_type": "execute_result"
    }
   ],
   "source": [
    "from sklearn.metrics import confusion_matrix, accuracy_score\n",
    "accuracy_score(y_test, y_pred)"
   ]
  },
  {
   "cell_type": "code",
   "execution_count": 60,
   "metadata": {
    "colab": {
     "base_uri": "https://localhost:8080/"
    },
    "id": "2eo2O4Ncasp9",
    "outputId": "438f09e5-7c84-4067-dae4-10d209f4d6c5"
   },
   "outputs": [
    {
     "data": {
      "text/plain": [
       "array([[ 959,  695],\n",
       "       [ 622, 1306]], dtype=int64)"
      ]
     },
     "execution_count": 60,
     "metadata": {},
     "output_type": "execute_result"
    }
   ],
   "source": [
    "confusion_matrix(y_test, y_pred)"
   ]
  },
  {
   "cell_type": "markdown",
   "metadata": {
    "id": "43DsT2W3a5tj"
   },
   "source": [
    "## 4) XGBoost Classifier"
   ]
  },
  {
   "cell_type": "code",
   "execution_count": 64,
   "metadata": {},
   "outputs": [
    {
     "name": "stdout",
     "output_type": "stream",
     "text": [
      "Collecting xgboost\n",
      "  Downloading xgboost-2.0.3-py3-none-win_amd64.whl.metadata (2.0 kB)\n",
      "Requirement already satisfied: numpy in c:\\users\\ankita\\anaconda3\\lib\\site-packages (from xgboost) (1.26.4)\n",
      "Requirement already satisfied: scipy in c:\\users\\ankita\\anaconda3\\lib\\site-packages (from xgboost) (1.11.4)\n",
      "Downloading xgboost-2.0.3-py3-none-win_amd64.whl (99.8 MB)\n",
      "   ---------------------------------------- 0.0/99.8 MB ? eta -:--:--\n",
      "   ---------------------------------------- 0.0/99.8 MB ? eta -:--:--\n",
      "   ---------------------------------------- 0.1/99.8 MB 1.3 MB/s eta 0:01:17\n",
      "   ---------------------------------------- 0.3/99.8 MB 2.8 MB/s eta 0:00:36\n",
      "   ---------------------------------------- 0.5/99.8 MB 3.2 MB/s eta 0:00:31\n",
      "   ---------------------------------------- 0.8/99.8 MB 4.2 MB/s eta 0:00:24\n",
      "   ---------------------------------------- 1.1/99.8 MB 4.3 MB/s eta 0:00:23\n",
      "    --------------------------------------- 1.4/99.8 MB 4.5 MB/s eta 0:00:22\n",
      "    --------------------------------------- 1.5/99.8 MB 4.3 MB/s eta 0:00:23\n",
      "    --------------------------------------- 1.7/99.8 MB 4.3 MB/s eta 0:00:23\n",
      "    --------------------------------------- 1.8/99.8 MB 4.1 MB/s eta 0:00:24\n",
      "    --------------------------------------- 1.8/99.8 MB 4.1 MB/s eta 0:00:24\n",
      "    --------------------------------------- 1.8/99.8 MB 4.1 MB/s eta 0:00:24\n",
      "    --------------------------------------- 1.8/99.8 MB 4.1 MB/s eta 0:00:24\n",
      "    --------------------------------------- 1.8/99.8 MB 4.1 MB/s eta 0:00:24\n",
      "    --------------------------------------- 1.8/99.8 MB 4.1 MB/s eta 0:00:24\n",
      "    --------------------------------------- 1.8/99.8 MB 4.1 MB/s eta 0:00:24\n",
      "    --------------------------------------- 1.8/99.8 MB 4.1 MB/s eta 0:00:24\n",
      "    --------------------------------------- 1.8/99.8 MB 4.1 MB/s eta 0:00:24\n",
      "    --------------------------------------- 2.0/99.8 MB 2.3 MB/s eta 0:00:43\n",
      "    --------------------------------------- 2.3/99.8 MB 2.4 MB/s eta 0:00:40\n",
      "   - -------------------------------------- 2.5/99.8 MB 2.6 MB/s eta 0:00:38\n",
      "   - -------------------------------------- 2.7/99.8 MB 2.6 MB/s eta 0:00:37\n",
      "   - -------------------------------------- 2.9/99.8 MB 2.7 MB/s eta 0:00:37\n",
      "   - -------------------------------------- 3.0/99.8 MB 2.7 MB/s eta 0:00:36\n",
      "   - -------------------------------------- 3.2/99.8 MB 2.8 MB/s eta 0:00:35\n",
      "   - -------------------------------------- 3.5/99.8 MB 3.0 MB/s eta 0:00:33\n",
      "   - -------------------------------------- 3.7/99.8 MB 3.0 MB/s eta 0:00:32\n",
      "   - -------------------------------------- 3.9/99.8 MB 3.1 MB/s eta 0:00:32\n",
      "   - -------------------------------------- 4.1/99.8 MB 3.1 MB/s eta 0:00:32\n",
      "   - -------------------------------------- 4.2/99.8 MB 3.1 MB/s eta 0:00:32\n",
      "   - -------------------------------------- 4.4/99.8 MB 3.1 MB/s eta 0:00:31\n",
      "   - -------------------------------------- 4.5/99.8 MB 3.1 MB/s eta 0:00:31\n",
      "   - -------------------------------------- 4.7/99.8 MB 3.1 MB/s eta 0:00:31\n",
      "   - -------------------------------------- 4.9/99.8 MB 3.1 MB/s eta 0:00:31\n",
      "   -- ------------------------------------- 5.1/99.8 MB 3.2 MB/s eta 0:00:30\n",
      "   -- ------------------------------------- 5.3/99.8 MB 3.2 MB/s eta 0:00:30\n",
      "   -- ------------------------------------- 5.4/99.8 MB 3.2 MB/s eta 0:00:30\n",
      "   -- ------------------------------------- 5.6/99.8 MB 3.2 MB/s eta 0:00:30\n",
      "   -- ------------------------------------- 5.8/99.8 MB 3.2 MB/s eta 0:00:30\n",
      "   -- ------------------------------------- 5.9/99.8 MB 3.2 MB/s eta 0:00:30\n",
      "   -- ------------------------------------- 6.1/99.8 MB 3.2 MB/s eta 0:00:30\n",
      "   -- ------------------------------------- 6.3/99.8 MB 3.2 MB/s eta 0:00:30\n",
      "   -- ------------------------------------- 6.5/99.8 MB 3.3 MB/s eta 0:00:29\n",
      "   -- ------------------------------------- 6.7/99.8 MB 3.3 MB/s eta 0:00:29\n",
      "   -- ------------------------------------- 6.8/99.8 MB 3.3 MB/s eta 0:00:29\n",
      "   -- ------------------------------------- 7.0/99.8 MB 3.3 MB/s eta 0:00:29\n",
      "   -- ------------------------------------- 7.2/99.8 MB 3.3 MB/s eta 0:00:29\n",
      "   -- ------------------------------------- 7.3/99.8 MB 3.3 MB/s eta 0:00:28\n",
      "   --- ------------------------------------ 7.5/99.8 MB 3.3 MB/s eta 0:00:28\n",
      "   --- ------------------------------------ 7.7/99.8 MB 3.3 MB/s eta 0:00:28\n",
      "   --- ------------------------------------ 7.8/99.8 MB 3.3 MB/s eta 0:00:28\n",
      "   --- ------------------------------------ 8.1/99.8 MB 3.3 MB/s eta 0:00:28\n",
      "   --- ------------------------------------ 8.2/99.8 MB 3.3 MB/s eta 0:00:28\n",
      "   --- ------------------------------------ 8.4/99.8 MB 3.3 MB/s eta 0:00:28\n",
      "   --- ------------------------------------ 8.6/99.8 MB 3.4 MB/s eta 0:00:28\n",
      "   --- ------------------------------------ 8.7/99.8 MB 3.3 MB/s eta 0:00:28\n",
      "   --- ------------------------------------ 8.8/99.8 MB 3.3 MB/s eta 0:00:28\n",
      "   --- ------------------------------------ 9.0/99.8 MB 3.3 MB/s eta 0:00:28\n",
      "   --- ------------------------------------ 9.2/99.8 MB 3.4 MB/s eta 0:00:28\n",
      "   --- ------------------------------------ 9.3/99.8 MB 3.3 MB/s eta 0:00:28\n",
      "   --- ------------------------------------ 9.5/99.8 MB 3.4 MB/s eta 0:00:27\n",
      "   --- ------------------------------------ 9.7/99.8 MB 3.4 MB/s eta 0:00:27\n",
      "   --- ------------------------------------ 9.8/99.8 MB 3.4 MB/s eta 0:00:27\n",
      "   ---- ----------------------------------- 10.0/99.8 MB 3.4 MB/s eta 0:00:27\n",
      "   ---- ----------------------------------- 10.3/99.8 MB 3.4 MB/s eta 0:00:27\n",
      "   ---- ----------------------------------- 10.4/99.8 MB 3.4 MB/s eta 0:00:27\n",
      "   ---- ----------------------------------- 10.6/99.8 MB 3.4 MB/s eta 0:00:27\n",
      "   ---- ----------------------------------- 10.8/99.8 MB 3.4 MB/s eta 0:00:27\n",
      "   ---- ----------------------------------- 11.0/99.8 MB 3.4 MB/s eta 0:00:27\n",
      "   ---- ----------------------------------- 11.1/99.8 MB 3.4 MB/s eta 0:00:27\n",
      "   ---- ----------------------------------- 11.3/99.8 MB 3.3 MB/s eta 0:00:27\n",
      "   ---- ----------------------------------- 11.4/99.8 MB 3.3 MB/s eta 0:00:27\n",
      "   ---- ----------------------------------- 11.6/99.8 MB 3.3 MB/s eta 0:00:27\n",
      "   ---- ----------------------------------- 11.7/99.8 MB 3.3 MB/s eta 0:00:27\n",
      "   ---- ----------------------------------- 11.9/99.8 MB 3.3 MB/s eta 0:00:27\n",
      "   ---- ----------------------------------- 12.1/99.8 MB 3.8 MB/s eta 0:00:24\n",
      "   ---- ----------------------------------- 12.2/99.8 MB 3.7 MB/s eta 0:00:24\n",
      "   ---- ----------------------------------- 12.4/99.8 MB 3.7 MB/s eta 0:00:24\n",
      "   ----- ---------------------------------- 12.6/99.8 MB 3.7 MB/s eta 0:00:24\n",
      "   ----- ---------------------------------- 12.8/99.8 MB 3.7 MB/s eta 0:00:24\n",
      "   ----- ---------------------------------- 13.0/99.8 MB 3.7 MB/s eta 0:00:24\n",
      "   ----- ---------------------------------- 13.2/99.8 MB 3.7 MB/s eta 0:00:24\n",
      "   ----- ---------------------------------- 13.3/99.8 MB 3.7 MB/s eta 0:00:24\n",
      "   ----- ---------------------------------- 13.5/99.8 MB 3.7 MB/s eta 0:00:24\n",
      "   ----- ---------------------------------- 13.7/99.8 MB 3.7 MB/s eta 0:00:24\n",
      "   ----- ---------------------------------- 13.9/99.8 MB 3.6 MB/s eta 0:00:24\n",
      "   ----- ---------------------------------- 14.1/99.8 MB 3.6 MB/s eta 0:00:24\n",
      "   ----- ---------------------------------- 14.3/99.8 MB 3.6 MB/s eta 0:00:24\n",
      "   ----- ---------------------------------- 14.4/99.8 MB 3.6 MB/s eta 0:00:24\n",
      "   ----- ---------------------------------- 14.6/99.8 MB 3.6 MB/s eta 0:00:24\n",
      "   ----- ---------------------------------- 14.8/99.8 MB 3.6 MB/s eta 0:00:24\n",
      "   ----- ---------------------------------- 14.9/99.8 MB 3.6 MB/s eta 0:00:24\n",
      "   ------ --------------------------------- 15.1/99.8 MB 3.7 MB/s eta 0:00:24\n",
      "   ------ --------------------------------- 15.2/99.8 MB 3.6 MB/s eta 0:00:24\n",
      "   ------ --------------------------------- 15.5/99.8 MB 3.6 MB/s eta 0:00:24\n",
      "   ------ --------------------------------- 15.6/99.8 MB 3.6 MB/s eta 0:00:24\n",
      "   ------ --------------------------------- 15.8/99.8 MB 3.6 MB/s eta 0:00:24\n",
      "   ------ --------------------------------- 15.9/99.8 MB 3.6 MB/s eta 0:00:24\n",
      "   ------ --------------------------------- 16.0/99.8 MB 3.6 MB/s eta 0:00:24\n",
      "   ------ --------------------------------- 16.2/99.8 MB 3.6 MB/s eta 0:00:23\n",
      "   ------ --------------------------------- 16.4/99.8 MB 3.6 MB/s eta 0:00:24\n",
      "   ------ --------------------------------- 16.5/99.8 MB 3.6 MB/s eta 0:00:23\n",
      "   ------ --------------------------------- 16.6/99.8 MB 3.6 MB/s eta 0:00:24\n",
      "   ------ --------------------------------- 16.7/99.8 MB 3.6 MB/s eta 0:00:23\n",
      "   ------ --------------------------------- 16.9/99.8 MB 3.6 MB/s eta 0:00:24\n",
      "   ------ --------------------------------- 17.0/99.8 MB 3.6 MB/s eta 0:00:24\n",
      "   ------ --------------------------------- 17.2/99.8 MB 3.6 MB/s eta 0:00:24\n",
      "   ------ --------------------------------- 17.4/99.8 MB 3.6 MB/s eta 0:00:23\n",
      "   ------- -------------------------------- 17.6/99.8 MB 3.6 MB/s eta 0:00:23\n",
      "   ------- -------------------------------- 17.8/99.8 MB 3.6 MB/s eta 0:00:23\n",
      "   ------- -------------------------------- 17.9/99.8 MB 3.6 MB/s eta 0:00:23\n",
      "   ------- -------------------------------- 18.1/99.8 MB 3.6 MB/s eta 0:00:23\n",
      "   ------- -------------------------------- 18.3/99.8 MB 3.6 MB/s eta 0:00:23\n",
      "   ------- -------------------------------- 18.4/99.8 MB 3.6 MB/s eta 0:00:23\n",
      "   ------- -------------------------------- 18.6/99.8 MB 3.6 MB/s eta 0:00:23\n",
      "   ------- -------------------------------- 18.8/99.8 MB 3.6 MB/s eta 0:00:23\n",
      "   ------- -------------------------------- 19.0/99.8 MB 3.6 MB/s eta 0:00:23\n",
      "   ------- -------------------------------- 19.1/99.8 MB 3.6 MB/s eta 0:00:23\n",
      "   ------- -------------------------------- 19.3/99.8 MB 3.6 MB/s eta 0:00:23\n",
      "   ------- -------------------------------- 19.5/99.8 MB 3.6 MB/s eta 0:00:23\n",
      "   ------- -------------------------------- 19.7/99.8 MB 3.6 MB/s eta 0:00:23\n",
      "   ------- -------------------------------- 19.9/99.8 MB 3.6 MB/s eta 0:00:22\n",
      "   -------- ------------------------------- 20.0/99.8 MB 3.6 MB/s eta 0:00:22\n",
      "   -------- ------------------------------- 20.2/99.8 MB 3.6 MB/s eta 0:00:22\n",
      "   -------- ------------------------------- 20.4/99.8 MB 3.6 MB/s eta 0:00:22\n",
      "   -------- ------------------------------- 20.6/99.8 MB 3.6 MB/s eta 0:00:22\n",
      "   -------- ------------------------------- 20.8/99.8 MB 3.6 MB/s eta 0:00:22\n",
      "   -------- ------------------------------- 21.0/99.8 MB 3.6 MB/s eta 0:00:22\n",
      "   -------- ------------------------------- 21.1/99.8 MB 3.6 MB/s eta 0:00:22\n",
      "   -------- ------------------------------- 21.3/99.8 MB 3.6 MB/s eta 0:00:22\n",
      "   -------- ------------------------------- 21.5/99.8 MB 3.6 MB/s eta 0:00:22\n",
      "   -------- ------------------------------- 21.7/99.8 MB 3.6 MB/s eta 0:00:22\n",
      "   -------- ------------------------------- 21.8/99.8 MB 3.6 MB/s eta 0:00:22\n",
      "   -------- ------------------------------- 22.0/99.8 MB 3.6 MB/s eta 0:00:22\n",
      "   -------- ------------------------------- 22.2/99.8 MB 3.7 MB/s eta 0:00:22\n",
      "   -------- ------------------------------- 22.3/99.8 MB 3.6 MB/s eta 0:00:22\n",
      "   -------- ------------------------------- 22.4/99.8 MB 3.6 MB/s eta 0:00:22\n",
      "   --------- ------------------------------ 22.6/99.8 MB 3.6 MB/s eta 0:00:22\n",
      "   --------- ------------------------------ 22.8/99.8 MB 3.6 MB/s eta 0:00:22\n",
      "   --------- ------------------------------ 23.0/99.8 MB 3.6 MB/s eta 0:00:22\n",
      "   --------- ------------------------------ 23.1/99.8 MB 3.6 MB/s eta 0:00:22\n",
      "   --------- ------------------------------ 23.3/99.8 MB 3.6 MB/s eta 0:00:22\n",
      "   --------- ------------------------------ 23.5/99.8 MB 3.6 MB/s eta 0:00:22\n",
      "   --------- ------------------------------ 23.7/99.8 MB 3.6 MB/s eta 0:00:21\n",
      "   --------- ------------------------------ 23.9/99.8 MB 3.6 MB/s eta 0:00:21\n",
      "   --------- ------------------------------ 24.1/99.8 MB 3.6 MB/s eta 0:00:21\n",
      "   --------- ------------------------------ 24.2/99.8 MB 3.6 MB/s eta 0:00:21\n",
      "   --------- ------------------------------ 24.4/99.8 MB 3.6 MB/s eta 0:00:21\n",
      "   --------- ------------------------------ 24.6/99.8 MB 3.6 MB/s eta 0:00:21\n",
      "   --------- ------------------------------ 24.8/99.8 MB 3.6 MB/s eta 0:00:21\n",
      "   --------- ------------------------------ 24.9/99.8 MB 3.6 MB/s eta 0:00:21\n",
      "   ---------- ----------------------------- 25.1/99.8 MB 3.6 MB/s eta 0:00:21\n",
      "   ---------- ----------------------------- 25.2/99.8 MB 3.6 MB/s eta 0:00:21\n",
      "   ---------- ----------------------------- 25.4/99.8 MB 3.6 MB/s eta 0:00:21\n",
      "   ---------- ----------------------------- 25.6/99.8 MB 3.7 MB/s eta 0:00:21\n",
      "   ---------- ----------------------------- 25.7/99.8 MB 3.7 MB/s eta 0:00:21\n",
      "   ---------- ----------------------------- 25.9/99.8 MB 3.6 MB/s eta 0:00:21\n",
      "   ---------- ----------------------------- 26.0/99.8 MB 3.6 MB/s eta 0:00:21\n",
      "   ---------- ----------------------------- 26.1/99.8 MB 3.6 MB/s eta 0:00:21\n",
      "   ---------- ----------------------------- 26.3/99.8 MB 3.7 MB/s eta 0:00:21\n",
      "   ---------- ----------------------------- 26.4/99.8 MB 3.6 MB/s eta 0:00:21\n",
      "   ---------- ----------------------------- 26.6/99.8 MB 3.7 MB/s eta 0:00:20\n",
      "   ---------- ----------------------------- 26.7/99.8 MB 3.6 MB/s eta 0:00:21\n",
      "   ---------- ----------------------------- 27.0/99.8 MB 3.7 MB/s eta 0:00:20\n",
      "   ---------- ----------------------------- 27.2/99.8 MB 3.7 MB/s eta 0:00:20\n",
      "   ---------- ----------------------------- 27.4/99.8 MB 3.7 MB/s eta 0:00:20\n",
      "   ----------- ---------------------------- 27.5/99.8 MB 3.7 MB/s eta 0:00:20\n",
      "   ----------- ---------------------------- 27.7/99.8 MB 3.7 MB/s eta 0:00:20\n",
      "   ----------- ---------------------------- 27.9/99.8 MB 3.7 MB/s eta 0:00:20\n",
      "   ----------- ---------------------------- 28.0/99.8 MB 3.6 MB/s eta 0:00:20\n",
      "   ----------- ---------------------------- 28.2/99.8 MB 3.6 MB/s eta 0:00:20\n",
      "   ----------- ---------------------------- 28.5/99.8 MB 3.7 MB/s eta 0:00:20\n",
      "   ----------- ---------------------------- 28.6/99.8 MB 3.6 MB/s eta 0:00:20\n",
      "   ----------- ---------------------------- 28.7/99.8 MB 3.7 MB/s eta 0:00:20\n",
      "   ----------- ---------------------------- 28.9/99.8 MB 3.7 MB/s eta 0:00:20\n",
      "   ----------- ---------------------------- 29.1/99.8 MB 3.7 MB/s eta 0:00:20\n",
      "   ----------- ---------------------------- 29.3/99.8 MB 3.6 MB/s eta 0:00:20\n",
      "   ----------- ---------------------------- 29.4/99.8 MB 3.7 MB/s eta 0:00:20\n",
      "   ----------- ---------------------------- 29.6/99.8 MB 3.7 MB/s eta 0:00:20\n",
      "   ----------- ---------------------------- 29.8/99.8 MB 3.7 MB/s eta 0:00:20\n",
      "   ------------ --------------------------- 30.0/99.8 MB 3.7 MB/s eta 0:00:19\n",
      "   ------------ --------------------------- 30.1/99.8 MB 3.7 MB/s eta 0:00:20\n",
      "   ------------ --------------------------- 30.3/99.8 MB 3.7 MB/s eta 0:00:19\n",
      "   ------------ --------------------------- 30.5/99.8 MB 3.6 MB/s eta 0:00:20\n",
      "   ------------ --------------------------- 30.7/99.8 MB 3.6 MB/s eta 0:00:19\n",
      "   ------------ --------------------------- 30.8/99.8 MB 3.6 MB/s eta 0:00:20\n",
      "   ------------ --------------------------- 31.1/99.8 MB 3.7 MB/s eta 0:00:19\n",
      "   ------------ --------------------------- 31.2/99.8 MB 3.6 MB/s eta 0:00:19\n",
      "   ------------ --------------------------- 31.4/99.8 MB 3.7 MB/s eta 0:00:19\n",
      "   ------------ --------------------------- 31.6/99.8 MB 3.7 MB/s eta 0:00:19\n",
      "   ------------ --------------------------- 31.8/99.8 MB 3.7 MB/s eta 0:00:19\n",
      "   ------------ --------------------------- 31.9/99.8 MB 3.6 MB/s eta 0:00:19\n",
      "   ------------ --------------------------- 32.1/99.8 MB 3.7 MB/s eta 0:00:19\n",
      "   ------------ --------------------------- 32.2/99.8 MB 3.7 MB/s eta 0:00:19\n",
      "   ------------ --------------------------- 32.3/99.8 MB 3.6 MB/s eta 0:00:19\n",
      "   ------------- -------------------------- 32.5/99.8 MB 3.7 MB/s eta 0:00:19\n",
      "   ------------- -------------------------- 32.7/99.8 MB 3.7 MB/s eta 0:00:19\n",
      "   ------------- -------------------------- 32.9/99.8 MB 3.7 MB/s eta 0:00:19\n",
      "   ------------- -------------------------- 33.1/99.8 MB 3.7 MB/s eta 0:00:19\n",
      "   ------------- -------------------------- 33.3/99.8 MB 3.7 MB/s eta 0:00:19\n",
      "   ------------- -------------------------- 33.4/99.8 MB 3.7 MB/s eta 0:00:19\n",
      "   ------------- -------------------------- 33.5/99.8 MB 3.7 MB/s eta 0:00:19\n",
      "   ------------- -------------------------- 33.8/99.8 MB 3.7 MB/s eta 0:00:19\n",
      "   ------------- -------------------------- 34.0/99.8 MB 3.7 MB/s eta 0:00:18\n",
      "   ------------- -------------------------- 34.0/99.8 MB 3.7 MB/s eta 0:00:18\n",
      "   ------------- -------------------------- 34.2/99.8 MB 3.6 MB/s eta 0:00:19\n",
      "   ------------- -------------------------- 34.4/99.8 MB 3.7 MB/s eta 0:00:18\n",
      "   ------------- -------------------------- 34.6/99.8 MB 3.7 MB/s eta 0:00:18\n",
      "   ------------- -------------------------- 34.8/99.8 MB 3.6 MB/s eta 0:00:18\n",
      "   -------------- ------------------------- 35.0/99.8 MB 3.6 MB/s eta 0:00:18\n",
      "   -------------- ------------------------- 35.2/99.8 MB 3.7 MB/s eta 0:00:18\n",
      "   -------------- ------------------------- 35.3/99.8 MB 3.6 MB/s eta 0:00:18\n",
      "   -------------- ------------------------- 35.5/99.8 MB 3.6 MB/s eta 0:00:18\n",
      "   -------------- ------------------------- 35.7/99.8 MB 3.6 MB/s eta 0:00:18\n",
      "   -------------- ------------------------- 35.9/99.8 MB 3.6 MB/s eta 0:00:18\n",
      "   -------------- ------------------------- 36.1/99.8 MB 3.6 MB/s eta 0:00:18\n",
      "   -------------- ------------------------- 36.3/99.8 MB 3.6 MB/s eta 0:00:18\n",
      "   -------------- ------------------------- 36.5/99.8 MB 3.7 MB/s eta 0:00:18\n",
      "   -------------- ------------------------- 36.7/99.8 MB 3.7 MB/s eta 0:00:18\n",
      "   -------------- ------------------------- 36.8/99.8 MB 3.7 MB/s eta 0:00:18\n",
      "   -------------- ------------------------- 37.1/99.8 MB 3.7 MB/s eta 0:00:18\n",
      "   -------------- ------------------------- 37.2/99.8 MB 3.7 MB/s eta 0:00:18\n",
      "   -------------- ------------------------- 37.3/99.8 MB 3.7 MB/s eta 0:00:17\n",
      "   --------------- ------------------------ 37.5/99.8 MB 3.7 MB/s eta 0:00:18\n",
      "   --------------- ------------------------ 37.6/99.8 MB 3.6 MB/s eta 0:00:18\n",
      "   --------------- ------------------------ 37.6/99.8 MB 3.6 MB/s eta 0:00:18\n",
      "   --------------- ------------------------ 37.7/99.8 MB 3.6 MB/s eta 0:00:18\n",
      "   --------------- ------------------------ 38.0/99.8 MB 3.6 MB/s eta 0:00:18\n",
      "   --------------- ------------------------ 38.3/99.8 MB 3.6 MB/s eta 0:00:17\n",
      "   --------------- ------------------------ 38.4/99.8 MB 3.6 MB/s eta 0:00:18\n",
      "   --------------- ------------------------ 38.6/99.8 MB 3.6 MB/s eta 0:00:17\n",
      "   --------------- ------------------------ 38.9/99.8 MB 3.7 MB/s eta 0:00:17\n",
      "   --------------- ------------------------ 39.1/99.8 MB 3.6 MB/s eta 0:00:17\n",
      "   --------------- ------------------------ 39.3/99.8 MB 3.7 MB/s eta 0:00:17\n",
      "   --------------- ------------------------ 39.5/99.8 MB 3.7 MB/s eta 0:00:17\n",
      "   --------------- ------------------------ 39.7/99.8 MB 3.7 MB/s eta 0:00:17\n",
      "   --------------- ------------------------ 39.8/99.8 MB 3.7 MB/s eta 0:00:17\n",
      "   ---------------- ----------------------- 40.1/99.8 MB 3.7 MB/s eta 0:00:17\n",
      "   ---------------- ----------------------- 40.2/99.8 MB 3.7 MB/s eta 0:00:17\n",
      "   ---------------- ----------------------- 40.4/99.8 MB 3.7 MB/s eta 0:00:17\n",
      "   ---------------- ----------------------- 40.5/99.8 MB 3.7 MB/s eta 0:00:17\n",
      "   ---------------- ----------------------- 40.7/99.8 MB 3.7 MB/s eta 0:00:17\n",
      "   ---------------- ----------------------- 40.9/99.8 MB 3.7 MB/s eta 0:00:17\n",
      "   ---------------- ----------------------- 41.1/99.8 MB 3.7 MB/s eta 0:00:16\n",
      "   ---------------- ----------------------- 41.2/99.8 MB 3.7 MB/s eta 0:00:17\n",
      "   ---------------- ----------------------- 41.3/99.8 MB 3.6 MB/s eta 0:00:17\n",
      "   ---------------- ----------------------- 41.5/99.8 MB 3.7 MB/s eta 0:00:16\n",
      "   ---------------- ----------------------- 41.6/99.8 MB 3.6 MB/s eta 0:00:16\n",
      "   ---------------- ----------------------- 41.9/99.8 MB 3.7 MB/s eta 0:00:16\n",
      "   ---------------- ----------------------- 42.0/99.8 MB 3.7 MB/s eta 0:00:16\n",
      "   ---------------- ----------------------- 42.1/99.8 MB 3.6 MB/s eta 0:00:16\n",
      "   ---------------- ----------------------- 42.3/99.8 MB 3.6 MB/s eta 0:00:16\n",
      "   ----------------- ---------------------- 42.5/99.8 MB 3.6 MB/s eta 0:00:16\n",
      "   ----------------- ---------------------- 42.7/99.8 MB 3.7 MB/s eta 0:00:16\n",
      "   ----------------- ---------------------- 42.8/99.8 MB 3.7 MB/s eta 0:00:16\n",
      "   ----------------- ---------------------- 43.0/99.8 MB 3.7 MB/s eta 0:00:16\n",
      "   ----------------- ---------------------- 43.2/99.8 MB 3.6 MB/s eta 0:00:16\n",
      "   ----------------- ---------------------- 43.4/99.8 MB 3.7 MB/s eta 0:00:16\n",
      "   ----------------- ---------------------- 43.6/99.8 MB 3.7 MB/s eta 0:00:16\n",
      "   ----------------- ---------------------- 43.7/99.8 MB 3.7 MB/s eta 0:00:16\n",
      "   ----------------- ---------------------- 43.9/99.8 MB 3.7 MB/s eta 0:00:16\n",
      "   ----------------- ---------------------- 44.1/99.8 MB 3.7 MB/s eta 0:00:16\n",
      "   ----------------- ---------------------- 44.2/99.8 MB 3.7 MB/s eta 0:00:16\n",
      "   ----------------- ---------------------- 44.3/99.8 MB 3.7 MB/s eta 0:00:16\n",
      "   ----------------- ---------------------- 44.6/99.8 MB 3.7 MB/s eta 0:00:15\n",
      "   ----------------- ---------------------- 44.7/99.8 MB 3.7 MB/s eta 0:00:15\n",
      "   ------------------ --------------------- 44.9/99.8 MB 3.7 MB/s eta 0:00:15\n",
      "   ------------------ --------------------- 45.0/99.8 MB 3.7 MB/s eta 0:00:15\n",
      "   ------------------ --------------------- 45.1/99.8 MB 3.6 MB/s eta 0:00:16\n",
      "   ------------------ --------------------- 45.3/99.8 MB 3.6 MB/s eta 0:00:16\n",
      "   ------------------ --------------------- 45.3/99.8 MB 3.6 MB/s eta 0:00:16\n",
      "   ------------------ --------------------- 45.5/99.8 MB 3.6 MB/s eta 0:00:16\n",
      "   ------------------ --------------------- 45.7/99.8 MB 3.6 MB/s eta 0:00:16\n",
      "   ------------------ --------------------- 46.0/99.8 MB 3.6 MB/s eta 0:00:15\n",
      "   ------------------ --------------------- 46.2/99.8 MB 3.6 MB/s eta 0:00:15\n",
      "   ------------------ --------------------- 46.5/99.8 MB 3.7 MB/s eta 0:00:15\n",
      "   ------------------ --------------------- 46.7/99.8 MB 3.6 MB/s eta 0:00:15\n",
      "   ------------------ --------------------- 46.8/99.8 MB 3.6 MB/s eta 0:00:15\n",
      "   ------------------ --------------------- 46.9/99.8 MB 3.6 MB/s eta 0:00:15\n",
      "   ------------------ --------------------- 47.2/99.8 MB 3.7 MB/s eta 0:00:15\n",
      "   ------------------ --------------------- 47.3/99.8 MB 3.7 MB/s eta 0:00:15\n",
      "   ------------------- -------------------- 47.5/99.8 MB 3.7 MB/s eta 0:00:15\n",
      "   ------------------- -------------------- 47.7/99.8 MB 3.7 MB/s eta 0:00:15\n",
      "   ------------------- -------------------- 47.9/99.8 MB 3.8 MB/s eta 0:00:14\n",
      "   ------------------- -------------------- 48.0/99.8 MB 3.8 MB/s eta 0:00:14\n",
      "   ------------------- -------------------- 48.2/99.8 MB 3.7 MB/s eta 0:00:14\n",
      "   ------------------- -------------------- 48.4/99.8 MB 3.7 MB/s eta 0:00:14\n",
      "   ------------------- -------------------- 48.5/99.8 MB 3.7 MB/s eta 0:00:14\n",
      "   ------------------- -------------------- 48.7/99.8 MB 3.7 MB/s eta 0:00:14\n",
      "   ------------------- -------------------- 48.8/99.8 MB 3.7 MB/s eta 0:00:14\n",
      "   ------------------- -------------------- 49.0/99.8 MB 3.7 MB/s eta 0:00:14\n",
      "   ------------------- -------------------- 49.2/99.8 MB 3.7 MB/s eta 0:00:14\n",
      "   ------------------- -------------------- 49.4/99.8 MB 3.7 MB/s eta 0:00:14\n",
      "   ------------------- -------------------- 49.6/99.8 MB 3.7 MB/s eta 0:00:14\n",
      "   ------------------- -------------------- 49.7/99.8 MB 3.7 MB/s eta 0:00:14\n",
      "   -------------------- ------------------- 49.9/99.8 MB 3.7 MB/s eta 0:00:14\n",
      "   -------------------- ------------------- 50.1/99.8 MB 3.7 MB/s eta 0:00:14\n",
      "   -------------------- ------------------- 50.2/99.8 MB 3.7 MB/s eta 0:00:14\n",
      "   -------------------- ------------------- 50.5/99.8 MB 3.7 MB/s eta 0:00:14\n",
      "   -------------------- ------------------- 50.6/99.8 MB 3.7 MB/s eta 0:00:14\n",
      "   -------------------- ------------------- 50.8/99.8 MB 3.7 MB/s eta 0:00:14\n",
      "   -------------------- ------------------- 51.0/99.8 MB 3.7 MB/s eta 0:00:14\n",
      "   -------------------- ------------------- 51.1/99.8 MB 3.7 MB/s eta 0:00:14\n",
      "   -------------------- ------------------- 51.3/99.8 MB 3.7 MB/s eta 0:00:14\n",
      "   -------------------- ------------------- 51.4/99.8 MB 3.7 MB/s eta 0:00:14\n",
      "   -------------------- ------------------- 51.5/99.8 MB 3.7 MB/s eta 0:00:14\n",
      "   -------------------- ------------------- 51.7/99.8 MB 3.7 MB/s eta 0:00:14\n",
      "   -------------------- ------------------- 51.8/99.8 MB 3.7 MB/s eta 0:00:14\n",
      "   -------------------- ------------------- 52.0/99.8 MB 3.7 MB/s eta 0:00:13\n",
      "   -------------------- ------------------- 52.1/99.8 MB 3.7 MB/s eta 0:00:14\n",
      "   -------------------- ------------------- 52.3/99.8 MB 3.7 MB/s eta 0:00:13\n",
      "   --------------------- ------------------ 52.4/99.8 MB 3.6 MB/s eta 0:00:14\n",
      "   --------------------- ------------------ 52.6/99.8 MB 3.6 MB/s eta 0:00:13\n",
      "   --------------------- ------------------ 52.8/99.8 MB 3.6 MB/s eta 0:00:13\n",
      "   --------------------- ------------------ 53.0/99.8 MB 3.7 MB/s eta 0:00:13\n",
      "   --------------------- ------------------ 53.2/99.8 MB 3.7 MB/s eta 0:00:13\n",
      "   --------------------- ------------------ 53.4/99.8 MB 3.6 MB/s eta 0:00:13\n",
      "   --------------------- ------------------ 53.6/99.8 MB 3.7 MB/s eta 0:00:13\n",
      "   --------------------- ------------------ 53.8/99.8 MB 3.6 MB/s eta 0:00:13\n",
      "   --------------------- ------------------ 54.0/99.8 MB 3.7 MB/s eta 0:00:13\n",
      "   --------------------- ------------------ 54.2/99.8 MB 3.6 MB/s eta 0:00:13\n",
      "   --------------------- ------------------ 54.3/99.8 MB 3.7 MB/s eta 0:00:13\n",
      "   --------------------- ------------------ 54.4/99.8 MB 3.7 MB/s eta 0:00:13\n",
      "   --------------------- ------------------ 54.7/99.8 MB 3.7 MB/s eta 0:00:13\n",
      "   --------------------- ------------------ 54.8/99.8 MB 3.7 MB/s eta 0:00:13\n",
      "   ---------------------- ----------------- 55.0/99.8 MB 3.7 MB/s eta 0:00:13\n",
      "   ---------------------- ----------------- 55.1/99.8 MB 3.7 MB/s eta 0:00:13\n",
      "   ---------------------- ----------------- 55.3/99.8 MB 3.7 MB/s eta 0:00:13\n",
      "   ---------------------- ----------------- 55.5/99.8 MB 3.7 MB/s eta 0:00:12\n",
      "   ---------------------- ----------------- 55.7/99.8 MB 3.8 MB/s eta 0:00:12\n",
      "   ---------------------- ----------------- 55.9/99.8 MB 3.8 MB/s eta 0:00:12\n",
      "   ---------------------- ----------------- 56.0/99.8 MB 3.7 MB/s eta 0:00:12\n",
      "   ---------------------- ----------------- 56.1/99.8 MB 3.7 MB/s eta 0:00:12\n",
      "   ---------------------- ----------------- 56.3/99.8 MB 3.7 MB/s eta 0:00:12\n",
      "   ---------------------- ----------------- 56.5/99.8 MB 3.7 MB/s eta 0:00:12\n",
      "   ---------------------- ----------------- 56.6/99.8 MB 3.7 MB/s eta 0:00:12\n",
      "   ---------------------- ----------------- 56.8/99.8 MB 3.6 MB/s eta 0:00:12\n",
      "   ---------------------- ----------------- 56.9/99.8 MB 3.6 MB/s eta 0:00:12\n",
      "   ---------------------- ----------------- 57.2/99.8 MB 3.7 MB/s eta 0:00:12\n",
      "   ---------------------- ----------------- 57.4/99.8 MB 3.7 MB/s eta 0:00:12\n",
      "   ----------------------- ---------------- 57.4/99.8 MB 3.6 MB/s eta 0:00:12\n",
      "   ----------------------- ---------------- 57.5/99.8 MB 3.6 MB/s eta 0:00:12\n",
      "   ----------------------- ---------------- 57.8/99.8 MB 3.6 MB/s eta 0:00:12\n",
      "   ----------------------- ---------------- 58.0/99.8 MB 3.6 MB/s eta 0:00:12\n",
      "   ----------------------- ---------------- 58.2/99.8 MB 3.6 MB/s eta 0:00:12\n",
      "   ----------------------- ---------------- 58.3/99.8 MB 3.6 MB/s eta 0:00:12\n",
      "   ----------------------- ---------------- 58.5/99.8 MB 3.6 MB/s eta 0:00:12\n",
      "   ----------------------- ---------------- 58.7/99.8 MB 3.6 MB/s eta 0:00:12\n",
      "   ----------------------- ---------------- 58.9/99.8 MB 3.7 MB/s eta 0:00:12\n",
      "   ----------------------- ---------------- 59.1/99.8 MB 3.7 MB/s eta 0:00:12\n",
      "   ----------------------- ---------------- 59.2/99.8 MB 3.7 MB/s eta 0:00:12\n",
      "   ----------------------- ---------------- 59.4/99.8 MB 3.6 MB/s eta 0:00:12\n",
      "   ----------------------- ---------------- 59.6/99.8 MB 3.6 MB/s eta 0:00:12\n",
      "   ----------------------- ---------------- 59.7/99.8 MB 3.6 MB/s eta 0:00:12\n",
      "   ------------------------ --------------- 59.9/99.8 MB 3.6 MB/s eta 0:00:11\n",
      "   ------------------------ --------------- 60.1/99.8 MB 3.6 MB/s eta 0:00:11\n",
      "   ------------------------ --------------- 60.3/99.8 MB 3.6 MB/s eta 0:00:11\n",
      "   ------------------------ --------------- 60.5/99.8 MB 3.7 MB/s eta 0:00:11\n",
      "   ------------------------ --------------- 60.7/99.8 MB 3.6 MB/s eta 0:00:11\n",
      "   ------------------------ --------------- 60.9/99.8 MB 3.6 MB/s eta 0:00:11\n",
      "   ------------------------ --------------- 61.0/99.8 MB 3.6 MB/s eta 0:00:11\n",
      "   ------------------------ --------------- 61.1/99.8 MB 3.6 MB/s eta 0:00:11\n",
      "   ------------------------ --------------- 61.4/99.8 MB 3.7 MB/s eta 0:00:11\n",
      "   ------------------------ --------------- 61.5/99.8 MB 3.6 MB/s eta 0:00:11\n",
      "   ------------------------ --------------- 61.7/99.8 MB 3.6 MB/s eta 0:00:11\n",
      "   ------------------------ --------------- 61.8/99.8 MB 3.6 MB/s eta 0:00:11\n",
      "   ------------------------ --------------- 62.0/99.8 MB 3.6 MB/s eta 0:00:11\n",
      "   ------------------------ --------------- 62.2/99.8 MB 3.7 MB/s eta 0:00:11\n",
      "   ------------------------- -------------- 62.4/99.8 MB 3.7 MB/s eta 0:00:11\n",
      "   ------------------------- -------------- 62.6/99.8 MB 3.7 MB/s eta 0:00:11\n",
      "   ------------------------- -------------- 62.8/99.8 MB 3.7 MB/s eta 0:00:11\n",
      "   ------------------------- -------------- 62.9/99.8 MB 3.7 MB/s eta 0:00:11\n",
      "   ------------------------- -------------- 63.0/99.8 MB 3.6 MB/s eta 0:00:11\n",
      "   ------------------------- -------------- 63.2/99.8 MB 3.6 MB/s eta 0:00:11\n",
      "   ------------------------- -------------- 63.4/99.8 MB 3.6 MB/s eta 0:00:11\n",
      "   ------------------------- -------------- 63.6/99.8 MB 3.6 MB/s eta 0:00:11\n",
      "   ------------------------- -------------- 63.7/99.8 MB 3.6 MB/s eta 0:00:10\n",
      "   ------------------------- -------------- 63.9/99.8 MB 3.6 MB/s eta 0:00:10\n",
      "   ------------------------- -------------- 64.1/99.8 MB 3.6 MB/s eta 0:00:10\n",
      "   ------------------------- -------------- 64.3/99.8 MB 3.6 MB/s eta 0:00:10\n",
      "   ------------------------- -------------- 64.4/99.8 MB 3.6 MB/s eta 0:00:10\n",
      "   ------------------------- -------------- 64.6/99.8 MB 3.6 MB/s eta 0:00:10\n",
      "   ------------------------- -------------- 64.7/99.8 MB 3.6 MB/s eta 0:00:10\n",
      "   -------------------------- ------------- 64.9/99.8 MB 3.6 MB/s eta 0:00:10\n",
      "   -------------------------- ------------- 65.1/99.8 MB 3.6 MB/s eta 0:00:10\n",
      "   -------------------------- ------------- 65.2/99.8 MB 3.6 MB/s eta 0:00:10\n",
      "   -------------------------- ------------- 65.4/99.8 MB 3.6 MB/s eta 0:00:10\n",
      "   -------------------------- ------------- 65.5/99.8 MB 3.6 MB/s eta 0:00:10\n",
      "   -------------------------- ------------- 65.7/99.8 MB 3.7 MB/s eta 0:00:10\n",
      "   -------------------------- ------------- 65.9/99.8 MB 3.6 MB/s eta 0:00:10\n",
      "   -------------------------- ------------- 66.0/99.8 MB 3.6 MB/s eta 0:00:10\n",
      "   -------------------------- ------------- 66.2/99.8 MB 3.6 MB/s eta 0:00:10\n",
      "   -------------------------- ------------- 66.3/99.8 MB 3.6 MB/s eta 0:00:10\n",
      "   -------------------------- ------------- 66.6/99.8 MB 3.7 MB/s eta 0:00:10\n",
      "   -------------------------- ------------- 66.7/99.8 MB 3.7 MB/s eta 0:00:10\n",
      "   -------------------------- ------------- 66.8/99.8 MB 3.6 MB/s eta 0:00:10\n",
      "   -------------------------- ------------- 67.0/99.8 MB 3.7 MB/s eta 0:00:09\n",
      "   -------------------------- ------------- 67.0/99.8 MB 3.7 MB/s eta 0:00:09\n",
      "   -------------------------- ------------- 67.3/99.8 MB 3.7 MB/s eta 0:00:09\n",
      "   --------------------------- ------------ 67.4/99.8 MB 3.6 MB/s eta 0:00:09\n",
      "   --------------------------- ------------ 67.6/99.8 MB 3.7 MB/s eta 0:00:09\n",
      "   --------------------------- ------------ 67.8/99.8 MB 3.7 MB/s eta 0:00:09\n",
      "   --------------------------- ------------ 68.0/99.8 MB 3.7 MB/s eta 0:00:09\n",
      "   --------------------------- ------------ 68.0/99.8 MB 3.7 MB/s eta 0:00:09\n",
      "   --------------------------- ------------ 68.0/99.8 MB 3.7 MB/s eta 0:00:09\n",
      "   --------------------------- ------------ 68.0/99.8 MB 3.7 MB/s eta 0:00:09\n",
      "   --------------------------- ------------ 68.0/99.8 MB 3.7 MB/s eta 0:00:09\n",
      "   --------------------------- ------------ 68.0/99.8 MB 3.7 MB/s eta 0:00:09\n",
      "   --------------------------- ------------ 68.1/99.8 MB 3.4 MB/s eta 0:00:10\n",
      "   --------------------------- ------------ 68.2/99.8 MB 3.4 MB/s eta 0:00:10\n",
      "   --------------------------- ------------ 68.4/99.8 MB 3.4 MB/s eta 0:00:10\n",
      "   --------------------------- ------------ 68.5/99.8 MB 3.4 MB/s eta 0:00:10\n",
      "   --------------------------- ------------ 68.7/99.8 MB 3.4 MB/s eta 0:00:10\n",
      "   --------------------------- ------------ 68.9/99.8 MB 3.4 MB/s eta 0:00:10\n",
      "   --------------------------- ------------ 69.0/99.8 MB 3.4 MB/s eta 0:00:10\n",
      "   --------------------------- ------------ 69.2/99.8 MB 3.4 MB/s eta 0:00:10\n",
      "   --------------------------- ------------ 69.5/99.8 MB 3.4 MB/s eta 0:00:09\n",
      "   --------------------------- ------------ 69.7/99.8 MB 3.4 MB/s eta 0:00:09\n",
      "   ---------------------------- ----------- 69.9/99.8 MB 3.5 MB/s eta 0:00:09\n",
      "   ---------------------------- ----------- 70.2/99.8 MB 3.4 MB/s eta 0:00:09\n",
      "   ---------------------------- ----------- 70.4/99.8 MB 3.5 MB/s eta 0:00:09\n",
      "   ---------------------------- ----------- 70.5/99.8 MB 3.4 MB/s eta 0:00:09\n",
      "   ---------------------------- ----------- 70.6/99.8 MB 3.4 MB/s eta 0:00:09\n",
      "   ---------------------------- ----------- 70.9/99.8 MB 3.4 MB/s eta 0:00:09\n",
      "   ---------------------------- ----------- 71.0/99.8 MB 3.4 MB/s eta 0:00:09\n",
      "   ---------------------------- ----------- 71.2/99.8 MB 3.4 MB/s eta 0:00:09\n",
      "   ---------------------------- ----------- 71.3/99.8 MB 3.4 MB/s eta 0:00:09\n",
      "   ---------------------------- ----------- 71.5/99.8 MB 3.5 MB/s eta 0:00:09\n",
      "   ---------------------------- ----------- 71.7/99.8 MB 3.4 MB/s eta 0:00:09\n",
      "   ---------------------------- ----------- 71.8/99.8 MB 3.4 MB/s eta 0:00:09\n",
      "   ---------------------------- ----------- 72.0/99.8 MB 3.4 MB/s eta 0:00:09\n",
      "   ---------------------------- ----------- 72.2/99.8 MB 3.5 MB/s eta 0:00:08\n",
      "   ----------------------------- ---------- 72.4/99.8 MB 3.4 MB/s eta 0:00:08\n",
      "   ----------------------------- ---------- 72.5/99.8 MB 3.4 MB/s eta 0:00:08\n",
      "   ----------------------------- ---------- 72.7/99.8 MB 3.5 MB/s eta 0:00:08\n",
      "   ----------------------------- ---------- 72.8/99.8 MB 3.4 MB/s eta 0:00:08\n",
      "   ----------------------------- ---------- 73.0/99.8 MB 3.4 MB/s eta 0:00:08\n",
      "   ----------------------------- ---------- 73.2/99.8 MB 3.5 MB/s eta 0:00:08\n",
      "   ----------------------------- ---------- 73.3/99.8 MB 3.5 MB/s eta 0:00:08\n",
      "   ----------------------------- ---------- 73.5/99.8 MB 3.4 MB/s eta 0:00:08\n",
      "   ----------------------------- ---------- 73.7/99.8 MB 3.5 MB/s eta 0:00:08\n",
      "   ----------------------------- ---------- 73.9/99.8 MB 3.4 MB/s eta 0:00:08\n",
      "   ----------------------------- ---------- 74.1/99.8 MB 3.5 MB/s eta 0:00:08\n",
      "   ----------------------------- ---------- 74.2/99.8 MB 3.5 MB/s eta 0:00:08\n",
      "   ----------------------------- ---------- 74.4/99.8 MB 3.5 MB/s eta 0:00:08\n",
      "   ----------------------------- ---------- 74.6/99.8 MB 3.5 MB/s eta 0:00:08\n",
      "   ----------------------------- ---------- 74.7/99.8 MB 3.5 MB/s eta 0:00:08\n",
      "   ------------------------------ --------- 74.9/99.8 MB 3.5 MB/s eta 0:00:08\n",
      "   ------------------------------ --------- 75.1/99.8 MB 3.5 MB/s eta 0:00:08\n",
      "   ------------------------------ --------- 75.2/99.8 MB 3.5 MB/s eta 0:00:08\n",
      "   ------------------------------ --------- 75.3/99.8 MB 3.4 MB/s eta 0:00:08\n",
      "   ------------------------------ --------- 75.5/99.8 MB 3.4 MB/s eta 0:00:08\n",
      "   ------------------------------ --------- 75.7/99.8 MB 3.4 MB/s eta 0:00:07\n",
      "   ------------------------------ --------- 75.8/99.8 MB 3.4 MB/s eta 0:00:07\n",
      "   ------------------------------ --------- 76.1/99.8 MB 3.4 MB/s eta 0:00:07\n",
      "   ------------------------------ --------- 76.3/99.8 MB 3.5 MB/s eta 0:00:07\n",
      "   ------------------------------ --------- 76.5/99.8 MB 3.4 MB/s eta 0:00:07\n",
      "   ------------------------------ --------- 76.6/99.8 MB 3.4 MB/s eta 0:00:07\n",
      "   ------------------------------ --------- 76.6/99.8 MB 3.4 MB/s eta 0:00:07\n",
      "   ------------------------------ --------- 76.8/99.8 MB 3.4 MB/s eta 0:00:07\n",
      "   ------------------------------ --------- 76.9/99.8 MB 3.4 MB/s eta 0:00:07\n",
      "   ------------------------------ --------- 77.1/99.8 MB 3.4 MB/s eta 0:00:07\n",
      "   ------------------------------ --------- 77.2/99.8 MB 3.3 MB/s eta 0:00:07\n",
      "   ------------------------------- -------- 77.4/99.8 MB 3.3 MB/s eta 0:00:07\n",
      "   ------------------------------- -------- 77.5/99.8 MB 3.3 MB/s eta 0:00:07\n",
      "   ------------------------------- -------- 77.7/99.8 MB 3.3 MB/s eta 0:00:07\n",
      "   ------------------------------- -------- 77.9/99.8 MB 3.3 MB/s eta 0:00:07\n",
      "   ------------------------------- -------- 78.0/99.8 MB 3.3 MB/s eta 0:00:07\n",
      "   ------------------------------- -------- 78.3/99.8 MB 3.6 MB/s eta 0:00:06\n",
      "   ------------------------------- -------- 78.6/99.8 MB 3.7 MB/s eta 0:00:06\n",
      "   ------------------------------- -------- 78.7/99.8 MB 3.7 MB/s eta 0:00:06\n",
      "   ------------------------------- -------- 78.9/99.8 MB 3.7 MB/s eta 0:00:06\n",
      "   ------------------------------- -------- 79.1/99.8 MB 3.7 MB/s eta 0:00:06\n",
      "   ------------------------------- -------- 79.3/99.8 MB 3.7 MB/s eta 0:00:06\n",
      "   ------------------------------- -------- 79.4/99.8 MB 3.7 MB/s eta 0:00:06\n",
      "   ------------------------------- -------- 79.5/99.8 MB 3.7 MB/s eta 0:00:06\n",
      "   ------------------------------- -------- 79.6/99.8 MB 3.6 MB/s eta 0:00:06\n",
      "   ------------------------------- -------- 79.8/99.8 MB 3.6 MB/s eta 0:00:06\n",
      "   -------------------------------- ------- 80.1/99.8 MB 3.7 MB/s eta 0:00:06\n",
      "   -------------------------------- ------- 80.3/99.8 MB 3.6 MB/s eta 0:00:06\n",
      "   -------------------------------- ------- 80.5/99.8 MB 3.7 MB/s eta 0:00:06\n",
      "   -------------------------------- ------- 80.7/99.8 MB 3.6 MB/s eta 0:00:06\n",
      "   -------------------------------- ------- 80.9/99.8 MB 3.7 MB/s eta 0:00:06\n",
      "   -------------------------------- ------- 81.0/99.8 MB 3.7 MB/s eta 0:00:06\n",
      "   -------------------------------- ------- 81.2/99.8 MB 3.7 MB/s eta 0:00:06\n",
      "   -------------------------------- ------- 81.4/99.8 MB 3.7 MB/s eta 0:00:06\n",
      "   -------------------------------- ------- 81.6/99.8 MB 3.7 MB/s eta 0:00:05\n",
      "   -------------------------------- ------- 81.8/99.8 MB 3.7 MB/s eta 0:00:05\n",
      "   -------------------------------- ------- 81.9/99.8 MB 3.6 MB/s eta 0:00:05\n",
      "   -------------------------------- ------- 82.1/99.8 MB 3.6 MB/s eta 0:00:05\n",
      "   -------------------------------- ------- 82.2/99.8 MB 3.6 MB/s eta 0:00:05\n",
      "   --------------------------------- ------ 82.4/99.8 MB 3.7 MB/s eta 0:00:05\n",
      "   --------------------------------- ------ 82.6/99.8 MB 3.6 MB/s eta 0:00:05\n",
      "   --------------------------------- ------ 82.7/99.8 MB 3.7 MB/s eta 0:00:05\n",
      "   --------------------------------- ------ 82.9/99.8 MB 3.6 MB/s eta 0:00:05\n",
      "   --------------------------------- ------ 83.1/99.8 MB 3.6 MB/s eta 0:00:05\n",
      "   --------------------------------- ------ 83.3/99.8 MB 3.6 MB/s eta 0:00:05\n",
      "   --------------------------------- ------ 83.3/99.8 MB 3.6 MB/s eta 0:00:05\n",
      "   --------------------------------- ------ 83.5/99.8 MB 3.6 MB/s eta 0:00:05\n",
      "   --------------------------------- ------ 83.7/99.8 MB 3.6 MB/s eta 0:00:05\n",
      "   --------------------------------- ------ 83.9/99.8 MB 3.6 MB/s eta 0:00:05\n",
      "   --------------------------------- ------ 84.1/99.8 MB 3.6 MB/s eta 0:00:05\n",
      "   --------------------------------- ------ 84.2/99.8 MB 3.6 MB/s eta 0:00:05\n",
      "   --------------------------------- ------ 84.4/99.8 MB 3.7 MB/s eta 0:00:05\n",
      "   --------------------------------- ------ 84.6/99.8 MB 3.7 MB/s eta 0:00:05\n",
      "   ---------------------------------- ----- 84.8/99.8 MB 3.7 MB/s eta 0:00:05\n",
      "   ---------------------------------- ----- 85.0/99.8 MB 3.7 MB/s eta 0:00:05\n",
      "   ---------------------------------- ----- 85.2/99.8 MB 3.7 MB/s eta 0:00:04\n",
      "   ---------------------------------- ----- 85.3/99.8 MB 3.7 MB/s eta 0:00:04\n",
      "   ---------------------------------- ----- 85.5/99.8 MB 3.7 MB/s eta 0:00:04\n",
      "   ---------------------------------- ----- 85.6/99.8 MB 3.7 MB/s eta 0:00:04\n",
      "   ---------------------------------- ----- 85.8/99.8 MB 3.7 MB/s eta 0:00:04\n",
      "   ---------------------------------- ----- 86.0/99.8 MB 3.6 MB/s eta 0:00:04\n",
      "   ---------------------------------- ----- 86.2/99.8 MB 3.7 MB/s eta 0:00:04\n",
      "   ---------------------------------- ----- 86.3/99.8 MB 3.7 MB/s eta 0:00:04\n",
      "   ---------------------------------- ----- 86.5/99.8 MB 3.7 MB/s eta 0:00:04\n",
      "   ---------------------------------- ----- 86.6/99.8 MB 3.7 MB/s eta 0:00:04\n",
      "   ---------------------------------- ----- 86.8/99.8 MB 3.7 MB/s eta 0:00:04\n",
      "   ---------------------------------- ----- 87.0/99.8 MB 3.7 MB/s eta 0:00:04\n",
      "   ---------------------------------- ----- 87.1/99.8 MB 3.8 MB/s eta 0:00:04\n",
      "   ----------------------------------- ---- 87.3/99.8 MB 3.8 MB/s eta 0:00:04\n",
      "   ----------------------------------- ---- 87.5/99.8 MB 3.8 MB/s eta 0:00:04\n",
      "   ----------------------------------- ---- 87.6/99.8 MB 3.8 MB/s eta 0:00:04\n",
      "   ----------------------------------- ---- 87.8/99.8 MB 3.8 MB/s eta 0:00:04\n",
      "   ----------------------------------- ---- 88.0/99.8 MB 3.8 MB/s eta 0:00:04\n",
      "   ----------------------------------- ---- 88.1/99.8 MB 3.8 MB/s eta 0:00:04\n",
      "   ----------------------------------- ---- 88.3/99.8 MB 3.8 MB/s eta 0:00:04\n",
      "   ----------------------------------- ---- 88.5/99.8 MB 3.8 MB/s eta 0:00:03\n",
      "   ----------------------------------- ---- 88.6/99.8 MB 3.7 MB/s eta 0:00:03\n",
      "   ----------------------------------- ---- 88.8/99.8 MB 3.7 MB/s eta 0:00:03\n",
      "   ----------------------------------- ---- 89.0/99.8 MB 3.7 MB/s eta 0:00:03\n",
      "   ----------------------------------- ---- 89.2/99.8 MB 3.7 MB/s eta 0:00:03\n",
      "   ----------------------------------- ---- 89.4/99.8 MB 3.7 MB/s eta 0:00:03\n",
      "   ----------------------------------- ---- 89.6/99.8 MB 3.7 MB/s eta 0:00:03\n",
      "   ----------------------------------- ---- 89.7/99.8 MB 3.7 MB/s eta 0:00:03\n",
      "   ------------------------------------ --- 89.9/99.8 MB 3.7 MB/s eta 0:00:03\n",
      "   ------------------------------------ --- 90.0/99.8 MB 3.7 MB/s eta 0:00:03\n",
      "   ------------------------------------ --- 90.3/99.8 MB 3.7 MB/s eta 0:00:03\n",
      "   ------------------------------------ --- 90.4/99.8 MB 3.7 MB/s eta 0:00:03\n",
      "   ------------------------------------ --- 90.7/99.8 MB 3.7 MB/s eta 0:00:03\n",
      "   ------------------------------------ --- 90.8/99.8 MB 3.7 MB/s eta 0:00:03\n",
      "   ------------------------------------ --- 90.9/99.8 MB 3.7 MB/s eta 0:00:03\n",
      "   ------------------------------------ --- 91.1/99.8 MB 3.6 MB/s eta 0:00:03\n",
      "   ------------------------------------ --- 91.3/99.8 MB 3.7 MB/s eta 0:00:03\n",
      "   ------------------------------------ --- 91.5/99.8 MB 3.7 MB/s eta 0:00:03\n",
      "   ------------------------------------ --- 91.7/99.8 MB 3.7 MB/s eta 0:00:03\n",
      "   ------------------------------------ --- 91.8/99.8 MB 3.6 MB/s eta 0:00:03\n",
      "   ------------------------------------ --- 92.0/99.8 MB 3.6 MB/s eta 0:00:03\n",
      "   ------------------------------------ --- 92.2/99.8 MB 3.6 MB/s eta 0:00:03\n",
      "   ------------------------------------- -- 92.4/99.8 MB 3.7 MB/s eta 0:00:03\n",
      "   ------------------------------------- -- 92.5/99.8 MB 3.7 MB/s eta 0:00:02\n",
      "   ------------------------------------- -- 92.7/99.8 MB 3.6 MB/s eta 0:00:02\n",
      "   ------------------------------------- -- 92.9/99.8 MB 3.6 MB/s eta 0:00:02\n",
      "   ------------------------------------- -- 93.1/99.8 MB 3.6 MB/s eta 0:00:02\n",
      "   ------------------------------------- -- 93.2/99.8 MB 3.6 MB/s eta 0:00:02\n",
      "   ------------------------------------- -- 93.3/99.8 MB 3.6 MB/s eta 0:00:02\n",
      "   ------------------------------------- -- 93.6/99.8 MB 3.7 MB/s eta 0:00:02\n",
      "   ------------------------------------- -- 93.7/99.8 MB 3.7 MB/s eta 0:00:02\n",
      "   ------------------------------------- -- 93.9/99.8 MB 3.7 MB/s eta 0:00:02\n",
      "   ------------------------------------- -- 94.0/99.8 MB 3.7 MB/s eta 0:00:02\n",
      "   ------------------------------------- -- 94.2/99.8 MB 3.6 MB/s eta 0:00:02\n",
      "   ------------------------------------- -- 94.4/99.8 MB 3.7 MB/s eta 0:00:02\n",
      "   ------------------------------------- -- 94.5/99.8 MB 3.7 MB/s eta 0:00:02\n",
      "   ------------------------------------- -- 94.7/99.8 MB 3.7 MB/s eta 0:00:02\n",
      "   -------------------------------------- - 94.9/99.8 MB 3.7 MB/s eta 0:00:02\n",
      "   -------------------------------------- - 95.1/99.8 MB 3.6 MB/s eta 0:00:02\n",
      "   -------------------------------------- - 95.2/99.8 MB 3.6 MB/s eta 0:00:02\n",
      "   -------------------------------------- - 95.4/99.8 MB 3.6 MB/s eta 0:00:02\n",
      "   -------------------------------------- - 95.5/99.8 MB 3.6 MB/s eta 0:00:02\n",
      "   -------------------------------------- - 95.7/99.8 MB 3.6 MB/s eta 0:00:02\n",
      "   -------------------------------------- - 95.9/99.8 MB 3.6 MB/s eta 0:00:02\n",
      "   -------------------------------------- - 96.1/99.8 MB 3.7 MB/s eta 0:00:02\n",
      "   -------------------------------------- - 96.3/99.8 MB 3.6 MB/s eta 0:00:01\n",
      "   -------------------------------------- - 96.4/99.8 MB 3.6 MB/s eta 0:00:01\n",
      "   -------------------------------------- - 96.6/99.8 MB 3.6 MB/s eta 0:00:01\n",
      "   -------------------------------------- - 96.7/99.8 MB 3.6 MB/s eta 0:00:01\n",
      "   -------------------------------------- - 97.0/99.8 MB 3.6 MB/s eta 0:00:01\n",
      "   -------------------------------------- - 97.1/99.8 MB 3.6 MB/s eta 0:00:01\n",
      "   ---------------------------------------  97.3/99.8 MB 3.6 MB/s eta 0:00:01\n",
      "   ---------------------------------------  97.5/99.8 MB 3.6 MB/s eta 0:00:01\n",
      "   ---------------------------------------  97.6/99.8 MB 3.7 MB/s eta 0:00:01\n",
      "   ---------------------------------------  97.8/99.8 MB 3.7 MB/s eta 0:00:01\n",
      "   ---------------------------------------  97.9/99.8 MB 3.7 MB/s eta 0:00:01\n",
      "   ---------------------------------------  98.1/99.8 MB 3.7 MB/s eta 0:00:01\n",
      "   ---------------------------------------  98.3/99.8 MB 3.7 MB/s eta 0:00:01\n",
      "   ---------------------------------------  98.5/99.8 MB 3.7 MB/s eta 0:00:01\n",
      "   ---------------------------------------  98.6/99.8 MB 3.7 MB/s eta 0:00:01\n",
      "   ---------------------------------------  98.8/99.8 MB 3.7 MB/s eta 0:00:01\n",
      "   ---------------------------------------  98.9/99.8 MB 3.7 MB/s eta 0:00:01\n",
      "   ---------------------------------------  99.1/99.8 MB 3.7 MB/s eta 0:00:01\n",
      "   ---------------------------------------  99.3/99.8 MB 3.6 MB/s eta 0:00:01\n",
      "   ---------------------------------------  99.5/99.8 MB 3.7 MB/s eta 0:00:01\n",
      "   ---------------------------------------  99.7/99.8 MB 3.7 MB/s eta 0:00:01\n",
      "   ---------------------------------------  99.7/99.8 MB 3.6 MB/s eta 0:00:01\n",
      "   ---------------------------------------  99.7/99.8 MB 3.6 MB/s eta 0:00:01\n",
      "   ---------------------------------------  99.7/99.8 MB 3.6 MB/s eta 0:00:01\n",
      "   ---------------------------------------  99.7/99.8 MB 3.6 MB/s eta 0:00:01\n",
      "   ---------------------------------------  99.7/99.8 MB 3.6 MB/s eta 0:00:01\n",
      "   ---------------------------------------  99.7/99.8 MB 3.6 MB/s eta 0:00:01\n",
      "   ---------------------------------------  99.7/99.8 MB 3.6 MB/s eta 0:00:01\n",
      "   ---------------------------------------  99.7/99.8 MB 3.6 MB/s eta 0:00:01\n",
      "   ---------------------------------------  99.7/99.8 MB 3.6 MB/s eta 0:00:01\n",
      "   ---------------------------------------- 99.8/99.8 MB 3.2 MB/s eta 0:00:00\n",
      "Installing collected packages: xgboost\n",
      "Successfully installed xgboost-2.0.3\n"
     ]
    }
   ],
   "source": [
    "! pip install xgboost"
   ]
  },
  {
   "cell_type": "code",
   "execution_count": 65,
   "metadata": {
    "colab": {
     "base_uri": "https://localhost:8080/"
    },
    "id": "-wnd_GlXa8Mj",
    "outputId": "c8d69335-6d2a-4cab-dbbd-11ddc2e2da28"
   },
   "outputs": [
    {
     "data": {
      "text/html": [
       "<style>#sk-container-id-4 {color: black;background-color: white;}#sk-container-id-4 pre{padding: 0;}#sk-container-id-4 div.sk-toggleable {background-color: white;}#sk-container-id-4 label.sk-toggleable__label {cursor: pointer;display: block;width: 100%;margin-bottom: 0;padding: 0.3em;box-sizing: border-box;text-align: center;}#sk-container-id-4 label.sk-toggleable__label-arrow:before {content: \"▸\";float: left;margin-right: 0.25em;color: #696969;}#sk-container-id-4 label.sk-toggleable__label-arrow:hover:before {color: black;}#sk-container-id-4 div.sk-estimator:hover label.sk-toggleable__label-arrow:before {color: black;}#sk-container-id-4 div.sk-toggleable__content {max-height: 0;max-width: 0;overflow: hidden;text-align: left;background-color: #f0f8ff;}#sk-container-id-4 div.sk-toggleable__content pre {margin: 0.2em;color: black;border-radius: 0.25em;background-color: #f0f8ff;}#sk-container-id-4 input.sk-toggleable__control:checked~div.sk-toggleable__content {max-height: 200px;max-width: 100%;overflow: auto;}#sk-container-id-4 input.sk-toggleable__control:checked~label.sk-toggleable__label-arrow:before {content: \"▾\";}#sk-container-id-4 div.sk-estimator input.sk-toggleable__control:checked~label.sk-toggleable__label {background-color: #d4ebff;}#sk-container-id-4 div.sk-label input.sk-toggleable__control:checked~label.sk-toggleable__label {background-color: #d4ebff;}#sk-container-id-4 input.sk-hidden--visually {border: 0;clip: rect(1px 1px 1px 1px);clip: rect(1px, 1px, 1px, 1px);height: 1px;margin: -1px;overflow: hidden;padding: 0;position: absolute;width: 1px;}#sk-container-id-4 div.sk-estimator {font-family: monospace;background-color: #f0f8ff;border: 1px dotted black;border-radius: 0.25em;box-sizing: border-box;margin-bottom: 0.5em;}#sk-container-id-4 div.sk-estimator:hover {background-color: #d4ebff;}#sk-container-id-4 div.sk-parallel-item::after {content: \"\";width: 100%;border-bottom: 1px solid gray;flex-grow: 1;}#sk-container-id-4 div.sk-label:hover label.sk-toggleable__label {background-color: #d4ebff;}#sk-container-id-4 div.sk-serial::before {content: \"\";position: absolute;border-left: 1px solid gray;box-sizing: border-box;top: 0;bottom: 0;left: 50%;z-index: 0;}#sk-container-id-4 div.sk-serial {display: flex;flex-direction: column;align-items: center;background-color: white;padding-right: 0.2em;padding-left: 0.2em;position: relative;}#sk-container-id-4 div.sk-item {position: relative;z-index: 1;}#sk-container-id-4 div.sk-parallel {display: flex;align-items: stretch;justify-content: center;background-color: white;position: relative;}#sk-container-id-4 div.sk-item::before, #sk-container-id-4 div.sk-parallel-item::before {content: \"\";position: absolute;border-left: 1px solid gray;box-sizing: border-box;top: 0;bottom: 0;left: 50%;z-index: -1;}#sk-container-id-4 div.sk-parallel-item {display: flex;flex-direction: column;z-index: 1;position: relative;background-color: white;}#sk-container-id-4 div.sk-parallel-item:first-child::after {align-self: flex-end;width: 50%;}#sk-container-id-4 div.sk-parallel-item:last-child::after {align-self: flex-start;width: 50%;}#sk-container-id-4 div.sk-parallel-item:only-child::after {width: 0;}#sk-container-id-4 div.sk-dashed-wrapped {border: 1px dashed gray;margin: 0 0.4em 0.5em 0.4em;box-sizing: border-box;padding-bottom: 0.4em;background-color: white;}#sk-container-id-4 div.sk-label label {font-family: monospace;font-weight: bold;display: inline-block;line-height: 1.2em;}#sk-container-id-4 div.sk-label-container {text-align: center;}#sk-container-id-4 div.sk-container {/* jupyter's `normalize.less` sets `[hidden] { display: none; }` but bootstrap.min.css set `[hidden] { display: none !important; }` so we also need the `!important` here to be able to override the default hidden behavior on the sphinx rendered scikit-learn.org. See: https://github.com/scikit-learn/scikit-learn/issues/21755 */display: inline-block !important;position: relative;}#sk-container-id-4 div.sk-text-repr-fallback {display: none;}</style><div id=\"sk-container-id-4\" class=\"sk-top-container\"><div class=\"sk-text-repr-fallback\"><pre>XGBClassifier(base_score=None, booster=None, callbacks=None,\n",
       "              colsample_bylevel=None, colsample_bynode=None,\n",
       "              colsample_bytree=None, device=None, early_stopping_rounds=None,\n",
       "              enable_categorical=False, eval_metric=None, feature_types=None,\n",
       "              gamma=None, grow_policy=None, importance_type=None,\n",
       "              interaction_constraints=None, learning_rate=None, max_bin=None,\n",
       "              max_cat_threshold=None, max_cat_to_onehot=None,\n",
       "              max_delta_step=None, max_depth=None, max_leaves=None,\n",
       "              min_child_weight=None, missing=nan, monotone_constraints=None,\n",
       "              multi_strategy=None, n_estimators=None, n_jobs=None,\n",
       "              num_parallel_tree=None, random_state=0, ...)</pre><b>In a Jupyter environment, please rerun this cell to show the HTML representation or trust the notebook. <br />On GitHub, the HTML representation is unable to render, please try loading this page with nbviewer.org.</b></div><div class=\"sk-container\" hidden><div class=\"sk-item\"><div class=\"sk-estimator sk-toggleable\"><input class=\"sk-toggleable__control sk-hidden--visually\" id=\"sk-estimator-id-4\" type=\"checkbox\" checked><label for=\"sk-estimator-id-4\" class=\"sk-toggleable__label sk-toggleable__label-arrow\">XGBClassifier</label><div class=\"sk-toggleable__content\"><pre>XGBClassifier(base_score=None, booster=None, callbacks=None,\n",
       "              colsample_bylevel=None, colsample_bynode=None,\n",
       "              colsample_bytree=None, device=None, early_stopping_rounds=None,\n",
       "              enable_categorical=False, eval_metric=None, feature_types=None,\n",
       "              gamma=None, grow_policy=None, importance_type=None,\n",
       "              interaction_constraints=None, learning_rate=None, max_bin=None,\n",
       "              max_cat_threshold=None, max_cat_to_onehot=None,\n",
       "              max_delta_step=None, max_depth=None, max_leaves=None,\n",
       "              min_child_weight=None, missing=nan, monotone_constraints=None,\n",
       "              multi_strategy=None, n_estimators=None, n_jobs=None,\n",
       "              num_parallel_tree=None, random_state=0, ...)</pre></div></div></div></div></div>"
      ],
      "text/plain": [
       "XGBClassifier(base_score=None, booster=None, callbacks=None,\n",
       "              colsample_bylevel=None, colsample_bynode=None,\n",
       "              colsample_bytree=None, device=None, early_stopping_rounds=None,\n",
       "              enable_categorical=False, eval_metric=None, feature_types=None,\n",
       "              gamma=None, grow_policy=None, importance_type=None,\n",
       "              interaction_constraints=None, learning_rate=None, max_bin=None,\n",
       "              max_cat_threshold=None, max_cat_to_onehot=None,\n",
       "              max_delta_step=None, max_depth=None, max_leaves=None,\n",
       "              min_child_weight=None, missing=nan, monotone_constraints=None,\n",
       "              multi_strategy=None, n_estimators=None, n_jobs=None,\n",
       "              num_parallel_tree=None, random_state=0, ...)"
      ]
     },
     "execution_count": 65,
     "metadata": {},
     "output_type": "execute_result"
    }
   ],
   "source": [
    "from xgboost import XGBClassifier\n",
    "classifier_xgb = XGBClassifier(random_state=0)\n",
    "classifier_xgb.fit(x_train, y_train)"
   ]
  },
  {
   "cell_type": "code",
   "execution_count": 66,
   "metadata": {
    "id": "yHkalQf3bOkE"
   },
   "outputs": [],
   "source": [
    "y_pred = classifier_xgb.predict(x_test)"
   ]
  },
  {
   "cell_type": "code",
   "execution_count": 67,
   "metadata": {
    "colab": {
     "base_uri": "https://localhost:8080/"
    },
    "id": "rzj7JGwYbQVB",
    "outputId": "5b3c3e55-38aa-485e-dbef-3cce8560941c"
   },
   "outputs": [
    {
     "data": {
      "text/plain": [
       "0.6303740926856505"
      ]
     },
     "execution_count": 67,
     "metadata": {},
     "output_type": "execute_result"
    }
   ],
   "source": [
    "from sklearn.metrics import confusion_matrix, accuracy_score\n",
    "accuracy_score(y_test, y_pred)"
   ]
  },
  {
   "cell_type": "code",
   "execution_count": 68,
   "metadata": {
    "colab": {
     "base_uri": "https://localhost:8080/"
    },
    "id": "QWIfLIY3bQco",
    "outputId": "6e073d6e-235e-4851-e357-56033e083302"
   },
   "outputs": [
    {
     "data": {
      "text/plain": [
       "array([[ 932,  722],\n",
       "       [ 602, 1326]], dtype=int64)"
      ]
     },
     "execution_count": 68,
     "metadata": {},
     "output_type": "execute_result"
    }
   ],
   "source": [
    "confusion_matrix(y_test, y_pred)"
   ]
  },
  {
   "cell_type": "markdown",
   "metadata": {
    "id": "7faIZga0bs51"
   },
   "source": [
    "# Part 3: Applying Randomized Search to find the best parameters"
   ]
  },
  {
   "cell_type": "code",
   "execution_count": 69,
   "metadata": {
    "id": "UacBWPfIbtqy"
   },
   "outputs": [],
   "source": [
    "from sklearn.model_selection import RandomizedSearchCV"
   ]
  },
  {
   "cell_type": "code",
   "execution_count": 70,
   "metadata": {
    "id": "AxGlD7e3cvtW"
   },
   "outputs": [],
   "source": [
    "parameters = {\n",
    "    'learning_rate':[0.05, 0.10, 0.15, 0.20, 0.25, 0.30],\n",
    "    'max_depth':[3, 4, 5, 6, 8, 10, 12, 15],\n",
    "    'min_child_weight':[1, 3, 5, 7],\n",
    "    'gamma':[0.00, 0.1, 0.2, 0.3, 0.4],\n",
    "    'colsample_bytree':[0.3, 0.4, 0.5, 0.7],\n",
    "    'n_estimators':[100, 200, 500],\n",
    "    'subsample':[0.5, 0.7, 1.0]\n",
    "}"
   ]
  },
  {
   "cell_type": "code",
   "execution_count": 71,
   "metadata": {
    "colab": {
     "base_uri": "https://localhost:8080/"
    },
    "id": "n5b1D8gdd-VD",
    "outputId": "ed3294bf-c768-41de-f6b0-d2947f421d9e"
   },
   "outputs": [
    {
     "data": {
      "text/plain": [
       "{'learning_rate': [0.05, 0.1, 0.15, 0.2, 0.25, 0.3],\n",
       " 'max_depth': [3, 4, 5, 6, 8, 10, 12, 15],\n",
       " 'min_child_weight': [1, 3, 5, 7],\n",
       " 'gamma': [0.0, 0.1, 0.2, 0.3, 0.4],\n",
       " 'colsample_bytree': [0.3, 0.4, 0.5, 0.7],\n",
       " 'n_estimators': [100, 200, 500],\n",
       " 'subsample': [0.5, 0.7, 1.0]}"
      ]
     },
     "execution_count": 71,
     "metadata": {},
     "output_type": "execute_result"
    }
   ],
   "source": [
    "parameters"
   ]
  },
  {
   "cell_type": "code",
   "execution_count": 72,
   "metadata": {
    "id": "gj6WatFUeE9R"
   },
   "outputs": [],
   "source": [
    "random_cv = RandomizedSearchCV(estimator=classifier_xgb, param_distributions=parameters, n_iter=5,\n",
    "                               scoring='roc_auc', n_jobs=-1, cv=5, verbose=3)"
   ]
  },
  {
   "cell_type": "code",
   "execution_count": 73,
   "metadata": {
    "colab": {
     "base_uri": "https://localhost:8080/"
    },
    "id": "7TuTK2t3efU-",
    "outputId": "de4e5f7e-2211-4c07-ad70-56fe9a8280ab"
   },
   "outputs": [
    {
     "name": "stdout",
     "output_type": "stream",
     "text": [
      "Fitting 5 folds for each of 5 candidates, totalling 25 fits\n"
     ]
    },
    {
     "data": {
      "text/html": [
       "<style>#sk-container-id-5 {color: black;background-color: white;}#sk-container-id-5 pre{padding: 0;}#sk-container-id-5 div.sk-toggleable {background-color: white;}#sk-container-id-5 label.sk-toggleable__label {cursor: pointer;display: block;width: 100%;margin-bottom: 0;padding: 0.3em;box-sizing: border-box;text-align: center;}#sk-container-id-5 label.sk-toggleable__label-arrow:before {content: \"▸\";float: left;margin-right: 0.25em;color: #696969;}#sk-container-id-5 label.sk-toggleable__label-arrow:hover:before {color: black;}#sk-container-id-5 div.sk-estimator:hover label.sk-toggleable__label-arrow:before {color: black;}#sk-container-id-5 div.sk-toggleable__content {max-height: 0;max-width: 0;overflow: hidden;text-align: left;background-color: #f0f8ff;}#sk-container-id-5 div.sk-toggleable__content pre {margin: 0.2em;color: black;border-radius: 0.25em;background-color: #f0f8ff;}#sk-container-id-5 input.sk-toggleable__control:checked~div.sk-toggleable__content {max-height: 200px;max-width: 100%;overflow: auto;}#sk-container-id-5 input.sk-toggleable__control:checked~label.sk-toggleable__label-arrow:before {content: \"▾\";}#sk-container-id-5 div.sk-estimator input.sk-toggleable__control:checked~label.sk-toggleable__label {background-color: #d4ebff;}#sk-container-id-5 div.sk-label input.sk-toggleable__control:checked~label.sk-toggleable__label {background-color: #d4ebff;}#sk-container-id-5 input.sk-hidden--visually {border: 0;clip: rect(1px 1px 1px 1px);clip: rect(1px, 1px, 1px, 1px);height: 1px;margin: -1px;overflow: hidden;padding: 0;position: absolute;width: 1px;}#sk-container-id-5 div.sk-estimator {font-family: monospace;background-color: #f0f8ff;border: 1px dotted black;border-radius: 0.25em;box-sizing: border-box;margin-bottom: 0.5em;}#sk-container-id-5 div.sk-estimator:hover {background-color: #d4ebff;}#sk-container-id-5 div.sk-parallel-item::after {content: \"\";width: 100%;border-bottom: 1px solid gray;flex-grow: 1;}#sk-container-id-5 div.sk-label:hover label.sk-toggleable__label {background-color: #d4ebff;}#sk-container-id-5 div.sk-serial::before {content: \"\";position: absolute;border-left: 1px solid gray;box-sizing: border-box;top: 0;bottom: 0;left: 50%;z-index: 0;}#sk-container-id-5 div.sk-serial {display: flex;flex-direction: column;align-items: center;background-color: white;padding-right: 0.2em;padding-left: 0.2em;position: relative;}#sk-container-id-5 div.sk-item {position: relative;z-index: 1;}#sk-container-id-5 div.sk-parallel {display: flex;align-items: stretch;justify-content: center;background-color: white;position: relative;}#sk-container-id-5 div.sk-item::before, #sk-container-id-5 div.sk-parallel-item::before {content: \"\";position: absolute;border-left: 1px solid gray;box-sizing: border-box;top: 0;bottom: 0;left: 50%;z-index: -1;}#sk-container-id-5 div.sk-parallel-item {display: flex;flex-direction: column;z-index: 1;position: relative;background-color: white;}#sk-container-id-5 div.sk-parallel-item:first-child::after {align-self: flex-end;width: 50%;}#sk-container-id-5 div.sk-parallel-item:last-child::after {align-self: flex-start;width: 50%;}#sk-container-id-5 div.sk-parallel-item:only-child::after {width: 0;}#sk-container-id-5 div.sk-dashed-wrapped {border: 1px dashed gray;margin: 0 0.4em 0.5em 0.4em;box-sizing: border-box;padding-bottom: 0.4em;background-color: white;}#sk-container-id-5 div.sk-label label {font-family: monospace;font-weight: bold;display: inline-block;line-height: 1.2em;}#sk-container-id-5 div.sk-label-container {text-align: center;}#sk-container-id-5 div.sk-container {/* jupyter's `normalize.less` sets `[hidden] { display: none; }` but bootstrap.min.css set `[hidden] { display: none !important; }` so we also need the `!important` here to be able to override the default hidden behavior on the sphinx rendered scikit-learn.org. See: https://github.com/scikit-learn/scikit-learn/issues/21755 */display: inline-block !important;position: relative;}#sk-container-id-5 div.sk-text-repr-fallback {display: none;}</style><div id=\"sk-container-id-5\" class=\"sk-top-container\"><div class=\"sk-text-repr-fallback\"><pre>RandomizedSearchCV(cv=5,\n",
       "                   estimator=XGBClassifier(base_score=None, booster=None,\n",
       "                                           callbacks=None,\n",
       "                                           colsample_bylevel=None,\n",
       "                                           colsample_bynode=None,\n",
       "                                           colsample_bytree=None, device=None,\n",
       "                                           early_stopping_rounds=None,\n",
       "                                           enable_categorical=False,\n",
       "                                           eval_metric=None, feature_types=None,\n",
       "                                           gamma=None, grow_policy=None,\n",
       "                                           importance_type=None,\n",
       "                                           interaction_constraints=None,\n",
       "                                           learning_rate...\n",
       "                                           n_estimators=None, n_jobs=None,\n",
       "                                           num_parallel_tree=None,\n",
       "                                           random_state=0, ...),\n",
       "                   n_iter=5, n_jobs=-1,\n",
       "                   param_distributions={&#x27;colsample_bytree&#x27;: [0.3, 0.4, 0.5,\n",
       "                                                             0.7],\n",
       "                                        &#x27;gamma&#x27;: [0.0, 0.1, 0.2, 0.3, 0.4],\n",
       "                                        &#x27;learning_rate&#x27;: [0.05, 0.1, 0.15, 0.2,\n",
       "                                                          0.25, 0.3],\n",
       "                                        &#x27;max_depth&#x27;: [3, 4, 5, 6, 8, 10, 12,\n",
       "                                                      15],\n",
       "                                        &#x27;min_child_weight&#x27;: [1, 3, 5, 7],\n",
       "                                        &#x27;n_estimators&#x27;: [100, 200, 500],\n",
       "                                        &#x27;subsample&#x27;: [0.5, 0.7, 1.0]},\n",
       "                   scoring=&#x27;roc_auc&#x27;, verbose=3)</pre><b>In a Jupyter environment, please rerun this cell to show the HTML representation or trust the notebook. <br />On GitHub, the HTML representation is unable to render, please try loading this page with nbviewer.org.</b></div><div class=\"sk-container\" hidden><div class=\"sk-item sk-dashed-wrapped\"><div class=\"sk-label-container\"><div class=\"sk-label sk-toggleable\"><input class=\"sk-toggleable__control sk-hidden--visually\" id=\"sk-estimator-id-5\" type=\"checkbox\" ><label for=\"sk-estimator-id-5\" class=\"sk-toggleable__label sk-toggleable__label-arrow\">RandomizedSearchCV</label><div class=\"sk-toggleable__content\"><pre>RandomizedSearchCV(cv=5,\n",
       "                   estimator=XGBClassifier(base_score=None, booster=None,\n",
       "                                           callbacks=None,\n",
       "                                           colsample_bylevel=None,\n",
       "                                           colsample_bynode=None,\n",
       "                                           colsample_bytree=None, device=None,\n",
       "                                           early_stopping_rounds=None,\n",
       "                                           enable_categorical=False,\n",
       "                                           eval_metric=None, feature_types=None,\n",
       "                                           gamma=None, grow_policy=None,\n",
       "                                           importance_type=None,\n",
       "                                           interaction_constraints=None,\n",
       "                                           learning_rate...\n",
       "                                           n_estimators=None, n_jobs=None,\n",
       "                                           num_parallel_tree=None,\n",
       "                                           random_state=0, ...),\n",
       "                   n_iter=5, n_jobs=-1,\n",
       "                   param_distributions={&#x27;colsample_bytree&#x27;: [0.3, 0.4, 0.5,\n",
       "                                                             0.7],\n",
       "                                        &#x27;gamma&#x27;: [0.0, 0.1, 0.2, 0.3, 0.4],\n",
       "                                        &#x27;learning_rate&#x27;: [0.05, 0.1, 0.15, 0.2,\n",
       "                                                          0.25, 0.3],\n",
       "                                        &#x27;max_depth&#x27;: [3, 4, 5, 6, 8, 10, 12,\n",
       "                                                      15],\n",
       "                                        &#x27;min_child_weight&#x27;: [1, 3, 5, 7],\n",
       "                                        &#x27;n_estimators&#x27;: [100, 200, 500],\n",
       "                                        &#x27;subsample&#x27;: [0.5, 0.7, 1.0]},\n",
       "                   scoring=&#x27;roc_auc&#x27;, verbose=3)</pre></div></div></div><div class=\"sk-parallel\"><div class=\"sk-parallel-item\"><div class=\"sk-item\"><div class=\"sk-label-container\"><div class=\"sk-label sk-toggleable\"><input class=\"sk-toggleable__control sk-hidden--visually\" id=\"sk-estimator-id-6\" type=\"checkbox\" ><label for=\"sk-estimator-id-6\" class=\"sk-toggleable__label sk-toggleable__label-arrow\">estimator: XGBClassifier</label><div class=\"sk-toggleable__content\"><pre>XGBClassifier(base_score=None, booster=None, callbacks=None,\n",
       "              colsample_bylevel=None, colsample_bynode=None,\n",
       "              colsample_bytree=None, device=None, early_stopping_rounds=None,\n",
       "              enable_categorical=False, eval_metric=None, feature_types=None,\n",
       "              gamma=None, grow_policy=None, importance_type=None,\n",
       "              interaction_constraints=None, learning_rate=None, max_bin=None,\n",
       "              max_cat_threshold=None, max_cat_to_onehot=None,\n",
       "              max_delta_step=None, max_depth=None, max_leaves=None,\n",
       "              min_child_weight=None, missing=nan, monotone_constraints=None,\n",
       "              multi_strategy=None, n_estimators=None, n_jobs=None,\n",
       "              num_parallel_tree=None, random_state=0, ...)</pre></div></div></div><div class=\"sk-serial\"><div class=\"sk-item\"><div class=\"sk-estimator sk-toggleable\"><input class=\"sk-toggleable__control sk-hidden--visually\" id=\"sk-estimator-id-7\" type=\"checkbox\" ><label for=\"sk-estimator-id-7\" class=\"sk-toggleable__label sk-toggleable__label-arrow\">XGBClassifier</label><div class=\"sk-toggleable__content\"><pre>XGBClassifier(base_score=None, booster=None, callbacks=None,\n",
       "              colsample_bylevel=None, colsample_bynode=None,\n",
       "              colsample_bytree=None, device=None, early_stopping_rounds=None,\n",
       "              enable_categorical=False, eval_metric=None, feature_types=None,\n",
       "              gamma=None, grow_policy=None, importance_type=None,\n",
       "              interaction_constraints=None, learning_rate=None, max_bin=None,\n",
       "              max_cat_threshold=None, max_cat_to_onehot=None,\n",
       "              max_delta_step=None, max_depth=None, max_leaves=None,\n",
       "              min_child_weight=None, missing=nan, monotone_constraints=None,\n",
       "              multi_strategy=None, n_estimators=None, n_jobs=None,\n",
       "              num_parallel_tree=None, random_state=0, ...)</pre></div></div></div></div></div></div></div></div></div></div>"
      ],
      "text/plain": [
       "RandomizedSearchCV(cv=5,\n",
       "                   estimator=XGBClassifier(base_score=None, booster=None,\n",
       "                                           callbacks=None,\n",
       "                                           colsample_bylevel=None,\n",
       "                                           colsample_bynode=None,\n",
       "                                           colsample_bytree=None, device=None,\n",
       "                                           early_stopping_rounds=None,\n",
       "                                           enable_categorical=False,\n",
       "                                           eval_metric=None, feature_types=None,\n",
       "                                           gamma=None, grow_policy=None,\n",
       "                                           importance_type=None,\n",
       "                                           interaction_constraints=None,\n",
       "                                           learning_rate...\n",
       "                                           n_estimators=None, n_jobs=None,\n",
       "                                           num_parallel_tree=None,\n",
       "                                           random_state=0, ...),\n",
       "                   n_iter=5, n_jobs=-1,\n",
       "                   param_distributions={'colsample_bytree': [0.3, 0.4, 0.5,\n",
       "                                                             0.7],\n",
       "                                        'gamma': [0.0, 0.1, 0.2, 0.3, 0.4],\n",
       "                                        'learning_rate': [0.05, 0.1, 0.15, 0.2,\n",
       "                                                          0.25, 0.3],\n",
       "                                        'max_depth': [3, 4, 5, 6, 8, 10, 12,\n",
       "                                                      15],\n",
       "                                        'min_child_weight': [1, 3, 5, 7],\n",
       "                                        'n_estimators': [100, 200, 500],\n",
       "                                        'subsample': [0.5, 0.7, 1.0]},\n",
       "                   scoring='roc_auc', verbose=3)"
      ]
     },
     "execution_count": 73,
     "metadata": {},
     "output_type": "execute_result"
    }
   ],
   "source": [
    "random_cv.fit(x_train, y_train)"
   ]
  },
  {
   "cell_type": "code",
   "execution_count": 74,
   "metadata": {
    "colab": {
     "base_uri": "https://localhost:8080/"
    },
    "id": "1EuuQWxyelJw",
    "outputId": "39da158a-9105-4451-bc0c-1f7e829652cb"
   },
   "outputs": [
    {
     "data": {
      "text/html": [
       "<style>#sk-container-id-6 {color: black;background-color: white;}#sk-container-id-6 pre{padding: 0;}#sk-container-id-6 div.sk-toggleable {background-color: white;}#sk-container-id-6 label.sk-toggleable__label {cursor: pointer;display: block;width: 100%;margin-bottom: 0;padding: 0.3em;box-sizing: border-box;text-align: center;}#sk-container-id-6 label.sk-toggleable__label-arrow:before {content: \"▸\";float: left;margin-right: 0.25em;color: #696969;}#sk-container-id-6 label.sk-toggleable__label-arrow:hover:before {color: black;}#sk-container-id-6 div.sk-estimator:hover label.sk-toggleable__label-arrow:before {color: black;}#sk-container-id-6 div.sk-toggleable__content {max-height: 0;max-width: 0;overflow: hidden;text-align: left;background-color: #f0f8ff;}#sk-container-id-6 div.sk-toggleable__content pre {margin: 0.2em;color: black;border-radius: 0.25em;background-color: #f0f8ff;}#sk-container-id-6 input.sk-toggleable__control:checked~div.sk-toggleable__content {max-height: 200px;max-width: 100%;overflow: auto;}#sk-container-id-6 input.sk-toggleable__control:checked~label.sk-toggleable__label-arrow:before {content: \"▾\";}#sk-container-id-6 div.sk-estimator input.sk-toggleable__control:checked~label.sk-toggleable__label {background-color: #d4ebff;}#sk-container-id-6 div.sk-label input.sk-toggleable__control:checked~label.sk-toggleable__label {background-color: #d4ebff;}#sk-container-id-6 input.sk-hidden--visually {border: 0;clip: rect(1px 1px 1px 1px);clip: rect(1px, 1px, 1px, 1px);height: 1px;margin: -1px;overflow: hidden;padding: 0;position: absolute;width: 1px;}#sk-container-id-6 div.sk-estimator {font-family: monospace;background-color: #f0f8ff;border: 1px dotted black;border-radius: 0.25em;box-sizing: border-box;margin-bottom: 0.5em;}#sk-container-id-6 div.sk-estimator:hover {background-color: #d4ebff;}#sk-container-id-6 div.sk-parallel-item::after {content: \"\";width: 100%;border-bottom: 1px solid gray;flex-grow: 1;}#sk-container-id-6 div.sk-label:hover label.sk-toggleable__label {background-color: #d4ebff;}#sk-container-id-6 div.sk-serial::before {content: \"\";position: absolute;border-left: 1px solid gray;box-sizing: border-box;top: 0;bottom: 0;left: 50%;z-index: 0;}#sk-container-id-6 div.sk-serial {display: flex;flex-direction: column;align-items: center;background-color: white;padding-right: 0.2em;padding-left: 0.2em;position: relative;}#sk-container-id-6 div.sk-item {position: relative;z-index: 1;}#sk-container-id-6 div.sk-parallel {display: flex;align-items: stretch;justify-content: center;background-color: white;position: relative;}#sk-container-id-6 div.sk-item::before, #sk-container-id-6 div.sk-parallel-item::before {content: \"\";position: absolute;border-left: 1px solid gray;box-sizing: border-box;top: 0;bottom: 0;left: 50%;z-index: -1;}#sk-container-id-6 div.sk-parallel-item {display: flex;flex-direction: column;z-index: 1;position: relative;background-color: white;}#sk-container-id-6 div.sk-parallel-item:first-child::after {align-self: flex-end;width: 50%;}#sk-container-id-6 div.sk-parallel-item:last-child::after {align-self: flex-start;width: 50%;}#sk-container-id-6 div.sk-parallel-item:only-child::after {width: 0;}#sk-container-id-6 div.sk-dashed-wrapped {border: 1px dashed gray;margin: 0 0.4em 0.5em 0.4em;box-sizing: border-box;padding-bottom: 0.4em;background-color: white;}#sk-container-id-6 div.sk-label label {font-family: monospace;font-weight: bold;display: inline-block;line-height: 1.2em;}#sk-container-id-6 div.sk-label-container {text-align: center;}#sk-container-id-6 div.sk-container {/* jupyter's `normalize.less` sets `[hidden] { display: none; }` but bootstrap.min.css set `[hidden] { display: none !important; }` so we also need the `!important` here to be able to override the default hidden behavior on the sphinx rendered scikit-learn.org. See: https://github.com/scikit-learn/scikit-learn/issues/21755 */display: inline-block !important;position: relative;}#sk-container-id-6 div.sk-text-repr-fallback {display: none;}</style><div id=\"sk-container-id-6\" class=\"sk-top-container\"><div class=\"sk-text-repr-fallback\"><pre>XGBClassifier(base_score=None, booster=None, callbacks=None,\n",
       "              colsample_bylevel=None, colsample_bynode=None,\n",
       "              colsample_bytree=0.7, device=None, early_stopping_rounds=None,\n",
       "              enable_categorical=False, eval_metric=None, feature_types=None,\n",
       "              gamma=0.4, grow_policy=None, importance_type=None,\n",
       "              interaction_constraints=None, learning_rate=0.15, max_bin=None,\n",
       "              max_cat_threshold=None, max_cat_to_onehot=None,\n",
       "              max_delta_step=None, max_depth=4, max_leaves=None,\n",
       "              min_child_weight=7, missing=nan, monotone_constraints=None,\n",
       "              multi_strategy=None, n_estimators=500, n_jobs=None,\n",
       "              num_parallel_tree=None, random_state=0, ...)</pre><b>In a Jupyter environment, please rerun this cell to show the HTML representation or trust the notebook. <br />On GitHub, the HTML representation is unable to render, please try loading this page with nbviewer.org.</b></div><div class=\"sk-container\" hidden><div class=\"sk-item\"><div class=\"sk-estimator sk-toggleable\"><input class=\"sk-toggleable__control sk-hidden--visually\" id=\"sk-estimator-id-8\" type=\"checkbox\" checked><label for=\"sk-estimator-id-8\" class=\"sk-toggleable__label sk-toggleable__label-arrow\">XGBClassifier</label><div class=\"sk-toggleable__content\"><pre>XGBClassifier(base_score=None, booster=None, callbacks=None,\n",
       "              colsample_bylevel=None, colsample_bynode=None,\n",
       "              colsample_bytree=0.7, device=None, early_stopping_rounds=None,\n",
       "              enable_categorical=False, eval_metric=None, feature_types=None,\n",
       "              gamma=0.4, grow_policy=None, importance_type=None,\n",
       "              interaction_constraints=None, learning_rate=0.15, max_bin=None,\n",
       "              max_cat_threshold=None, max_cat_to_onehot=None,\n",
       "              max_delta_step=None, max_depth=4, max_leaves=None,\n",
       "              min_child_weight=7, missing=nan, monotone_constraints=None,\n",
       "              multi_strategy=None, n_estimators=500, n_jobs=None,\n",
       "              num_parallel_tree=None, random_state=0, ...)</pre></div></div></div></div></div>"
      ],
      "text/plain": [
       "XGBClassifier(base_score=None, booster=None, callbacks=None,\n",
       "              colsample_bylevel=None, colsample_bynode=None,\n",
       "              colsample_bytree=0.7, device=None, early_stopping_rounds=None,\n",
       "              enable_categorical=False, eval_metric=None, feature_types=None,\n",
       "              gamma=0.4, grow_policy=None, importance_type=None,\n",
       "              interaction_constraints=None, learning_rate=0.15, max_bin=None,\n",
       "              max_cat_threshold=None, max_cat_to_onehot=None,\n",
       "              max_delta_step=None, max_depth=4, max_leaves=None,\n",
       "              min_child_weight=7, missing=nan, monotone_constraints=None,\n",
       "              multi_strategy=None, n_estimators=500, n_jobs=None,\n",
       "              num_parallel_tree=None, random_state=0, ...)"
      ]
     },
     "execution_count": 74,
     "metadata": {},
     "output_type": "execute_result"
    }
   ],
   "source": [
    "random_cv.best_estimator_"
   ]
  },
  {
   "cell_type": "code",
   "execution_count": 75,
   "metadata": {
    "colab": {
     "base_uri": "https://localhost:8080/"
    },
    "id": "Ych26Xrie_tH",
    "outputId": "f2092e01-b6c1-4448-a40d-b6f496d6b131"
   },
   "outputs": [
    {
     "data": {
      "text/plain": [
       "{'subsample': 1.0,\n",
       " 'n_estimators': 500,\n",
       " 'min_child_weight': 7,\n",
       " 'max_depth': 4,\n",
       " 'learning_rate': 0.15,\n",
       " 'gamma': 0.4,\n",
       " 'colsample_bytree': 0.7}"
      ]
     },
     "execution_count": 75,
     "metadata": {},
     "output_type": "execute_result"
    }
   ],
   "source": [
    "random_cv.best_params_"
   ]
  },
  {
   "cell_type": "code",
   "execution_count": 76,
   "metadata": {
    "colab": {
     "base_uri": "https://localhost:8080/"
    },
    "id": "Va2-IdoBelNa",
    "outputId": "5b3dc019-9b61-41a7-d422-cf65ad3dc0e8"
   },
   "outputs": [
    {
     "data": {
      "text/plain": [
       "0.6982933224062601"
      ]
     },
     "execution_count": 76,
     "metadata": {},
     "output_type": "execute_result"
    }
   ],
   "source": [
    "random_cv.best_score_"
   ]
  },
  {
   "cell_type": "markdown",
   "metadata": {
    "id": "LXzIRY72fMTz"
   },
   "source": [
    "# Part 4: Final model (XGBoost Classifier)"
   ]
  },
  {
   "cell_type": "code",
   "execution_count": 80,
   "metadata": {
    "colab": {
     "base_uri": "https://localhost:8080/"
    },
    "id": "X15X8mZLfQwm",
    "outputId": "e3c2b444-474f-4c41-ebdf-b3740d210855"
   },
   "outputs": [
    {
     "data": {
      "text/html": [
       "<style>#sk-container-id-8 {color: black;background-color: white;}#sk-container-id-8 pre{padding: 0;}#sk-container-id-8 div.sk-toggleable {background-color: white;}#sk-container-id-8 label.sk-toggleable__label {cursor: pointer;display: block;width: 100%;margin-bottom: 0;padding: 0.3em;box-sizing: border-box;text-align: center;}#sk-container-id-8 label.sk-toggleable__label-arrow:before {content: \"▸\";float: left;margin-right: 0.25em;color: #696969;}#sk-container-id-8 label.sk-toggleable__label-arrow:hover:before {color: black;}#sk-container-id-8 div.sk-estimator:hover label.sk-toggleable__label-arrow:before {color: black;}#sk-container-id-8 div.sk-toggleable__content {max-height: 0;max-width: 0;overflow: hidden;text-align: left;background-color: #f0f8ff;}#sk-container-id-8 div.sk-toggleable__content pre {margin: 0.2em;color: black;border-radius: 0.25em;background-color: #f0f8ff;}#sk-container-id-8 input.sk-toggleable__control:checked~div.sk-toggleable__content {max-height: 200px;max-width: 100%;overflow: auto;}#sk-container-id-8 input.sk-toggleable__control:checked~label.sk-toggleable__label-arrow:before {content: \"▾\";}#sk-container-id-8 div.sk-estimator input.sk-toggleable__control:checked~label.sk-toggleable__label {background-color: #d4ebff;}#sk-container-id-8 div.sk-label input.sk-toggleable__control:checked~label.sk-toggleable__label {background-color: #d4ebff;}#sk-container-id-8 input.sk-hidden--visually {border: 0;clip: rect(1px 1px 1px 1px);clip: rect(1px, 1px, 1px, 1px);height: 1px;margin: -1px;overflow: hidden;padding: 0;position: absolute;width: 1px;}#sk-container-id-8 div.sk-estimator {font-family: monospace;background-color: #f0f8ff;border: 1px dotted black;border-radius: 0.25em;box-sizing: border-box;margin-bottom: 0.5em;}#sk-container-id-8 div.sk-estimator:hover {background-color: #d4ebff;}#sk-container-id-8 div.sk-parallel-item::after {content: \"\";width: 100%;border-bottom: 1px solid gray;flex-grow: 1;}#sk-container-id-8 div.sk-label:hover label.sk-toggleable__label {background-color: #d4ebff;}#sk-container-id-8 div.sk-serial::before {content: \"\";position: absolute;border-left: 1px solid gray;box-sizing: border-box;top: 0;bottom: 0;left: 50%;z-index: 0;}#sk-container-id-8 div.sk-serial {display: flex;flex-direction: column;align-items: center;background-color: white;padding-right: 0.2em;padding-left: 0.2em;position: relative;}#sk-container-id-8 div.sk-item {position: relative;z-index: 1;}#sk-container-id-8 div.sk-parallel {display: flex;align-items: stretch;justify-content: center;background-color: white;position: relative;}#sk-container-id-8 div.sk-item::before, #sk-container-id-8 div.sk-parallel-item::before {content: \"\";position: absolute;border-left: 1px solid gray;box-sizing: border-box;top: 0;bottom: 0;left: 50%;z-index: -1;}#sk-container-id-8 div.sk-parallel-item {display: flex;flex-direction: column;z-index: 1;position: relative;background-color: white;}#sk-container-id-8 div.sk-parallel-item:first-child::after {align-self: flex-end;width: 50%;}#sk-container-id-8 div.sk-parallel-item:last-child::after {align-self: flex-start;width: 50%;}#sk-container-id-8 div.sk-parallel-item:only-child::after {width: 0;}#sk-container-id-8 div.sk-dashed-wrapped {border: 1px dashed gray;margin: 0 0.4em 0.5em 0.4em;box-sizing: border-box;padding-bottom: 0.4em;background-color: white;}#sk-container-id-8 div.sk-label label {font-family: monospace;font-weight: bold;display: inline-block;line-height: 1.2em;}#sk-container-id-8 div.sk-label-container {text-align: center;}#sk-container-id-8 div.sk-container {/* jupyter's `normalize.less` sets `[hidden] { display: none; }` but bootstrap.min.css set `[hidden] { display: none !important; }` so we also need the `!important` here to be able to override the default hidden behavior on the sphinx rendered scikit-learn.org. See: https://github.com/scikit-learn/scikit-learn/issues/21755 */display: inline-block !important;position: relative;}#sk-container-id-8 div.sk-text-repr-fallback {display: none;}</style><div id=\"sk-container-id-8\" class=\"sk-top-container\"><div class=\"sk-text-repr-fallback\"><pre>XGBClassifier(base_score=0.5, booster=&#x27;gbtree&#x27;, callbacks=None,\n",
       "              colsample_bylevel=1, colsample_bynode=1, colsample_bytree=0.7,\n",
       "              device=None, early_stopping_rounds=None, enable_categorical=False,\n",
       "              eval_metric=None, feature_types=None, gamma=0.2, grow_policy=None,\n",
       "              importance_type=None, interaction_constraints=None,\n",
       "              learning_rate=0.05, max_bin=None, max_cat_threshold=None,\n",
       "              max_cat_to_onehot=None, max_delta_step=0, max_depth=5,\n",
       "              max_leaves=None, min_child_weight=1, missing=None,\n",
       "              monotone_constraints=None, multi_strategy=None, n_estimators=500,\n",
       "              n_jobs=1, nthread=None, num_parallel_tree=None, ...)</pre><b>In a Jupyter environment, please rerun this cell to show the HTML representation or trust the notebook. <br />On GitHub, the HTML representation is unable to render, please try loading this page with nbviewer.org.</b></div><div class=\"sk-container\" hidden><div class=\"sk-item\"><div class=\"sk-estimator sk-toggleable\"><input class=\"sk-toggleable__control sk-hidden--visually\" id=\"sk-estimator-id-10\" type=\"checkbox\" checked><label for=\"sk-estimator-id-10\" class=\"sk-toggleable__label sk-toggleable__label-arrow\">XGBClassifier</label><div class=\"sk-toggleable__content\"><pre>XGBClassifier(base_score=0.5, booster=&#x27;gbtree&#x27;, callbacks=None,\n",
       "              colsample_bylevel=1, colsample_bynode=1, colsample_bytree=0.7,\n",
       "              device=None, early_stopping_rounds=None, enable_categorical=False,\n",
       "              eval_metric=None, feature_types=None, gamma=0.2, grow_policy=None,\n",
       "              importance_type=None, interaction_constraints=None,\n",
       "              learning_rate=0.05, max_bin=None, max_cat_threshold=None,\n",
       "              max_cat_to_onehot=None, max_delta_step=0, max_depth=5,\n",
       "              max_leaves=None, min_child_weight=1, missing=None,\n",
       "              monotone_constraints=None, multi_strategy=None, n_estimators=500,\n",
       "              n_jobs=1, nthread=None, num_parallel_tree=None, ...)</pre></div></div></div></div></div>"
      ],
      "text/plain": [
       "XGBClassifier(base_score=0.5, booster='gbtree', callbacks=None,\n",
       "              colsample_bylevel=1, colsample_bynode=1, colsample_bytree=0.7,\n",
       "              device=None, early_stopping_rounds=None, enable_categorical=False,\n",
       "              eval_metric=None, feature_types=None, gamma=0.2, grow_policy=None,\n",
       "              importance_type=None, interaction_constraints=None,\n",
       "              learning_rate=0.05, max_bin=None, max_cat_threshold=None,\n",
       "              max_cat_to_onehot=None, max_delta_step=0, max_depth=5,\n",
       "              max_leaves=None, min_child_weight=1, missing=None,\n",
       "              monotone_constraints=None, multi_strategy=None, n_estimators=500,\n",
       "              n_jobs=1, nthread=None, num_parallel_tree=None, ...)"
      ]
     },
     "execution_count": 80,
     "metadata": {},
     "output_type": "execute_result"
    }
   ],
   "source": [
    "from xgboost import XGBClassifier\n",
    "classifier = XGBClassifier(base_score=0.5, booster='gbtree', colsample_bylevel=1,\n",
    "              colsample_bynode=1, colsample_bytree=0.7, gamma=0.2,\n",
    "              learning_rate=0.05, max_delta_step=0, max_depth=5,\n",
    "              min_child_weight=1, missing=None, n_estimators=500, n_jobs=1,\n",
    "              nthread=None, objective='binary:logistic', random_state=0,\n",
    "              reg_alpha=0, reg_lambda=1, scale_pos_weight=1, seed=None,\n",
    "              silent=None, subsample=1.0, verbosity=1)\n",
    "classifier.fit(x_train, y_train)"
   ]
  },
  {
   "cell_type": "code",
   "execution_count": null,
   "metadata": {},
   "outputs": [],
   "source": [
    "y_pred = classifier.predict(x_test)"
   ]
  },
  {
   "cell_type": "code",
   "execution_count": 82,
   "metadata": {
    "colab": {
     "base_uri": "https://localhost:8080/"
    },
    "id": "1qhNEY9DfdJ7",
    "outputId": "44930d70-f335-4572-8599-adb8f2799af1"
   },
   "outputs": [
    {
     "data": {
      "text/plain": [
       "0.6303740926856505"
      ]
     },
     "execution_count": 82,
     "metadata": {},
     "output_type": "execute_result"
    }
   ],
   "source": [
    "from sklearn.metrics import confusion_matrix, accuracy_score\n",
    "accuracy_score(y_test, y_pred)"
   ]
  },
  {
   "cell_type": "code",
   "execution_count": 83,
   "metadata": {
    "colab": {
     "base_uri": "https://localhost:8080/"
    },
    "id": "ky1XpBrhfdhG",
    "outputId": "fd2a1432-4ee2-49f8-882a-74abb711c9df"
   },
   "outputs": [
    {
     "data": {
      "text/plain": [
       "array([[ 932,  722],\n",
       "       [ 602, 1326]], dtype=int64)"
      ]
     },
     "execution_count": 83,
     "metadata": {},
     "output_type": "execute_result"
    }
   ],
   "source": [
    "confusion_matrix(y_test, y_pred)"
   ]
  },
  {
   "cell_type": "markdown",
   "metadata": {
    "id": "uANSk7-bh8ys"
   },
   "source": [
    "# Part 5: Predicting a single observation"
   ]
  },
  {
   "cell_type": "code",
   "execution_count": 84,
   "metadata": {
    "colab": {
     "base_uri": "https://localhost:8080/",
     "height": 249
    },
    "id": "KN66Y0auh9ku",
    "outputId": "707966b9-dd90-452b-e585-368315fd7865"
   },
   "outputs": [
    {
     "data": {
      "text/html": [
       "<div>\n",
       "<style scoped>\n",
       "    .dataframe tbody tr th:only-of-type {\n",
       "        vertical-align: middle;\n",
       "    }\n",
       "\n",
       "    .dataframe tbody tr th {\n",
       "        vertical-align: top;\n",
       "    }\n",
       "\n",
       "    .dataframe thead th {\n",
       "        text-align: right;\n",
       "    }\n",
       "</style>\n",
       "<table border=\"1\" class=\"dataframe\">\n",
       "  <thead>\n",
       "    <tr style=\"text-align: right;\">\n",
       "      <th></th>\n",
       "      <th>entry_id</th>\n",
       "      <th>age</th>\n",
       "      <th>home_owner</th>\n",
       "      <th>income</th>\n",
       "      <th>current_address_year</th>\n",
       "      <th>has_debt</th>\n",
       "      <th>amount_requested</th>\n",
       "      <th>risk_score</th>\n",
       "      <th>risk_score_2</th>\n",
       "      <th>risk_score_3</th>\n",
       "      <th>...</th>\n",
       "      <th>risk_score_5</th>\n",
       "      <th>ext_quality_score</th>\n",
       "      <th>ext_quality_score_2</th>\n",
       "      <th>inquiries_last_month</th>\n",
       "      <th>e_signed</th>\n",
       "      <th>pay_schedule_monthly</th>\n",
       "      <th>pay_schedule_semi-monthly</th>\n",
       "      <th>pay_schedule_weekly</th>\n",
       "      <th>months employeed</th>\n",
       "      <th>personnal account months</th>\n",
       "    </tr>\n",
       "  </thead>\n",
       "  <tbody>\n",
       "    <tr>\n",
       "      <th>0</th>\n",
       "      <td>7629673</td>\n",
       "      <td>40</td>\n",
       "      <td>1</td>\n",
       "      <td>3135</td>\n",
       "      <td>3</td>\n",
       "      <td>1</td>\n",
       "      <td>550</td>\n",
       "      <td>36200</td>\n",
       "      <td>0.737398</td>\n",
       "      <td>0.903517</td>\n",
       "      <td>...</td>\n",
       "      <td>0.515977</td>\n",
       "      <td>0.580918</td>\n",
       "      <td>0.380918</td>\n",
       "      <td>10</td>\n",
       "      <td>1</td>\n",
       "      <td>False</td>\n",
       "      <td>False</td>\n",
       "      <td>False</td>\n",
       "      <td>36</td>\n",
       "      <td>30</td>\n",
       "    </tr>\n",
       "    <tr>\n",
       "      <th>1</th>\n",
       "      <td>3560428</td>\n",
       "      <td>61</td>\n",
       "      <td>0</td>\n",
       "      <td>3180</td>\n",
       "      <td>3</td>\n",
       "      <td>1</td>\n",
       "      <td>600</td>\n",
       "      <td>30150</td>\n",
       "      <td>0.738510</td>\n",
       "      <td>0.881027</td>\n",
       "      <td>...</td>\n",
       "      <td>0.826402</td>\n",
       "      <td>0.730720</td>\n",
       "      <td>0.630720</td>\n",
       "      <td>9</td>\n",
       "      <td>0</td>\n",
       "      <td>False</td>\n",
       "      <td>False</td>\n",
       "      <td>True</td>\n",
       "      <td>72</td>\n",
       "      <td>86</td>\n",
       "    </tr>\n",
       "    <tr>\n",
       "      <th>2</th>\n",
       "      <td>6934997</td>\n",
       "      <td>23</td>\n",
       "      <td>0</td>\n",
       "      <td>1540</td>\n",
       "      <td>0</td>\n",
       "      <td>1</td>\n",
       "      <td>450</td>\n",
       "      <td>34550</td>\n",
       "      <td>0.642993</td>\n",
       "      <td>0.766554</td>\n",
       "      <td>...</td>\n",
       "      <td>0.762284</td>\n",
       "      <td>0.531712</td>\n",
       "      <td>0.531712</td>\n",
       "      <td>7</td>\n",
       "      <td>0</td>\n",
       "      <td>False</td>\n",
       "      <td>False</td>\n",
       "      <td>True</td>\n",
       "      <td>6</td>\n",
       "      <td>19</td>\n",
       "    </tr>\n",
       "    <tr>\n",
       "      <th>3</th>\n",
       "      <td>5682812</td>\n",
       "      <td>40</td>\n",
       "      <td>0</td>\n",
       "      <td>5230</td>\n",
       "      <td>1</td>\n",
       "      <td>1</td>\n",
       "      <td>700</td>\n",
       "      <td>42150</td>\n",
       "      <td>0.665224</td>\n",
       "      <td>0.960832</td>\n",
       "      <td>...</td>\n",
       "      <td>0.778831</td>\n",
       "      <td>0.792552</td>\n",
       "      <td>0.592552</td>\n",
       "      <td>8</td>\n",
       "      <td>1</td>\n",
       "      <td>False</td>\n",
       "      <td>False</td>\n",
       "      <td>False</td>\n",
       "      <td>72</td>\n",
       "      <td>86</td>\n",
       "    </tr>\n",
       "    <tr>\n",
       "      <th>4</th>\n",
       "      <td>5335819</td>\n",
       "      <td>33</td>\n",
       "      <td>0</td>\n",
       "      <td>3590</td>\n",
       "      <td>2</td>\n",
       "      <td>1</td>\n",
       "      <td>1100</td>\n",
       "      <td>53850</td>\n",
       "      <td>0.617361</td>\n",
       "      <td>0.857560</td>\n",
       "      <td>...</td>\n",
       "      <td>0.665523</td>\n",
       "      <td>0.744634</td>\n",
       "      <td>0.744634</td>\n",
       "      <td>12</td>\n",
       "      <td>0</td>\n",
       "      <td>False</td>\n",
       "      <td>True</td>\n",
       "      <td>False</td>\n",
       "      <td>60</td>\n",
       "      <td>98</td>\n",
       "    </tr>\n",
       "  </tbody>\n",
       "</table>\n",
       "<p>5 rows × 21 columns</p>\n",
       "</div>"
      ],
      "text/plain": [
       "   entry_id  age  home_owner  income  current_address_year  has_debt  \\\n",
       "0   7629673   40           1    3135                     3         1   \n",
       "1   3560428   61           0    3180                     3         1   \n",
       "2   6934997   23           0    1540                     0         1   \n",
       "3   5682812   40           0    5230                     1         1   \n",
       "4   5335819   33           0    3590                     2         1   \n",
       "\n",
       "   amount_requested  risk_score  risk_score_2  risk_score_3  ...  \\\n",
       "0               550       36200      0.737398      0.903517  ...   \n",
       "1               600       30150      0.738510      0.881027  ...   \n",
       "2               450       34550      0.642993      0.766554  ...   \n",
       "3               700       42150      0.665224      0.960832  ...   \n",
       "4              1100       53850      0.617361      0.857560  ...   \n",
       "\n",
       "   risk_score_5  ext_quality_score  ext_quality_score_2  inquiries_last_month  \\\n",
       "0      0.515977           0.580918             0.380918                    10   \n",
       "1      0.826402           0.730720             0.630720                     9   \n",
       "2      0.762284           0.531712             0.531712                     7   \n",
       "3      0.778831           0.792552             0.592552                     8   \n",
       "4      0.665523           0.744634             0.744634                    12   \n",
       "\n",
       "   e_signed  pay_schedule_monthly  pay_schedule_semi-monthly  \\\n",
       "0         1                 False                      False   \n",
       "1         0                 False                      False   \n",
       "2         0                 False                      False   \n",
       "3         1                 False                      False   \n",
       "4         0                 False                       True   \n",
       "\n",
       "   pay_schedule_weekly  months employeed  personnal account months  \n",
       "0                False                36                        30  \n",
       "1                 True                72                        86  \n",
       "2                 True                 6                        19  \n",
       "3                False                72                        86  \n",
       "4                False                60                        98  \n",
       "\n",
       "[5 rows x 21 columns]"
      ]
     },
     "execution_count": 84,
     "metadata": {},
     "output_type": "execute_result"
    }
   ],
   "source": [
    "dataset.head()"
   ]
  },
  {
   "cell_type": "code",
   "execution_count": 85,
   "metadata": {
    "id": "XH188s94iaeq"
   },
   "outputs": [],
   "source": [
    "single_obs = [[45, 1, 2500,\t3,\t1,\t600,\t37000,\t0.7373, 0.9035, 0.4877, 0.515977, 0.580918, 0.380918, 10, 0, 0, 0, 36, 30]]"
   ]
  },
  {
   "cell_type": "code",
   "execution_count": null,
   "metadata": {},
   "outputs": [],
   "source": [
    "classifier.predict(sc.transform(single_obs))"
   ]
  }
 ],
 "metadata": {
  "colab": {
   "provenance": []
  },
  "kernelspec": {
   "display_name": "Python 3 (ipykernel)",
   "language": "python",
   "name": "python3"
  },
  "language_info": {
   "codemirror_mode": {
    "name": "ipython",
    "version": 3
   },
   "file_extension": ".py",
   "mimetype": "text/x-python",
   "name": "python",
   "nbconvert_exporter": "python",
   "pygments_lexer": "ipython3",
   "version": "3.11.7"
  }
 },
 "nbformat": 4,
 "nbformat_minor": 4
}
